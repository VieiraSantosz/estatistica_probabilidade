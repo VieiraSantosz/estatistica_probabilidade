{
 "cells": [
  {
   "cell_type": "code",
   "execution_count": 2,
   "metadata": {},
   "outputs": [
    {
     "name": "stdout",
     "output_type": "stream",
     "text": [
      "Requirement already satisfied: pandas in c:\\users\\wesantos\\appdata\\local\\programs\\python\\python312\\lib\\site-packages (2.2.2)\n",
      "Requirement already satisfied: plotly in c:\\users\\wesantos\\appdata\\local\\programs\\python\\python312\\lib\\site-packages (5.22.0)\n",
      "Requirement already satisfied: geopandas in c:\\users\\wesantos\\appdata\\local\\programs\\python\\python312\\lib\\site-packages (0.14.4)\n",
      "Requirement already satisfied: matplotlib in c:\\users\\wesantos\\appdata\\local\\programs\\python\\python312\\lib\\site-packages (3.9.0)\n",
      "Requirement already satisfied: statsmodels in c:\\users\\wesantos\\appdata\\local\\programs\\python\\python312\\lib\\site-packages (0.14.2)\n",
      "Requirement already satisfied: scipy in c:\\users\\wesantos\\appdata\\local\\programs\\python\\python312\\lib\\site-packages (1.13.1)\n",
      "Requirement already satisfied: numpy>=1.26.0 in c:\\users\\wesantos\\appdata\\local\\programs\\python\\python312\\lib\\site-packages (from pandas) (1.26.4)\n",
      "Requirement already satisfied: python-dateutil>=2.8.2 in c:\\users\\wesantos\\appdata\\local\\programs\\python\\python312\\lib\\site-packages (from pandas) (2.9.0.post0)\n",
      "Requirement already satisfied: pytz>=2020.1 in c:\\users\\wesantos\\appdata\\local\\programs\\python\\python312\\lib\\site-packages (from pandas) (2024.1)\n",
      "Requirement already satisfied: tzdata>=2022.7 in c:\\users\\wesantos\\appdata\\local\\programs\\python\\python312\\lib\\site-packages (from pandas) (2024.1)\n",
      "Requirement already satisfied: tenacity>=6.2.0 in c:\\users\\wesantos\\appdata\\local\\programs\\python\\python312\\lib\\site-packages (from plotly) (8.3.0)\n",
      "Requirement already satisfied: packaging in c:\\users\\wesantos\\appdata\\roaming\\python\\python312\\site-packages (from plotly) (24.0)\n",
      "Requirement already satisfied: fiona>=1.8.21 in c:\\users\\wesantos\\appdata\\local\\programs\\python\\python312\\lib\\site-packages (from geopandas) (1.9.6)\n",
      "Requirement already satisfied: pyproj>=3.3.0 in c:\\users\\wesantos\\appdata\\local\\programs\\python\\python312\\lib\\site-packages (from geopandas) (3.6.1)\n",
      "Requirement already satisfied: shapely>=1.8.0 in c:\\users\\wesantos\\appdata\\local\\programs\\python\\python312\\lib\\site-packages (from geopandas) (2.0.4)\n",
      "Requirement already satisfied: contourpy>=1.0.1 in c:\\users\\wesantos\\appdata\\local\\programs\\python\\python312\\lib\\site-packages (from matplotlib) (1.2.1)\n",
      "Requirement already satisfied: cycler>=0.10 in c:\\users\\wesantos\\appdata\\local\\programs\\python\\python312\\lib\\site-packages (from matplotlib) (0.12.1)\n",
      "Requirement already satisfied: fonttools>=4.22.0 in c:\\users\\wesantos\\appdata\\local\\programs\\python\\python312\\lib\\site-packages (from matplotlib) (4.53.0)\n",
      "Requirement already satisfied: kiwisolver>=1.3.1 in c:\\users\\wesantos\\appdata\\local\\programs\\python\\python312\\lib\\site-packages (from matplotlib) (1.4.5)\n",
      "Requirement already satisfied: pillow>=8 in c:\\users\\wesantos\\appdata\\local\\programs\\python\\python312\\lib\\site-packages (from matplotlib) (10.3.0)\n",
      "Requirement already satisfied: pyparsing>=2.3.1 in c:\\users\\wesantos\\appdata\\local\\programs\\python\\python312\\lib\\site-packages (from matplotlib) (3.1.2)\n",
      "Requirement already satisfied: patsy>=0.5.6 in c:\\users\\wesantos\\appdata\\local\\programs\\python\\python312\\lib\\site-packages (from statsmodels) (0.5.6)\n",
      "Requirement already satisfied: attrs>=19.2.0 in c:\\users\\wesantos\\appdata\\local\\programs\\python\\python312\\lib\\site-packages (from fiona>=1.8.21->geopandas) (23.2.0)\n",
      "Requirement already satisfied: certifi in c:\\users\\wesantos\\appdata\\local\\programs\\python\\python312\\lib\\site-packages (from fiona>=1.8.21->geopandas) (2024.6.2)\n",
      "Requirement already satisfied: click~=8.0 in c:\\users\\wesantos\\appdata\\local\\programs\\python\\python312\\lib\\site-packages (from fiona>=1.8.21->geopandas) (8.1.7)\n",
      "Requirement already satisfied: click-plugins>=1.0 in c:\\users\\wesantos\\appdata\\local\\programs\\python\\python312\\lib\\site-packages (from fiona>=1.8.21->geopandas) (1.1.1)\n",
      "Requirement already satisfied: cligj>=0.5 in c:\\users\\wesantos\\appdata\\local\\programs\\python\\python312\\lib\\site-packages (from fiona>=1.8.21->geopandas) (0.7.2)\n",
      "Requirement already satisfied: six in c:\\users\\wesantos\\appdata\\local\\programs\\python\\python312\\lib\\site-packages (from fiona>=1.8.21->geopandas) (1.16.0)\n",
      "Requirement already satisfied: colorama in c:\\users\\wesantos\\appdata\\roaming\\python\\python312\\site-packages (from click~=8.0->fiona>=1.8.21->geopandas) (0.4.6)\n"
     ]
    }
   ],
   "source": [
    "# instalar as bibliotecas necessárias\n",
    "!pip install pandas plotly geopandas matplotlib statsmodels scipy"
   ]
  },
  {
   "cell_type": "code",
   "execution_count": 3,
   "metadata": {},
   "outputs": [],
   "source": [
    "# bibliotecas\n",
    "import pandas as pd\n",
    "import plotly.express as px\n",
    "import geopandas as gpd\n",
    "import matplotlib.pyplot as plt\n",
    "from statsmodels.stats.proportion import proportions_ztest\n",
    "from scipy.stats import chi2_contingency, ttest_ind"
   ]
  },
  {
   "cell_type": "code",
   "execution_count": 4,
   "metadata": {},
   "outputs": [
    {
     "data": {
      "text/html": [
       "<div>\n",
       "<style scoped>\n",
       "    .dataframe tbody tr th:only-of-type {\n",
       "        vertical-align: middle;\n",
       "    }\n",
       "\n",
       "    .dataframe tbody tr th {\n",
       "        vertical-align: top;\n",
       "    }\n",
       "\n",
       "    .dataframe thead th {\n",
       "        text-align: right;\n",
       "    }\n",
       "</style>\n",
       "<table border=\"1\" class=\"dataframe\">\n",
       "  <thead>\n",
       "    <tr style=\"text-align: right;\">\n",
       "      <th></th>\n",
       "      <th>ID</th>\n",
       "      <th>MACRORREG_LPI</th>\n",
       "      <th>COD_UF_LPI</th>\n",
       "      <th>UF_LPI</th>\n",
       "      <th>COD_MUN_LPI</th>\n",
       "      <th>MUN_LPI</th>\n",
       "      <th>SEXO</th>\n",
       "      <th>IDADE</th>\n",
       "      <th>DT_IS</th>\n",
       "      <th>SE_IS</th>\n",
       "      <th>MES_IS</th>\n",
       "      <th>ANO_IS</th>\n",
       "      <th>MONITORAMENTO_IS</th>\n",
       "      <th>OBITO</th>\n",
       "      <th>DT_OBITO</th>\n",
       "    </tr>\n",
       "  </thead>\n",
       "  <tbody>\n",
       "    <tr>\n",
       "      <th>0</th>\n",
       "      <td>1</td>\n",
       "      <td>N</td>\n",
       "      <td>14</td>\n",
       "      <td>RR</td>\n",
       "      <td>140005.0</td>\n",
       "      <td>ALTO ALEGRE</td>\n",
       "      <td>M</td>\n",
       "      <td>NaN</td>\n",
       "      <td>29/11/1994</td>\n",
       "      <td>48.0</td>\n",
       "      <td>11.0</td>\n",
       "      <td>1994</td>\n",
       "      <td>1994/1995</td>\n",
       "      <td>SIM</td>\n",
       "      <td>01/12/1994</td>\n",
       "    </tr>\n",
       "    <tr>\n",
       "      <th>1</th>\n",
       "      <td>2</td>\n",
       "      <td>N</td>\n",
       "      <td>14</td>\n",
       "      <td>RR</td>\n",
       "      <td>140045.0</td>\n",
       "      <td>PACARAIMA</td>\n",
       "      <td>M</td>\n",
       "      <td>19</td>\n",
       "      <td>19/02/1995</td>\n",
       "      <td>8.0</td>\n",
       "      <td>2.0</td>\n",
       "      <td>1995</td>\n",
       "      <td>1994/1995</td>\n",
       "      <td>NÃO</td>\n",
       "      <td>NaN</td>\n",
       "    </tr>\n",
       "    <tr>\n",
       "      <th>2</th>\n",
       "      <td>3</td>\n",
       "      <td>NE</td>\n",
       "      <td>21</td>\n",
       "      <td>MA</td>\n",
       "      <td>210060.0</td>\n",
       "      <td>AMARANTE DO MARANHÃO</td>\n",
       "      <td>M</td>\n",
       "      <td>32</td>\n",
       "      <td>01/04/1995</td>\n",
       "      <td>13.0</td>\n",
       "      <td>4.0</td>\n",
       "      <td>1995</td>\n",
       "      <td>1994/1995</td>\n",
       "      <td>IGN</td>\n",
       "      <td>NaN</td>\n",
       "    </tr>\n",
       "    <tr>\n",
       "      <th>3</th>\n",
       "      <td>4</td>\n",
       "      <td>NE</td>\n",
       "      <td>21</td>\n",
       "      <td>MA</td>\n",
       "      <td>210060.0</td>\n",
       "      <td>AMARANTE DO MARANHÃO</td>\n",
       "      <td>M</td>\n",
       "      <td>33</td>\n",
       "      <td>03/04/1995</td>\n",
       "      <td>14.0</td>\n",
       "      <td>4.0</td>\n",
       "      <td>1995</td>\n",
       "      <td>1994/1995</td>\n",
       "      <td>SIM</td>\n",
       "      <td>09/04/1995</td>\n",
       "    </tr>\n",
       "    <tr>\n",
       "      <th>4</th>\n",
       "      <td>5</td>\n",
       "      <td>N</td>\n",
       "      <td>15</td>\n",
       "      <td>PA</td>\n",
       "      <td>150270.0</td>\n",
       "      <td>CONCEIÇÃO DO ARAGUAIA</td>\n",
       "      <td>M</td>\n",
       "      <td>26</td>\n",
       "      <td>12/04/1995</td>\n",
       "      <td>15.0</td>\n",
       "      <td>4.0</td>\n",
       "      <td>1995</td>\n",
       "      <td>1994/1995</td>\n",
       "      <td>SIM</td>\n",
       "      <td>20/04/1995</td>\n",
       "    </tr>\n",
       "    <tr>\n",
       "      <th>...</th>\n",
       "      <td>...</td>\n",
       "      <td>...</td>\n",
       "      <td>...</td>\n",
       "      <td>...</td>\n",
       "      <td>...</td>\n",
       "      <td>...</td>\n",
       "      <td>...</td>\n",
       "      <td>...</td>\n",
       "      <td>...</td>\n",
       "      <td>...</td>\n",
       "      <td>...</td>\n",
       "      <td>...</td>\n",
       "      <td>...</td>\n",
       "      <td>...</td>\n",
       "      <td>...</td>\n",
       "    </tr>\n",
       "    <tr>\n",
       "      <th>2763</th>\n",
       "      <td>2764</td>\n",
       "      <td>N</td>\n",
       "      <td>13</td>\n",
       "      <td>AM</td>\n",
       "      <td>130280.0</td>\n",
       "      <td>MARAÃ</td>\n",
       "      <td>M</td>\n",
       "      <td>12</td>\n",
       "      <td>14/02/2023</td>\n",
       "      <td>7.0</td>\n",
       "      <td>2.0</td>\n",
       "      <td>2023</td>\n",
       "      <td>2022/2023</td>\n",
       "      <td>NÃO</td>\n",
       "      <td>NaN</td>\n",
       "    </tr>\n",
       "    <tr>\n",
       "      <th>2764</th>\n",
       "      <td>2765</td>\n",
       "      <td>N</td>\n",
       "      <td>13</td>\n",
       "      <td>AM</td>\n",
       "      <td>130250.0</td>\n",
       "      <td>MANACAPURU</td>\n",
       "      <td>M</td>\n",
       "      <td>16</td>\n",
       "      <td>02/04/2023</td>\n",
       "      <td>14.0</td>\n",
       "      <td>4.0</td>\n",
       "      <td>2023</td>\n",
       "      <td>2022/2023</td>\n",
       "      <td>SIM</td>\n",
       "      <td>13/04/2023</td>\n",
       "    </tr>\n",
       "    <tr>\n",
       "      <th>2765</th>\n",
       "      <td>2766</td>\n",
       "      <td>SE</td>\n",
       "      <td>35</td>\n",
       "      <td>SP</td>\n",
       "      <td>355080.0</td>\n",
       "      <td>SÃO SEBASTIÃO DA GRAMA</td>\n",
       "      <td>M</td>\n",
       "      <td>44</td>\n",
       "      <td>18/02/2023</td>\n",
       "      <td>7.0</td>\n",
       "      <td>2.0</td>\n",
       "      <td>2023</td>\n",
       "      <td>2022/2023</td>\n",
       "      <td>NÃO</td>\n",
       "      <td>NaN</td>\n",
       "    </tr>\n",
       "    <tr>\n",
       "      <th>2766</th>\n",
       "      <td>2767</td>\n",
       "      <td>SE</td>\n",
       "      <td>35</td>\n",
       "      <td>SP</td>\n",
       "      <td>354910.0</td>\n",
       "      <td>SÃO JOÃO DA BOA VISTA</td>\n",
       "      <td>M</td>\n",
       "      <td>44</td>\n",
       "      <td>25/04/2023</td>\n",
       "      <td>17.0</td>\n",
       "      <td>4.0</td>\n",
       "      <td>2023</td>\n",
       "      <td>2022/2023</td>\n",
       "      <td>SIM</td>\n",
       "      <td>30/04/2023</td>\n",
       "    </tr>\n",
       "    <tr>\n",
       "      <th>2767</th>\n",
       "      <td>2768</td>\n",
       "      <td>N</td>\n",
       "      <td>14</td>\n",
       "      <td>RR</td>\n",
       "      <td>140047.0</td>\n",
       "      <td>RORAINÓPOLIS</td>\n",
       "      <td>M</td>\n",
       "      <td>38</td>\n",
       "      <td>27/08/2023</td>\n",
       "      <td>35.0</td>\n",
       "      <td>8.0</td>\n",
       "      <td>2023</td>\n",
       "      <td>2023/2024</td>\n",
       "      <td>SIM</td>\n",
       "      <td>31/08/2023</td>\n",
       "    </tr>\n",
       "  </tbody>\n",
       "</table>\n",
       "<p>2768 rows × 15 columns</p>\n",
       "</div>"
      ],
      "text/plain": [
       "        ID MACRORREG_LPI  COD_UF_LPI UF_LPI  COD_MUN_LPI  \\\n",
       "0        1             N          14     RR     140005.0   \n",
       "1        2             N          14     RR     140045.0   \n",
       "2        3            NE          21     MA     210060.0   \n",
       "3        4            NE          21     MA     210060.0   \n",
       "4        5             N          15     PA     150270.0   \n",
       "...    ...           ...         ...    ...          ...   \n",
       "2763  2764             N          13     AM     130280.0   \n",
       "2764  2765             N          13     AM     130250.0   \n",
       "2765  2766            SE          35     SP     355080.0   \n",
       "2766  2767            SE          35     SP     354910.0   \n",
       "2767  2768             N          14     RR     140047.0   \n",
       "\n",
       "                     MUN_LPI SEXO IDADE       DT_IS  SE_IS  MES_IS  ANO_IS  \\\n",
       "0                ALTO ALEGRE    M   NaN  29/11/1994   48.0    11.0    1994   \n",
       "1                  PACARAIMA    M    19  19/02/1995    8.0     2.0    1995   \n",
       "2       AMARANTE DO MARANHÃO    M    32  01/04/1995   13.0     4.0    1995   \n",
       "3       AMARANTE DO MARANHÃO    M    33  03/04/1995   14.0     4.0    1995   \n",
       "4      CONCEIÇÃO DO ARAGUAIA    M    26  12/04/1995   15.0     4.0    1995   \n",
       "...                      ...  ...   ...         ...    ...     ...     ...   \n",
       "2763                   MARAÃ    M    12  14/02/2023    7.0     2.0    2023   \n",
       "2764              MANACAPURU    M    16  02/04/2023   14.0     4.0    2023   \n",
       "2765  SÃO SEBASTIÃO DA GRAMA    M    44  18/02/2023    7.0     2.0    2023   \n",
       "2766   SÃO JOÃO DA BOA VISTA    M    44  25/04/2023   17.0     4.0    2023   \n",
       "2767            RORAINÓPOLIS    M    38  27/08/2023   35.0     8.0    2023   \n",
       "\n",
       "     MONITORAMENTO_IS OBITO    DT_OBITO  \n",
       "0           1994/1995   SIM  01/12/1994  \n",
       "1           1994/1995   NÃO         NaN  \n",
       "2           1994/1995   IGN         NaN  \n",
       "3           1994/1995   SIM  09/04/1995  \n",
       "4           1994/1995   SIM  20/04/1995  \n",
       "...               ...   ...         ...  \n",
       "2763        2022/2023   NÃO         NaN  \n",
       "2764        2022/2023   SIM  13/04/2023  \n",
       "2765        2022/2023   NÃO         NaN  \n",
       "2766        2022/2023   SIM  30/04/2023  \n",
       "2767        2023/2024   SIM  31/08/2023  \n",
       "\n",
       "[2768 rows x 15 columns]"
      ]
     },
     "metadata": {},
     "output_type": "display_data"
    }
   ],
   "source": [
    "# 1. importar a tabela de dados dos casos da Febre Amarela\n",
    "df_febre_amarela = pd.read_csv('fa_casoshumanos.csv', sep=';', encoding='latin-1')\n",
    "\n",
    "display(df_febre_amarela)"
   ]
  },
  {
   "cell_type": "code",
   "execution_count": 5,
   "metadata": {},
   "outputs": [
    {
     "data": {
      "text/html": [
       "<div>\n",
       "<style scoped>\n",
       "    .dataframe tbody tr th:only-of-type {\n",
       "        vertical-align: middle;\n",
       "    }\n",
       "\n",
       "    .dataframe tbody tr th {\n",
       "        vertical-align: top;\n",
       "    }\n",
       "\n",
       "    .dataframe thead th {\n",
       "        text-align: right;\n",
       "    }\n",
       "</style>\n",
       "<table border=\"1\" class=\"dataframe\">\n",
       "  <thead>\n",
       "    <tr style=\"text-align: right;\">\n",
       "      <th></th>\n",
       "      <th>MACRORREG_LPI</th>\n",
       "      <th>UF_LPI</th>\n",
       "      <th>SEXO</th>\n",
       "      <th>IDADE</th>\n",
       "    </tr>\n",
       "  </thead>\n",
       "  <tbody>\n",
       "    <tr>\n",
       "      <th>0</th>\n",
       "      <td>N</td>\n",
       "      <td>RR</td>\n",
       "      <td>M</td>\n",
       "      <td>NaN</td>\n",
       "    </tr>\n",
       "    <tr>\n",
       "      <th>1</th>\n",
       "      <td>N</td>\n",
       "      <td>RR</td>\n",
       "      <td>M</td>\n",
       "      <td>19</td>\n",
       "    </tr>\n",
       "    <tr>\n",
       "      <th>2</th>\n",
       "      <td>NE</td>\n",
       "      <td>MA</td>\n",
       "      <td>M</td>\n",
       "      <td>32</td>\n",
       "    </tr>\n",
       "    <tr>\n",
       "      <th>3</th>\n",
       "      <td>NE</td>\n",
       "      <td>MA</td>\n",
       "      <td>M</td>\n",
       "      <td>33</td>\n",
       "    </tr>\n",
       "    <tr>\n",
       "      <th>4</th>\n",
       "      <td>N</td>\n",
       "      <td>PA</td>\n",
       "      <td>M</td>\n",
       "      <td>26</td>\n",
       "    </tr>\n",
       "    <tr>\n",
       "      <th>...</th>\n",
       "      <td>...</td>\n",
       "      <td>...</td>\n",
       "      <td>...</td>\n",
       "      <td>...</td>\n",
       "    </tr>\n",
       "    <tr>\n",
       "      <th>2763</th>\n",
       "      <td>N</td>\n",
       "      <td>AM</td>\n",
       "      <td>M</td>\n",
       "      <td>12</td>\n",
       "    </tr>\n",
       "    <tr>\n",
       "      <th>2764</th>\n",
       "      <td>N</td>\n",
       "      <td>AM</td>\n",
       "      <td>M</td>\n",
       "      <td>16</td>\n",
       "    </tr>\n",
       "    <tr>\n",
       "      <th>2765</th>\n",
       "      <td>SE</td>\n",
       "      <td>SP</td>\n",
       "      <td>M</td>\n",
       "      <td>44</td>\n",
       "    </tr>\n",
       "    <tr>\n",
       "      <th>2766</th>\n",
       "      <td>SE</td>\n",
       "      <td>SP</td>\n",
       "      <td>M</td>\n",
       "      <td>44</td>\n",
       "    </tr>\n",
       "    <tr>\n",
       "      <th>2767</th>\n",
       "      <td>N</td>\n",
       "      <td>RR</td>\n",
       "      <td>M</td>\n",
       "      <td>38</td>\n",
       "    </tr>\n",
       "  </tbody>\n",
       "</table>\n",
       "<p>2768 rows × 4 columns</p>\n",
       "</div>"
      ],
      "text/plain": [
       "     MACRORREG_LPI UF_LPI SEXO IDADE\n",
       "0                N     RR    M   NaN\n",
       "1                N     RR    M    19\n",
       "2               NE     MA    M    32\n",
       "3               NE     MA    M    33\n",
       "4                N     PA    M    26\n",
       "...            ...    ...  ...   ...\n",
       "2763             N     AM    M    12\n",
       "2764             N     AM    M    16\n",
       "2765            SE     SP    M    44\n",
       "2766            SE     SP    M    44\n",
       "2767             N     RR    M    38\n",
       "\n",
       "[2768 rows x 4 columns]"
      ]
     },
     "metadata": {},
     "output_type": "display_data"
    }
   ],
   "source": [
    "# 2. apagar as colunas que não serão utilizadas para análise\n",
    "df_febre_amarela = df_febre_amarela.drop(columns=['ID', 'COD_UF_LPI', 'COD_MUN_LPI', 'DT_IS', 'MONITORAMENTO_IS', 'MUN_LPI', 'SE_IS', 'MES_IS', 'ANO_IS', 'OBITO', 'DT_OBITO']).copy()\n",
    "\n",
    "display(df_febre_amarela)"
   ]
  },
  {
   "cell_type": "code",
   "execution_count": 6,
   "metadata": {},
   "outputs": [
    {
     "data": {
      "text/html": [
       "<div>\n",
       "<style scoped>\n",
       "    .dataframe tbody tr th:only-of-type {\n",
       "        vertical-align: middle;\n",
       "    }\n",
       "\n",
       "    .dataframe tbody tr th {\n",
       "        vertical-align: top;\n",
       "    }\n",
       "\n",
       "    .dataframe thead th {\n",
       "        text-align: right;\n",
       "    }\n",
       "</style>\n",
       "<table border=\"1\" class=\"dataframe\">\n",
       "  <thead>\n",
       "    <tr style=\"text-align: right;\">\n",
       "      <th></th>\n",
       "      <th>REGIAO</th>\n",
       "      <th>UF</th>\n",
       "      <th>SEXO</th>\n",
       "      <th>IDADE</th>\n",
       "    </tr>\n",
       "  </thead>\n",
       "  <tbody>\n",
       "    <tr>\n",
       "      <th>0</th>\n",
       "      <td>N</td>\n",
       "      <td>RR</td>\n",
       "      <td>M</td>\n",
       "      <td>NaN</td>\n",
       "    </tr>\n",
       "    <tr>\n",
       "      <th>1</th>\n",
       "      <td>N</td>\n",
       "      <td>RR</td>\n",
       "      <td>M</td>\n",
       "      <td>19</td>\n",
       "    </tr>\n",
       "    <tr>\n",
       "      <th>2</th>\n",
       "      <td>NE</td>\n",
       "      <td>MA</td>\n",
       "      <td>M</td>\n",
       "      <td>32</td>\n",
       "    </tr>\n",
       "    <tr>\n",
       "      <th>3</th>\n",
       "      <td>NE</td>\n",
       "      <td>MA</td>\n",
       "      <td>M</td>\n",
       "      <td>33</td>\n",
       "    </tr>\n",
       "    <tr>\n",
       "      <th>4</th>\n",
       "      <td>N</td>\n",
       "      <td>PA</td>\n",
       "      <td>M</td>\n",
       "      <td>26</td>\n",
       "    </tr>\n",
       "    <tr>\n",
       "      <th>...</th>\n",
       "      <td>...</td>\n",
       "      <td>...</td>\n",
       "      <td>...</td>\n",
       "      <td>...</td>\n",
       "    </tr>\n",
       "    <tr>\n",
       "      <th>2763</th>\n",
       "      <td>N</td>\n",
       "      <td>AM</td>\n",
       "      <td>M</td>\n",
       "      <td>12</td>\n",
       "    </tr>\n",
       "    <tr>\n",
       "      <th>2764</th>\n",
       "      <td>N</td>\n",
       "      <td>AM</td>\n",
       "      <td>M</td>\n",
       "      <td>16</td>\n",
       "    </tr>\n",
       "    <tr>\n",
       "      <th>2765</th>\n",
       "      <td>SE</td>\n",
       "      <td>SP</td>\n",
       "      <td>M</td>\n",
       "      <td>44</td>\n",
       "    </tr>\n",
       "    <tr>\n",
       "      <th>2766</th>\n",
       "      <td>SE</td>\n",
       "      <td>SP</td>\n",
       "      <td>M</td>\n",
       "      <td>44</td>\n",
       "    </tr>\n",
       "    <tr>\n",
       "      <th>2767</th>\n",
       "      <td>N</td>\n",
       "      <td>RR</td>\n",
       "      <td>M</td>\n",
       "      <td>38</td>\n",
       "    </tr>\n",
       "  </tbody>\n",
       "</table>\n",
       "<p>2768 rows × 4 columns</p>\n",
       "</div>"
      ],
      "text/plain": [
       "     REGIAO  UF SEXO IDADE\n",
       "0         N  RR    M   NaN\n",
       "1         N  RR    M    19\n",
       "2        NE  MA    M    32\n",
       "3        NE  MA    M    33\n",
       "4         N  PA    M    26\n",
       "...     ...  ..  ...   ...\n",
       "2763      N  AM    M    12\n",
       "2764      N  AM    M    16\n",
       "2765     SE  SP    M    44\n",
       "2766     SE  SP    M    44\n",
       "2767      N  RR    M    38\n",
       "\n",
       "[2768 rows x 4 columns]"
      ]
     },
     "metadata": {},
     "output_type": "display_data"
    }
   ],
   "source": [
    "# 3. renomear as colunas que vão ser usadas para análise\n",
    "df_febre_amarela.columns = ['REGIAO', 'UF', 'SEXO', 'IDADE']\n",
    "\n",
    "display(df_febre_amarela)"
   ]
  },
  {
   "cell_type": "code",
   "execution_count": 7,
   "metadata": {},
   "outputs": [
    {
     "data": {
      "application/vnd.plotly.v1+json": {
       "config": {
        "plotlyServerURL": "https://plot.ly"
       },
       "data": [
        {
         "alignmentgroup": "True",
         "hovertemplate": "x=%{x}<br>y=%{y}<br>text=%{text}<extra></extra>",
         "legendgroup": "",
         "marker": {
          "color": "#636efa",
          "pattern": {
           "shape": ""
          }
         },
         "name": "",
         "offsetgroup": "",
         "orientation": "v",
         "showlegend": false,
         "text": [
          85.04335260115607,
          6.972543352601155,
          5.310693641618497,
          2.239884393063584,
          0.4335260115606936
         ],
         "textposition": "outside",
         "texttemplate": "%{text:.2f}%",
         "type": "bar",
         "x": [
          "SE",
          "N",
          "CO",
          "S",
          "NE"
         ],
         "xaxis": "x",
         "y": [
          85.04335260115607,
          6.972543352601155,
          5.310693641618497,
          2.239884393063584,
          0.4335260115606936
         ],
         "yaxis": "y"
        }
       ],
       "layout": {
        "barmode": "relative",
        "legend": {
         "tracegroupgap": 0
        },
        "margin": {
         "t": 60
        },
        "template": {
         "data": {
          "bar": [
           {
            "error_x": {
             "color": "#2a3f5f"
            },
            "error_y": {
             "color": "#2a3f5f"
            },
            "marker": {
             "line": {
              "color": "#E5ECF6",
              "width": 0.5
             },
             "pattern": {
              "fillmode": "overlay",
              "size": 10,
              "solidity": 0.2
             }
            },
            "type": "bar"
           }
          ],
          "barpolar": [
           {
            "marker": {
             "line": {
              "color": "#E5ECF6",
              "width": 0.5
             },
             "pattern": {
              "fillmode": "overlay",
              "size": 10,
              "solidity": 0.2
             }
            },
            "type": "barpolar"
           }
          ],
          "carpet": [
           {
            "aaxis": {
             "endlinecolor": "#2a3f5f",
             "gridcolor": "white",
             "linecolor": "white",
             "minorgridcolor": "white",
             "startlinecolor": "#2a3f5f"
            },
            "baxis": {
             "endlinecolor": "#2a3f5f",
             "gridcolor": "white",
             "linecolor": "white",
             "minorgridcolor": "white",
             "startlinecolor": "#2a3f5f"
            },
            "type": "carpet"
           }
          ],
          "choropleth": [
           {
            "colorbar": {
             "outlinewidth": 0,
             "ticks": ""
            },
            "type": "choropleth"
           }
          ],
          "contour": [
           {
            "colorbar": {
             "outlinewidth": 0,
             "ticks": ""
            },
            "colorscale": [
             [
              0,
              "#0d0887"
             ],
             [
              0.1111111111111111,
              "#46039f"
             ],
             [
              0.2222222222222222,
              "#7201a8"
             ],
             [
              0.3333333333333333,
              "#9c179e"
             ],
             [
              0.4444444444444444,
              "#bd3786"
             ],
             [
              0.5555555555555556,
              "#d8576b"
             ],
             [
              0.6666666666666666,
              "#ed7953"
             ],
             [
              0.7777777777777778,
              "#fb9f3a"
             ],
             [
              0.8888888888888888,
              "#fdca26"
             ],
             [
              1,
              "#f0f921"
             ]
            ],
            "type": "contour"
           }
          ],
          "contourcarpet": [
           {
            "colorbar": {
             "outlinewidth": 0,
             "ticks": ""
            },
            "type": "contourcarpet"
           }
          ],
          "heatmap": [
           {
            "colorbar": {
             "outlinewidth": 0,
             "ticks": ""
            },
            "colorscale": [
             [
              0,
              "#0d0887"
             ],
             [
              0.1111111111111111,
              "#46039f"
             ],
             [
              0.2222222222222222,
              "#7201a8"
             ],
             [
              0.3333333333333333,
              "#9c179e"
             ],
             [
              0.4444444444444444,
              "#bd3786"
             ],
             [
              0.5555555555555556,
              "#d8576b"
             ],
             [
              0.6666666666666666,
              "#ed7953"
             ],
             [
              0.7777777777777778,
              "#fb9f3a"
             ],
             [
              0.8888888888888888,
              "#fdca26"
             ],
             [
              1,
              "#f0f921"
             ]
            ],
            "type": "heatmap"
           }
          ],
          "heatmapgl": [
           {
            "colorbar": {
             "outlinewidth": 0,
             "ticks": ""
            },
            "colorscale": [
             [
              0,
              "#0d0887"
             ],
             [
              0.1111111111111111,
              "#46039f"
             ],
             [
              0.2222222222222222,
              "#7201a8"
             ],
             [
              0.3333333333333333,
              "#9c179e"
             ],
             [
              0.4444444444444444,
              "#bd3786"
             ],
             [
              0.5555555555555556,
              "#d8576b"
             ],
             [
              0.6666666666666666,
              "#ed7953"
             ],
             [
              0.7777777777777778,
              "#fb9f3a"
             ],
             [
              0.8888888888888888,
              "#fdca26"
             ],
             [
              1,
              "#f0f921"
             ]
            ],
            "type": "heatmapgl"
           }
          ],
          "histogram": [
           {
            "marker": {
             "pattern": {
              "fillmode": "overlay",
              "size": 10,
              "solidity": 0.2
             }
            },
            "type": "histogram"
           }
          ],
          "histogram2d": [
           {
            "colorbar": {
             "outlinewidth": 0,
             "ticks": ""
            },
            "colorscale": [
             [
              0,
              "#0d0887"
             ],
             [
              0.1111111111111111,
              "#46039f"
             ],
             [
              0.2222222222222222,
              "#7201a8"
             ],
             [
              0.3333333333333333,
              "#9c179e"
             ],
             [
              0.4444444444444444,
              "#bd3786"
             ],
             [
              0.5555555555555556,
              "#d8576b"
             ],
             [
              0.6666666666666666,
              "#ed7953"
             ],
             [
              0.7777777777777778,
              "#fb9f3a"
             ],
             [
              0.8888888888888888,
              "#fdca26"
             ],
             [
              1,
              "#f0f921"
             ]
            ],
            "type": "histogram2d"
           }
          ],
          "histogram2dcontour": [
           {
            "colorbar": {
             "outlinewidth": 0,
             "ticks": ""
            },
            "colorscale": [
             [
              0,
              "#0d0887"
             ],
             [
              0.1111111111111111,
              "#46039f"
             ],
             [
              0.2222222222222222,
              "#7201a8"
             ],
             [
              0.3333333333333333,
              "#9c179e"
             ],
             [
              0.4444444444444444,
              "#bd3786"
             ],
             [
              0.5555555555555556,
              "#d8576b"
             ],
             [
              0.6666666666666666,
              "#ed7953"
             ],
             [
              0.7777777777777778,
              "#fb9f3a"
             ],
             [
              0.8888888888888888,
              "#fdca26"
             ],
             [
              1,
              "#f0f921"
             ]
            ],
            "type": "histogram2dcontour"
           }
          ],
          "mesh3d": [
           {
            "colorbar": {
             "outlinewidth": 0,
             "ticks": ""
            },
            "type": "mesh3d"
           }
          ],
          "parcoords": [
           {
            "line": {
             "colorbar": {
              "outlinewidth": 0,
              "ticks": ""
             }
            },
            "type": "parcoords"
           }
          ],
          "pie": [
           {
            "automargin": true,
            "type": "pie"
           }
          ],
          "scatter": [
           {
            "fillpattern": {
             "fillmode": "overlay",
             "size": 10,
             "solidity": 0.2
            },
            "type": "scatter"
           }
          ],
          "scatter3d": [
           {
            "line": {
             "colorbar": {
              "outlinewidth": 0,
              "ticks": ""
             }
            },
            "marker": {
             "colorbar": {
              "outlinewidth": 0,
              "ticks": ""
             }
            },
            "type": "scatter3d"
           }
          ],
          "scattercarpet": [
           {
            "marker": {
             "colorbar": {
              "outlinewidth": 0,
              "ticks": ""
             }
            },
            "type": "scattercarpet"
           }
          ],
          "scattergeo": [
           {
            "marker": {
             "colorbar": {
              "outlinewidth": 0,
              "ticks": ""
             }
            },
            "type": "scattergeo"
           }
          ],
          "scattergl": [
           {
            "marker": {
             "colorbar": {
              "outlinewidth": 0,
              "ticks": ""
             }
            },
            "type": "scattergl"
           }
          ],
          "scattermapbox": [
           {
            "marker": {
             "colorbar": {
              "outlinewidth": 0,
              "ticks": ""
             }
            },
            "type": "scattermapbox"
           }
          ],
          "scatterpolar": [
           {
            "marker": {
             "colorbar": {
              "outlinewidth": 0,
              "ticks": ""
             }
            },
            "type": "scatterpolar"
           }
          ],
          "scatterpolargl": [
           {
            "marker": {
             "colorbar": {
              "outlinewidth": 0,
              "ticks": ""
             }
            },
            "type": "scatterpolargl"
           }
          ],
          "scatterternary": [
           {
            "marker": {
             "colorbar": {
              "outlinewidth": 0,
              "ticks": ""
             }
            },
            "type": "scatterternary"
           }
          ],
          "surface": [
           {
            "colorbar": {
             "outlinewidth": 0,
             "ticks": ""
            },
            "colorscale": [
             [
              0,
              "#0d0887"
             ],
             [
              0.1111111111111111,
              "#46039f"
             ],
             [
              0.2222222222222222,
              "#7201a8"
             ],
             [
              0.3333333333333333,
              "#9c179e"
             ],
             [
              0.4444444444444444,
              "#bd3786"
             ],
             [
              0.5555555555555556,
              "#d8576b"
             ],
             [
              0.6666666666666666,
              "#ed7953"
             ],
             [
              0.7777777777777778,
              "#fb9f3a"
             ],
             [
              0.8888888888888888,
              "#fdca26"
             ],
             [
              1,
              "#f0f921"
             ]
            ],
            "type": "surface"
           }
          ],
          "table": [
           {
            "cells": {
             "fill": {
              "color": "#EBF0F8"
             },
             "line": {
              "color": "white"
             }
            },
            "header": {
             "fill": {
              "color": "#C8D4E3"
             },
             "line": {
              "color": "white"
             }
            },
            "type": "table"
           }
          ]
         },
         "layout": {
          "annotationdefaults": {
           "arrowcolor": "#2a3f5f",
           "arrowhead": 0,
           "arrowwidth": 1
          },
          "autotypenumbers": "strict",
          "coloraxis": {
           "colorbar": {
            "outlinewidth": 0,
            "ticks": ""
           }
          },
          "colorscale": {
           "diverging": [
            [
             0,
             "#8e0152"
            ],
            [
             0.1,
             "#c51b7d"
            ],
            [
             0.2,
             "#de77ae"
            ],
            [
             0.3,
             "#f1b6da"
            ],
            [
             0.4,
             "#fde0ef"
            ],
            [
             0.5,
             "#f7f7f7"
            ],
            [
             0.6,
             "#e6f5d0"
            ],
            [
             0.7,
             "#b8e186"
            ],
            [
             0.8,
             "#7fbc41"
            ],
            [
             0.9,
             "#4d9221"
            ],
            [
             1,
             "#276419"
            ]
           ],
           "sequential": [
            [
             0,
             "#0d0887"
            ],
            [
             0.1111111111111111,
             "#46039f"
            ],
            [
             0.2222222222222222,
             "#7201a8"
            ],
            [
             0.3333333333333333,
             "#9c179e"
            ],
            [
             0.4444444444444444,
             "#bd3786"
            ],
            [
             0.5555555555555556,
             "#d8576b"
            ],
            [
             0.6666666666666666,
             "#ed7953"
            ],
            [
             0.7777777777777778,
             "#fb9f3a"
            ],
            [
             0.8888888888888888,
             "#fdca26"
            ],
            [
             1,
             "#f0f921"
            ]
           ],
           "sequentialminus": [
            [
             0,
             "#0d0887"
            ],
            [
             0.1111111111111111,
             "#46039f"
            ],
            [
             0.2222222222222222,
             "#7201a8"
            ],
            [
             0.3333333333333333,
             "#9c179e"
            ],
            [
             0.4444444444444444,
             "#bd3786"
            ],
            [
             0.5555555555555556,
             "#d8576b"
            ],
            [
             0.6666666666666666,
             "#ed7953"
            ],
            [
             0.7777777777777778,
             "#fb9f3a"
            ],
            [
             0.8888888888888888,
             "#fdca26"
            ],
            [
             1,
             "#f0f921"
            ]
           ]
          },
          "colorway": [
           "#636efa",
           "#EF553B",
           "#00cc96",
           "#ab63fa",
           "#FFA15A",
           "#19d3f3",
           "#FF6692",
           "#B6E880",
           "#FF97FF",
           "#FECB52"
          ],
          "font": {
           "color": "#2a3f5f"
          },
          "geo": {
           "bgcolor": "white",
           "lakecolor": "white",
           "landcolor": "#E5ECF6",
           "showlakes": true,
           "showland": true,
           "subunitcolor": "white"
          },
          "hoverlabel": {
           "align": "left"
          },
          "hovermode": "closest",
          "mapbox": {
           "style": "light"
          },
          "paper_bgcolor": "white",
          "plot_bgcolor": "#E5ECF6",
          "polar": {
           "angularaxis": {
            "gridcolor": "white",
            "linecolor": "white",
            "ticks": ""
           },
           "bgcolor": "#E5ECF6",
           "radialaxis": {
            "gridcolor": "white",
            "linecolor": "white",
            "ticks": ""
           }
          },
          "scene": {
           "xaxis": {
            "backgroundcolor": "#E5ECF6",
            "gridcolor": "white",
            "gridwidth": 2,
            "linecolor": "white",
            "showbackground": true,
            "ticks": "",
            "zerolinecolor": "white"
           },
           "yaxis": {
            "backgroundcolor": "#E5ECF6",
            "gridcolor": "white",
            "gridwidth": 2,
            "linecolor": "white",
            "showbackground": true,
            "ticks": "",
            "zerolinecolor": "white"
           },
           "zaxis": {
            "backgroundcolor": "#E5ECF6",
            "gridcolor": "white",
            "gridwidth": 2,
            "linecolor": "white",
            "showbackground": true,
            "ticks": "",
            "zerolinecolor": "white"
           }
          },
          "shapedefaults": {
           "line": {
            "color": "#2a3f5f"
           }
          },
          "ternary": {
           "aaxis": {
            "gridcolor": "white",
            "linecolor": "white",
            "ticks": ""
           },
           "baxis": {
            "gridcolor": "white",
            "linecolor": "white",
            "ticks": ""
           },
           "bgcolor": "#E5ECF6",
           "caxis": {
            "gridcolor": "white",
            "linecolor": "white",
            "ticks": ""
           }
          },
          "title": {
           "x": 0.05
          },
          "xaxis": {
           "automargin": true,
           "gridcolor": "white",
           "linecolor": "white",
           "ticks": "",
           "title": {
            "standoff": 15
           },
           "zerolinecolor": "white",
           "zerolinewidth": 2
          },
          "yaxis": {
           "automargin": true,
           "gridcolor": "white",
           "linecolor": "white",
           "ticks": "",
           "title": {
            "standoff": 15
           },
           "zerolinecolor": "white",
           "zerolinewidth": 2
          }
         }
        },
        "xaxis": {
         "anchor": "y",
         "domain": [
          0,
          1
         ],
         "title": {
          "text": "x"
         }
        },
        "yaxis": {
         "anchor": "x",
         "domain": [
          0,
          1
         ],
         "title": {
          "text": "y"
         }
        }
       }
      }
     },
     "metadata": {},
     "output_type": "display_data"
    }
   ],
   "source": [
    "# 4. análise da coluna 'REGIAO'\n",
    "counts = df_febre_amarela['REGIAO'].value_counts()\n",
    "porcentagens = counts / counts.sum() * 100\n",
    "\n",
    "# criação do histograma das Regiões\n",
    "grafico = px.bar(x=porcentagens.index, y=porcentagens.values, text=porcentagens.values)\n",
    "grafico.update_traces(texttemplate='%{text:.2f}%', textposition='outside')\n",
    "grafico.show()"
   ]
  },
  {
   "cell_type": "code",
   "execution_count": 9,
   "metadata": {},
   "outputs": [
    {
     "data": {
      "application/vnd.plotly.v1+json": {
       "config": {
        "plotlyServerURL": "https://plot.ly"
       },
       "data": [
        {
         "alignmentgroup": "True",
         "hovertemplate": "x=%{x}<br>y=%{y}<br>text=%{text}<extra></extra>",
         "legendgroup": "",
         "marker": {
          "color": "#636efa",
          "pattern": {
           "shape": ""
          }
         },
         "name": "",
         "offsetgroup": "",
         "orientation": "v",
         "showlegend": false,
         "text": [
          39.667630057803464,
          24.963872832369944,
          11.091040462427745,
          9.320809248554914,
          3.540462427745665,
          3.4682080924855487,
          1.8063583815028903,
          0.9754335260115607,
          0.9754335260115607,
          0.9031791907514451,
          0.7586705202312138,
          0.6502890173410405,
          0.5057803468208093,
          0.4335260115606936,
          0.36127167630057805,
          0.36127167630057805,
          0.0722543352601156,
          0.0722543352601156,
          0.0722543352601156
         ],
         "textposition": "outside",
         "texttemplate": "%{text:.2f}%",
         "type": "bar",
         "x": [
          "MG",
          "SP",
          "RJ",
          "ES",
          "GO",
          "PA",
          "AM",
          "SC",
          "MT",
          "TO",
          "RS",
          "RR",
          "PR",
          "MS",
          "DF",
          "BA",
          "MA",
          "AC",
          "RO"
         ],
         "xaxis": "x",
         "y": [
          39.667630057803464,
          24.963872832369944,
          11.091040462427745,
          9.320809248554914,
          3.540462427745665,
          3.4682080924855487,
          1.8063583815028903,
          0.9754335260115607,
          0.9754335260115607,
          0.9031791907514451,
          0.7586705202312138,
          0.6502890173410405,
          0.5057803468208093,
          0.4335260115606936,
          0.36127167630057805,
          0.36127167630057805,
          0.0722543352601156,
          0.0722543352601156,
          0.0722543352601156
         ],
         "yaxis": "y"
        }
       ],
       "layout": {
        "barmode": "relative",
        "legend": {
         "tracegroupgap": 0
        },
        "margin": {
         "t": 60
        },
        "template": {
         "data": {
          "bar": [
           {
            "error_x": {
             "color": "#2a3f5f"
            },
            "error_y": {
             "color": "#2a3f5f"
            },
            "marker": {
             "line": {
              "color": "#E5ECF6",
              "width": 0.5
             },
             "pattern": {
              "fillmode": "overlay",
              "size": 10,
              "solidity": 0.2
             }
            },
            "type": "bar"
           }
          ],
          "barpolar": [
           {
            "marker": {
             "line": {
              "color": "#E5ECF6",
              "width": 0.5
             },
             "pattern": {
              "fillmode": "overlay",
              "size": 10,
              "solidity": 0.2
             }
            },
            "type": "barpolar"
           }
          ],
          "carpet": [
           {
            "aaxis": {
             "endlinecolor": "#2a3f5f",
             "gridcolor": "white",
             "linecolor": "white",
             "minorgridcolor": "white",
             "startlinecolor": "#2a3f5f"
            },
            "baxis": {
             "endlinecolor": "#2a3f5f",
             "gridcolor": "white",
             "linecolor": "white",
             "minorgridcolor": "white",
             "startlinecolor": "#2a3f5f"
            },
            "type": "carpet"
           }
          ],
          "choropleth": [
           {
            "colorbar": {
             "outlinewidth": 0,
             "ticks": ""
            },
            "type": "choropleth"
           }
          ],
          "contour": [
           {
            "colorbar": {
             "outlinewidth": 0,
             "ticks": ""
            },
            "colorscale": [
             [
              0,
              "#0d0887"
             ],
             [
              0.1111111111111111,
              "#46039f"
             ],
             [
              0.2222222222222222,
              "#7201a8"
             ],
             [
              0.3333333333333333,
              "#9c179e"
             ],
             [
              0.4444444444444444,
              "#bd3786"
             ],
             [
              0.5555555555555556,
              "#d8576b"
             ],
             [
              0.6666666666666666,
              "#ed7953"
             ],
             [
              0.7777777777777778,
              "#fb9f3a"
             ],
             [
              0.8888888888888888,
              "#fdca26"
             ],
             [
              1,
              "#f0f921"
             ]
            ],
            "type": "contour"
           }
          ],
          "contourcarpet": [
           {
            "colorbar": {
             "outlinewidth": 0,
             "ticks": ""
            },
            "type": "contourcarpet"
           }
          ],
          "heatmap": [
           {
            "colorbar": {
             "outlinewidth": 0,
             "ticks": ""
            },
            "colorscale": [
             [
              0,
              "#0d0887"
             ],
             [
              0.1111111111111111,
              "#46039f"
             ],
             [
              0.2222222222222222,
              "#7201a8"
             ],
             [
              0.3333333333333333,
              "#9c179e"
             ],
             [
              0.4444444444444444,
              "#bd3786"
             ],
             [
              0.5555555555555556,
              "#d8576b"
             ],
             [
              0.6666666666666666,
              "#ed7953"
             ],
             [
              0.7777777777777778,
              "#fb9f3a"
             ],
             [
              0.8888888888888888,
              "#fdca26"
             ],
             [
              1,
              "#f0f921"
             ]
            ],
            "type": "heatmap"
           }
          ],
          "heatmapgl": [
           {
            "colorbar": {
             "outlinewidth": 0,
             "ticks": ""
            },
            "colorscale": [
             [
              0,
              "#0d0887"
             ],
             [
              0.1111111111111111,
              "#46039f"
             ],
             [
              0.2222222222222222,
              "#7201a8"
             ],
             [
              0.3333333333333333,
              "#9c179e"
             ],
             [
              0.4444444444444444,
              "#bd3786"
             ],
             [
              0.5555555555555556,
              "#d8576b"
             ],
             [
              0.6666666666666666,
              "#ed7953"
             ],
             [
              0.7777777777777778,
              "#fb9f3a"
             ],
             [
              0.8888888888888888,
              "#fdca26"
             ],
             [
              1,
              "#f0f921"
             ]
            ],
            "type": "heatmapgl"
           }
          ],
          "histogram": [
           {
            "marker": {
             "pattern": {
              "fillmode": "overlay",
              "size": 10,
              "solidity": 0.2
             }
            },
            "type": "histogram"
           }
          ],
          "histogram2d": [
           {
            "colorbar": {
             "outlinewidth": 0,
             "ticks": ""
            },
            "colorscale": [
             [
              0,
              "#0d0887"
             ],
             [
              0.1111111111111111,
              "#46039f"
             ],
             [
              0.2222222222222222,
              "#7201a8"
             ],
             [
              0.3333333333333333,
              "#9c179e"
             ],
             [
              0.4444444444444444,
              "#bd3786"
             ],
             [
              0.5555555555555556,
              "#d8576b"
             ],
             [
              0.6666666666666666,
              "#ed7953"
             ],
             [
              0.7777777777777778,
              "#fb9f3a"
             ],
             [
              0.8888888888888888,
              "#fdca26"
             ],
             [
              1,
              "#f0f921"
             ]
            ],
            "type": "histogram2d"
           }
          ],
          "histogram2dcontour": [
           {
            "colorbar": {
             "outlinewidth": 0,
             "ticks": ""
            },
            "colorscale": [
             [
              0,
              "#0d0887"
             ],
             [
              0.1111111111111111,
              "#46039f"
             ],
             [
              0.2222222222222222,
              "#7201a8"
             ],
             [
              0.3333333333333333,
              "#9c179e"
             ],
             [
              0.4444444444444444,
              "#bd3786"
             ],
             [
              0.5555555555555556,
              "#d8576b"
             ],
             [
              0.6666666666666666,
              "#ed7953"
             ],
             [
              0.7777777777777778,
              "#fb9f3a"
             ],
             [
              0.8888888888888888,
              "#fdca26"
             ],
             [
              1,
              "#f0f921"
             ]
            ],
            "type": "histogram2dcontour"
           }
          ],
          "mesh3d": [
           {
            "colorbar": {
             "outlinewidth": 0,
             "ticks": ""
            },
            "type": "mesh3d"
           }
          ],
          "parcoords": [
           {
            "line": {
             "colorbar": {
              "outlinewidth": 0,
              "ticks": ""
             }
            },
            "type": "parcoords"
           }
          ],
          "pie": [
           {
            "automargin": true,
            "type": "pie"
           }
          ],
          "scatter": [
           {
            "fillpattern": {
             "fillmode": "overlay",
             "size": 10,
             "solidity": 0.2
            },
            "type": "scatter"
           }
          ],
          "scatter3d": [
           {
            "line": {
             "colorbar": {
              "outlinewidth": 0,
              "ticks": ""
             }
            },
            "marker": {
             "colorbar": {
              "outlinewidth": 0,
              "ticks": ""
             }
            },
            "type": "scatter3d"
           }
          ],
          "scattercarpet": [
           {
            "marker": {
             "colorbar": {
              "outlinewidth": 0,
              "ticks": ""
             }
            },
            "type": "scattercarpet"
           }
          ],
          "scattergeo": [
           {
            "marker": {
             "colorbar": {
              "outlinewidth": 0,
              "ticks": ""
             }
            },
            "type": "scattergeo"
           }
          ],
          "scattergl": [
           {
            "marker": {
             "colorbar": {
              "outlinewidth": 0,
              "ticks": ""
             }
            },
            "type": "scattergl"
           }
          ],
          "scattermapbox": [
           {
            "marker": {
             "colorbar": {
              "outlinewidth": 0,
              "ticks": ""
             }
            },
            "type": "scattermapbox"
           }
          ],
          "scatterpolar": [
           {
            "marker": {
             "colorbar": {
              "outlinewidth": 0,
              "ticks": ""
             }
            },
            "type": "scatterpolar"
           }
          ],
          "scatterpolargl": [
           {
            "marker": {
             "colorbar": {
              "outlinewidth": 0,
              "ticks": ""
             }
            },
            "type": "scatterpolargl"
           }
          ],
          "scatterternary": [
           {
            "marker": {
             "colorbar": {
              "outlinewidth": 0,
              "ticks": ""
             }
            },
            "type": "scatterternary"
           }
          ],
          "surface": [
           {
            "colorbar": {
             "outlinewidth": 0,
             "ticks": ""
            },
            "colorscale": [
             [
              0,
              "#0d0887"
             ],
             [
              0.1111111111111111,
              "#46039f"
             ],
             [
              0.2222222222222222,
              "#7201a8"
             ],
             [
              0.3333333333333333,
              "#9c179e"
             ],
             [
              0.4444444444444444,
              "#bd3786"
             ],
             [
              0.5555555555555556,
              "#d8576b"
             ],
             [
              0.6666666666666666,
              "#ed7953"
             ],
             [
              0.7777777777777778,
              "#fb9f3a"
             ],
             [
              0.8888888888888888,
              "#fdca26"
             ],
             [
              1,
              "#f0f921"
             ]
            ],
            "type": "surface"
           }
          ],
          "table": [
           {
            "cells": {
             "fill": {
              "color": "#EBF0F8"
             },
             "line": {
              "color": "white"
             }
            },
            "header": {
             "fill": {
              "color": "#C8D4E3"
             },
             "line": {
              "color": "white"
             }
            },
            "type": "table"
           }
          ]
         },
         "layout": {
          "annotationdefaults": {
           "arrowcolor": "#2a3f5f",
           "arrowhead": 0,
           "arrowwidth": 1
          },
          "autotypenumbers": "strict",
          "coloraxis": {
           "colorbar": {
            "outlinewidth": 0,
            "ticks": ""
           }
          },
          "colorscale": {
           "diverging": [
            [
             0,
             "#8e0152"
            ],
            [
             0.1,
             "#c51b7d"
            ],
            [
             0.2,
             "#de77ae"
            ],
            [
             0.3,
             "#f1b6da"
            ],
            [
             0.4,
             "#fde0ef"
            ],
            [
             0.5,
             "#f7f7f7"
            ],
            [
             0.6,
             "#e6f5d0"
            ],
            [
             0.7,
             "#b8e186"
            ],
            [
             0.8,
             "#7fbc41"
            ],
            [
             0.9,
             "#4d9221"
            ],
            [
             1,
             "#276419"
            ]
           ],
           "sequential": [
            [
             0,
             "#0d0887"
            ],
            [
             0.1111111111111111,
             "#46039f"
            ],
            [
             0.2222222222222222,
             "#7201a8"
            ],
            [
             0.3333333333333333,
             "#9c179e"
            ],
            [
             0.4444444444444444,
             "#bd3786"
            ],
            [
             0.5555555555555556,
             "#d8576b"
            ],
            [
             0.6666666666666666,
             "#ed7953"
            ],
            [
             0.7777777777777778,
             "#fb9f3a"
            ],
            [
             0.8888888888888888,
             "#fdca26"
            ],
            [
             1,
             "#f0f921"
            ]
           ],
           "sequentialminus": [
            [
             0,
             "#0d0887"
            ],
            [
             0.1111111111111111,
             "#46039f"
            ],
            [
             0.2222222222222222,
             "#7201a8"
            ],
            [
             0.3333333333333333,
             "#9c179e"
            ],
            [
             0.4444444444444444,
             "#bd3786"
            ],
            [
             0.5555555555555556,
             "#d8576b"
            ],
            [
             0.6666666666666666,
             "#ed7953"
            ],
            [
             0.7777777777777778,
             "#fb9f3a"
            ],
            [
             0.8888888888888888,
             "#fdca26"
            ],
            [
             1,
             "#f0f921"
            ]
           ]
          },
          "colorway": [
           "#636efa",
           "#EF553B",
           "#00cc96",
           "#ab63fa",
           "#FFA15A",
           "#19d3f3",
           "#FF6692",
           "#B6E880",
           "#FF97FF",
           "#FECB52"
          ],
          "font": {
           "color": "#2a3f5f"
          },
          "geo": {
           "bgcolor": "white",
           "lakecolor": "white",
           "landcolor": "#E5ECF6",
           "showlakes": true,
           "showland": true,
           "subunitcolor": "white"
          },
          "hoverlabel": {
           "align": "left"
          },
          "hovermode": "closest",
          "mapbox": {
           "style": "light"
          },
          "paper_bgcolor": "white",
          "plot_bgcolor": "#E5ECF6",
          "polar": {
           "angularaxis": {
            "gridcolor": "white",
            "linecolor": "white",
            "ticks": ""
           },
           "bgcolor": "#E5ECF6",
           "radialaxis": {
            "gridcolor": "white",
            "linecolor": "white",
            "ticks": ""
           }
          },
          "scene": {
           "xaxis": {
            "backgroundcolor": "#E5ECF6",
            "gridcolor": "white",
            "gridwidth": 2,
            "linecolor": "white",
            "showbackground": true,
            "ticks": "",
            "zerolinecolor": "white"
           },
           "yaxis": {
            "backgroundcolor": "#E5ECF6",
            "gridcolor": "white",
            "gridwidth": 2,
            "linecolor": "white",
            "showbackground": true,
            "ticks": "",
            "zerolinecolor": "white"
           },
           "zaxis": {
            "backgroundcolor": "#E5ECF6",
            "gridcolor": "white",
            "gridwidth": 2,
            "linecolor": "white",
            "showbackground": true,
            "ticks": "",
            "zerolinecolor": "white"
           }
          },
          "shapedefaults": {
           "line": {
            "color": "#2a3f5f"
           }
          },
          "ternary": {
           "aaxis": {
            "gridcolor": "white",
            "linecolor": "white",
            "ticks": ""
           },
           "baxis": {
            "gridcolor": "white",
            "linecolor": "white",
            "ticks": ""
           },
           "bgcolor": "#E5ECF6",
           "caxis": {
            "gridcolor": "white",
            "linecolor": "white",
            "ticks": ""
           }
          },
          "title": {
           "x": 0.05
          },
          "xaxis": {
           "automargin": true,
           "gridcolor": "white",
           "linecolor": "white",
           "ticks": "",
           "title": {
            "standoff": 15
           },
           "zerolinecolor": "white",
           "zerolinewidth": 2
          },
          "yaxis": {
           "automargin": true,
           "gridcolor": "white",
           "linecolor": "white",
           "ticks": "",
           "title": {
            "standoff": 15
           },
           "zerolinecolor": "white",
           "zerolinewidth": 2
          }
         }
        },
        "xaxis": {
         "anchor": "y",
         "domain": [
          0,
          1
         ],
         "title": {
          "text": "x"
         }
        },
        "yaxis": {
         "anchor": "x",
         "domain": [
          0,
          1
         ],
         "title": {
          "text": "y"
         }
        }
       }
      }
     },
     "metadata": {},
     "output_type": "display_data"
    }
   ],
   "source": [
    "# 5. análise da coluna 'UF'\n",
    "counts = df_febre_amarela['UF'].value_counts()\n",
    "porcentagens = counts / counts.sum() * 100\n",
    "\n",
    "# criação do histograma dos UFs\n",
    "grafico = px.bar(x=porcentagens.index, y=porcentagens.values, text=porcentagens.values)\n",
    "grafico.update_traces(texttemplate='%{text:.2f}%', textposition='outside')\n",
    "grafico.show()"
   ]
  },
  {
   "cell_type": "code",
   "execution_count": 20,
   "metadata": {},
   "outputs": [
    {
     "name": "stdout",
     "output_type": "stream",
     "text": [
      "Proporção dos casos por estado:\n",
      "\n",
      "UF\n",
      "MG    0.396676\n",
      "SP    0.249639\n",
      "RJ    0.110910\n",
      "ES    0.093208\n",
      "GO    0.035405\n",
      "PA    0.034682\n",
      "AM    0.018064\n",
      "SC    0.009754\n",
      "MT    0.009754\n",
      "TO    0.009032\n",
      "RS    0.007587\n",
      "RR    0.006503\n",
      "PR    0.005058\n",
      "MS    0.004335\n",
      "DF    0.003613\n",
      "BA    0.003613\n",
      "MA    0.000723\n",
      "AC    0.000723\n",
      "RO    0.000723\n",
      "Name: count, dtype: float64\n"
     ]
    }
   ],
   "source": [
    "# 5.1 proporção dos casos de Febre Amarela por estado\n",
    "contagem_estado = df_febre_amarela['UF'].value_counts()\n",
    "proporcao_estado = contagem_estado / contagem_estado.sum()\n",
    "\n",
    "print('Proporção dos casos por estado:\\n')\n",
    "print(proporcao_estado)"
   ]
  },
  {
   "cell_type": "code",
   "execution_count": 27,
   "metadata": {},
   "outputs": [
    {
     "name": "stdout",
     "output_type": "stream",
     "text": [
      "Resultado do teste de qui-quadrado\n",
      "\n",
      "Estatística qui-quadrado: 2558.846017941392\n",
      "Valor-p.................: 0.0\n"
     ]
    }
   ],
   "source": [
    "# 5.2 teste qui-quadrado dos estados\n",
    "observada = contagem_estado.values\n",
    "num_estados = len(contagem_estado)\n",
    "\n",
    "# Distribuição teórica uniforme (esperada)\n",
    "esperada = [contagem_estado.sum() / num_estados] * num_estados\n",
    "\n",
    "# Realização do teste de qui-quadrado\n",
    "chi2, valor_p = chi2_contingency([observada, esperada])[:2]\n",
    "\n",
    "print('Resultado do teste de qui-quadrado')\n",
    "print(f'\\nEstatística qui-quadrado: {chi2}')\n",
    "print(f'Valor-p.................: {valor_p}')"
   ]
  },
  {
   "cell_type": "code",
   "execution_count": 41,
   "metadata": {},
   "outputs": [
    {
     "data": {
      "text/plain": [
       "Index(['CD_UF', 'NM_UF', 'SIGLA_UF', 'NM_REGIAO', 'AREA_KM2', 'geometry'], dtype='object')"
      ]
     },
     "metadata": {},
     "output_type": "display_data"
    }
   ],
   "source": [
    "# 5.3 Criação de uma Mapa de calor para visualizar os estados afetados\n",
    "\n",
    "# Carregar o shapefile dos estados do Brasil\n",
    "brasil_shapefile = 'BR_UF_2022.shp'\n",
    "gdf_brasil = gpd.read_file(brasil_shapefile)\n",
    "\n",
    "# Exibir as colunas para verificar o nome que será usada para criação do Mapa\n",
    "display(gdf_brasil.columns)"
   ]
  },
  {
   "cell_type": "code",
   "execution_count": 42,
   "metadata": {},
   "outputs": [
    {
     "data": {
      "image/png": "[encoded data removed]",
      "text/plain": [
       "<Figure size 900x900 with 2 Axes>"
      ]
     },
     "metadata": {},
     "output_type": "display_data"
    }
   ],
   "source": [
    "# Contagem de casos por estado\n",
    "contagem_estado = df_febre_amarela['UF'].value_counts().reset_index()\n",
    "contagem_estado.columns = ['UF', 'casos']\n",
    "\n",
    "# Unir os dados de contagem de casos com os dados geoespaciais\n",
    "gdf_brasil = gdf_brasil.merge(contagem_estado, left_on='SIGLA_UF', right_on='UF', how='left')\n",
    "\n",
    "# Preencher estados sem casos com 0\n",
    "gdf_brasil['casos'] = gdf_brasil['casos'].fillna(0)\n",
    "\n",
    "# Criação do Mapa de calor\n",
    "fig, ax = plt.subplots(1, 1, figsize=(9, 9))\n",
    "\n",
    "mapa_calor = gdf_brasil.plot(column='casos', cmap='OrRd', linewidth=0.8, ax=ax, edgecolor='0.8', legend=True)\n",
    "plt.show()"
   ]
  },
  {
   "cell_type": "code",
   "execution_count": 43,
   "metadata": {},
   "outputs": [
    {
     "data": {
      "application/vnd.plotly.v1+json": {
       "config": {
        "plotlyServerURL": "https://plot.ly"
       },
       "data": [
        {
         "alignmentgroup": "True",
         "hovertemplate": "x=%{x}<br>y=%{y}<br>text=%{text}<extra></extra>",
         "legendgroup": "",
         "marker": {
          "color": "#636efa",
          "pattern": {
           "shape": ""
          }
         },
         "name": "",
         "offsetgroup": "",
         "orientation": "v",
         "showlegend": false,
         "text": [
          82.79725334297072,
          17.202746657029273
         ],
         "textposition": "outside",
         "texttemplate": "%{text:.2f}%",
         "type": "bar",
         "x": [
          "M",
          "F"
         ],
         "xaxis": "x",
         "y": [
          82.79725334297072,
          17.202746657029273
         ],
         "yaxis": "y"
        }
       ],
       "layout": {
        "barmode": "relative",
        "legend": {
         "tracegroupgap": 0
        },
        "margin": {
         "t": 60
        },
        "template": {
         "data": {
          "bar": [
           {
            "error_x": {
             "color": "#2a3f5f"
            },
            "error_y": {
             "color": "#2a3f5f"
            },
            "marker": {
             "line": {
              "color": "#E5ECF6",
              "width": 0.5
             },
             "pattern": {
              "fillmode": "overlay",
              "size": 10,
              "solidity": 0.2
             }
            },
            "type": "bar"
           }
          ],
          "barpolar": [
           {
            "marker": {
             "line": {
              "color": "#E5ECF6",
              "width": 0.5
             },
             "pattern": {
              "fillmode": "overlay",
              "size": 10,
              "solidity": 0.2
             }
            },
            "type": "barpolar"
           }
          ],
          "carpet": [
           {
            "aaxis": {
             "endlinecolor": "#2a3f5f",
             "gridcolor": "white",
             "linecolor": "white",
             "minorgridcolor": "white",
             "startlinecolor": "#2a3f5f"
            },
            "baxis": {
             "endlinecolor": "#2a3f5f",
             "gridcolor": "white",
             "linecolor": "white",
             "minorgridcolor": "white",
             "startlinecolor": "#2a3f5f"
            },
            "type": "carpet"
           }
          ],
          "choropleth": [
           {
            "colorbar": {
             "outlinewidth": 0,
             "ticks": ""
            },
            "type": "choropleth"
           }
          ],
          "contour": [
           {
            "colorbar": {
             "outlinewidth": 0,
             "ticks": ""
            },
            "colorscale": [
             [
              0,
              "#0d0887"
             ],
             [
              0.1111111111111111,
              "#46039f"
             ],
             [
              0.2222222222222222,
              "#7201a8"
             ],
             [
              0.3333333333333333,
              "#9c179e"
             ],
             [
              0.4444444444444444,
              "#bd3786"
             ],
             [
              0.5555555555555556,
              "#d8576b"
             ],
             [
              0.6666666666666666,
              "#ed7953"
             ],
             [
              0.7777777777777778,
              "#fb9f3a"
             ],
             [
              0.8888888888888888,
              "#fdca26"
             ],
             [
              1,
              "#f0f921"
             ]
            ],
            "type": "contour"
           }
          ],
          "contourcarpet": [
           {
            "colorbar": {
             "outlinewidth": 0,
             "ticks": ""
            },
            "type": "contourcarpet"
           }
          ],
          "heatmap": [
           {
            "colorbar": {
             "outlinewidth": 0,
             "ticks": ""
            },
            "colorscale": [
             [
              0,
              "#0d0887"
             ],
             [
              0.1111111111111111,
              "#46039f"
             ],
             [
              0.2222222222222222,
              "#7201a8"
             ],
             [
              0.3333333333333333,
              "#9c179e"
             ],
             [
              0.4444444444444444,
              "#bd3786"
             ],
             [
              0.5555555555555556,
              "#d8576b"
             ],
             [
              0.6666666666666666,
              "#ed7953"
             ],
             [
              0.7777777777777778,
              "#fb9f3a"
             ],
             [
              0.8888888888888888,
              "#fdca26"
             ],
             [
              1,
              "#f0f921"
             ]
            ],
            "type": "heatmap"
           }
          ],
          "heatmapgl": [
           {
            "colorbar": {
             "outlinewidth": 0,
             "ticks": ""
            },
            "colorscale": [
             [
              0,
              "#0d0887"
             ],
             [
              0.1111111111111111,
              "#46039f"
             ],
             [
              0.2222222222222222,
              "#7201a8"
             ],
             [
              0.3333333333333333,
              "#9c179e"
             ],
             [
              0.4444444444444444,
              "#bd3786"
             ],
             [
              0.5555555555555556,
              "#d8576b"
             ],
             [
              0.6666666666666666,
              "#ed7953"
             ],
             [
              0.7777777777777778,
              "#fb9f3a"
             ],
             [
              0.8888888888888888,
              "#fdca26"
             ],
             [
              1,
              "#f0f921"
             ]
            ],
            "type": "heatmapgl"
           }
          ],
          "histogram": [
           {
            "marker": {
             "pattern": {
              "fillmode": "overlay",
              "size": 10,
              "solidity": 0.2
             }
            },
            "type": "histogram"
           }
          ],
          "histogram2d": [
           {
            "colorbar": {
             "outlinewidth": 0,
             "ticks": ""
            },
            "colorscale": [
             [
              0,
              "#0d0887"
             ],
             [
              0.1111111111111111,
              "#46039f"
             ],
             [
              0.2222222222222222,
              "#7201a8"
             ],
             [
              0.3333333333333333,
              "#9c179e"
             ],
             [
              0.4444444444444444,
              "#bd3786"
             ],
             [
              0.5555555555555556,
              "#d8576b"
             ],
             [
              0.6666666666666666,
              "#ed7953"
             ],
             [
              0.7777777777777778,
              "#fb9f3a"
             ],
             [
              0.8888888888888888,
              "#fdca26"
             ],
             [
              1,
              "#f0f921"
             ]
            ],
            "type": "histogram2d"
           }
          ],
          "histogram2dcontour": [
           {
            "colorbar": {
             "outlinewidth": 0,
             "ticks": ""
            },
            "colorscale": [
             [
              0,
              "#0d0887"
             ],
             [
              0.1111111111111111,
              "#46039f"
             ],
             [
              0.2222222222222222,
              "#7201a8"
             ],
             [
              0.3333333333333333,
              "#9c179e"
             ],
             [
              0.4444444444444444,
              "#bd3786"
             ],
             [
              0.5555555555555556,
              "#d8576b"
             ],
             [
              0.6666666666666666,
              "#ed7953"
             ],
             [
              0.7777777777777778,
              "#fb9f3a"
             ],
             [
              0.8888888888888888,
              "#fdca26"
             ],
             [
              1,
              "#f0f921"
             ]
            ],
            "type": "histogram2dcontour"
           }
          ],
          "mesh3d": [
           {
            "colorbar": {
             "outlinewidth": 0,
             "ticks": ""
            },
            "type": "mesh3d"
           }
          ],
          "parcoords": [
           {
            "line": {
             "colorbar": {
              "outlinewidth": 0,
              "ticks": ""
             }
            },
            "type": "parcoords"
           }
          ],
          "pie": [
           {
            "automargin": true,
            "type": "pie"
           }
          ],
          "scatter": [
           {
            "fillpattern": {
             "fillmode": "overlay",
             "size": 10,
             "solidity": 0.2
            },
            "type": "scatter"
           }
          ],
          "scatter3d": [
           {
            "line": {
             "colorbar": {
              "outlinewidth": 0,
              "ticks": ""
             }
            },
            "marker": {
             "colorbar": {
              "outlinewidth": 0,
              "ticks": ""
             }
            },
            "type": "scatter3d"
           }
          ],
          "scattercarpet": [
           {
            "marker": {
             "colorbar": {
              "outlinewidth": 0,
              "ticks": ""
             }
            },
            "type": "scattercarpet"
           }
          ],
          "scattergeo": [
           {
            "marker": {
             "colorbar": {
              "outlinewidth": 0,
              "ticks": ""
             }
            },
            "type": "scattergeo"
           }
          ],
          "scattergl": [
           {
            "marker": {
             "colorbar": {
              "outlinewidth": 0,
              "ticks": ""
             }
            },
            "type": "scattergl"
           }
          ],
          "scattermapbox": [
           {
            "marker": {
             "colorbar": {
              "outlinewidth": 0,
              "ticks": ""
             }
            },
            "type": "scattermapbox"
           }
          ],
          "scatterpolar": [
           {
            "marker": {
             "colorbar": {
              "outlinewidth": 0,
              "ticks": ""
             }
            },
            "type": "scatterpolar"
           }
          ],
          "scatterpolargl": [
           {
            "marker": {
             "colorbar": {
              "outlinewidth": 0,
              "ticks": ""
             }
            },
            "type": "scatterpolargl"
           }
          ],
          "scatterternary": [
           {
            "marker": {
             "colorbar": {
              "outlinewidth": 0,
              "ticks": ""
             }
            },
            "type": "scatterternary"
           }
          ],
          "surface": [
           {
            "colorbar": {
             "outlinewidth": 0,
             "ticks": ""
            },
            "colorscale": [
             [
              0,
              "#0d0887"
             ],
             [
              0.1111111111111111,
              "#46039f"
             ],
             [
              0.2222222222222222,
              "#7201a8"
             ],
             [
              0.3333333333333333,
              "#9c179e"
             ],
             [
              0.4444444444444444,
              "#bd3786"
             ],
             [
              0.5555555555555556,
              "#d8576b"
             ],
             [
              0.6666666666666666,
              "#ed7953"
             ],
             [
              0.7777777777777778,
              "#fb9f3a"
             ],
             [
              0.8888888888888888,
              "#fdca26"
             ],
             [
              1,
              "#f0f921"
             ]
            ],
            "type": "surface"
           }
          ],
          "table": [
           {
            "cells": {
             "fill": {
              "color": "#EBF0F8"
             },
             "line": {
              "color": "white"
             }
            },
            "header": {
             "fill": {
              "color": "#C8D4E3"
             },
             "line": {
              "color": "white"
             }
            },
            "type": "table"
           }
          ]
         },
         "layout": {
          "annotationdefaults": {
           "arrowcolor": "#2a3f5f",
           "arrowhead": 0,
           "arrowwidth": 1
          },
          "autotypenumbers": "strict",
          "coloraxis": {
           "colorbar": {
            "outlinewidth": 0,
            "ticks": ""
           }
          },
          "colorscale": {
           "diverging": [
            [
             0,
             "#8e0152"
            ],
            [
             0.1,
             "#c51b7d"
            ],
            [
             0.2,
             "#de77ae"
            ],
            [
             0.3,
             "#f1b6da"
            ],
            [
             0.4,
             "#fde0ef"
            ],
            [
             0.5,
             "#f7f7f7"
            ],
            [
             0.6,
             "#e6f5d0"
            ],
            [
             0.7,
             "#b8e186"
            ],
            [
             0.8,
             "#7fbc41"
            ],
            [
             0.9,
             "#4d9221"
            ],
            [
             1,
             "#276419"
            ]
           ],
           "sequential": [
            [
             0,
             "#0d0887"
            ],
            [
             0.1111111111111111,
             "#46039f"
            ],
            [
             0.2222222222222222,
             "#7201a8"
            ],
            [
             0.3333333333333333,
             "#9c179e"
            ],
            [
             0.4444444444444444,
             "#bd3786"
            ],
            [
             0.5555555555555556,
             "#d8576b"
            ],
            [
             0.6666666666666666,
             "#ed7953"
            ],
            [
             0.7777777777777778,
             "#fb9f3a"
            ],
            [
             0.8888888888888888,
             "#fdca26"
            ],
            [
             1,
             "#f0f921"
            ]
           ],
           "sequentialminus": [
            [
             0,
             "#0d0887"
            ],
            [
             0.1111111111111111,
             "#46039f"
            ],
            [
             0.2222222222222222,
             "#7201a8"
            ],
            [
             0.3333333333333333,
             "#9c179e"
            ],
            [
             0.4444444444444444,
             "#bd3786"
            ],
            [
             0.5555555555555556,
             "#d8576b"
            ],
            [
             0.6666666666666666,
             "#ed7953"
            ],
            [
             0.7777777777777778,
             "#fb9f3a"
            ],
            [
             0.8888888888888888,
             "#fdca26"
            ],
            [
             1,
             "#f0f921"
            ]
           ]
          },
          "colorway": [
           "#636efa",
           "#EF553B",
           "#00cc96",
           "#ab63fa",
           "#FFA15A",
           "#19d3f3",
           "#FF6692",
           "#B6E880",
           "#FF97FF",
           "#FECB52"
          ],
          "font": {
           "color": "#2a3f5f"
          },
          "geo": {
           "bgcolor": "white",
           "lakecolor": "white",
           "landcolor": "#E5ECF6",
           "showlakes": true,
           "showland": true,
           "subunitcolor": "white"
          },
          "hoverlabel": {
           "align": "left"
          },
          "hovermode": "closest",
          "mapbox": {
           "style": "light"
          },
          "paper_bgcolor": "white",
          "plot_bgcolor": "#E5ECF6",
          "polar": {
           "angularaxis": {
            "gridcolor": "white",
            "linecolor": "white",
            "ticks": ""
           },
           "bgcolor": "#E5ECF6",
           "radialaxis": {
            "gridcolor": "white",
            "linecolor": "white",
            "ticks": ""
           }
          },
          "scene": {
           "xaxis": {
            "backgroundcolor": "#E5ECF6",
            "gridcolor": "white",
            "gridwidth": 2,
            "linecolor": "white",
            "showbackground": true,
            "ticks": "",
            "zerolinecolor": "white"
           },
           "yaxis": {
            "backgroundcolor": "#E5ECF6",
            "gridcolor": "white",
            "gridwidth": 2,
            "linecolor": "white",
            "showbackground": true,
            "ticks": "",
            "zerolinecolor": "white"
           },
           "zaxis": {
            "backgroundcolor": "#E5ECF6",
            "gridcolor": "white",
            "gridwidth": 2,
            "linecolor": "white",
            "showbackground": true,
            "ticks": "",
            "zerolinecolor": "white"
           }
          },
          "shapedefaults": {
           "line": {
            "color": "#2a3f5f"
           }
          },
          "ternary": {
           "aaxis": {
            "gridcolor": "white",
            "linecolor": "white",
            "ticks": ""
           },
           "baxis": {
            "gridcolor": "white",
            "linecolor": "white",
            "ticks": ""
           },
           "bgcolor": "#E5ECF6",
           "caxis": {
            "gridcolor": "white",
            "linecolor": "white",
            "ticks": ""
           }
          },
          "title": {
           "x": 0.05
          },
          "xaxis": {
           "automargin": true,
           "gridcolor": "white",
           "linecolor": "white",
           "ticks": "",
           "title": {
            "standoff": 15
           },
           "zerolinecolor": "white",
           "zerolinewidth": 2
          },
          "yaxis": {
           "automargin": true,
           "gridcolor": "white",
           "linecolor": "white",
           "ticks": "",
           "title": {
            "standoff": 15
           },
           "zerolinecolor": "white",
           "zerolinewidth": 2
          }
         }
        },
        "xaxis": {
         "anchor": "y",
         "domain": [
          0,
          1
         ],
         "title": {
          "text": "x"
         }
        },
        "yaxis": {
         "anchor": "x",
         "domain": [
          0,
          1
         ],
         "title": {
          "text": "y"
         }
        }
       }
      }
     },
     "metadata": {},
     "output_type": "display_data"
    }
   ],
   "source": [
    "# 6. análise da coluna 'SEXO'\n",
    "counts = df_febre_amarela['SEXO'].value_counts()\n",
    "porcentagens = counts / counts.sum() * 100\n",
    "\n",
    "# criação do histograma dos tipos de Sexo\n",
    "grafico = px.bar(x=porcentagens.index, y=porcentagens.values, text=porcentagens.values)\n",
    "grafico.update_traces(texttemplate='%{text:.2f}%', textposition='outside')\n",
    "grafico.show()"
   ]
  },
  {
   "cell_type": "code",
   "execution_count": 46,
   "metadata": {},
   "outputs": [
    {
     "name": "stdout",
     "output_type": "stream",
     "text": [
      "Sexo Masculino: 2291\n",
      "Sexo Feminino:  476\n",
      "\n",
      "Probalidade masculino: 0.8276734104046243\n",
      "obalidade feminino:  0.17196531791907516\n",
      "\n",
      "Diferença: 4.813025210084033\n"
     ]
    }
   ],
   "source": [
    "# 6.1 proporção de infectados (M e F)\n",
    "total = len(df_febre_amarela)\n",
    "\n",
    "masculino = (df_febre_amarela['SEXO'] == 'M').sum()\n",
    "feminino  = (df_febre_amarela['SEXO'] == 'F').sum()\n",
    "\n",
    "probalidade_masculino = masculino / total\n",
    "probalidade_feminino = feminino / total\n",
    "\n",
    "print(f'Sexo Masculino: {masculino}')\n",
    "print(f'Sexo Feminino:  {feminino}')\n",
    "\n",
    "print(f'\\nProbalidade masculino: {probalidade_masculino}')\n",
    "print(f'\\robalidade feminino:  {probalidade_feminino}')\n",
    "\n",
    "diferenca = probalidade_masculino / probalidade_feminino\n",
    "\n",
    "print(f'\\nDiferença: {diferenca}')"
   ]
  },
  {
   "cell_type": "code",
   "execution_count": 53,
   "metadata": {},
   "outputs": [
    {
     "name": "stdout",
     "output_type": "stream",
     "text": [
      "Estatística do teste: 48.796317409202864\n",
      "Valor-p: 0.0\n"
     ]
    }
   ],
   "source": [
    "# 6.2 teste de proporção (M e F)\n",
    "\n",
    "# Contagem de casos por sexo\n",
    "contagem_sexo = df_febre_amarela['SEXO'].value_counts()\n",
    "\n",
    "# número de casos de febre amarela em homens\n",
    "casos_homens = contagem_sexo['M']\n",
    "\n",
    "# número de casos de febre amarela em mulheres\n",
    "casos_mulheres = contagem_sexo['F']\n",
    "\n",
    "# número total de casos\n",
    "total_casos = casos_homens + casos_mulheres\n",
    "\n",
    "# número de casos em homens e mulheres\n",
    "count = [casos_homens, casos_mulheres]\n",
    "\n",
    "# teste de proporção\n",
    "stat, p_value = proportions_ztest(count, total_casos)\n",
    "\n",
    "print('Estatística do teste:', stat)\n",
    "print('Valor-p:', p_value)"
   ]
  },
  {
   "cell_type": "code",
   "execution_count": 60,
   "metadata": {},
   "outputs": [
    {
     "name": "stdout",
     "output_type": "stream",
     "text": [
      "Estado MG:\n",
      "HOMEM contrair.: 0.848816029143898\n",
      "MULHER contrair: 0.15027322404371585\n",
      "\n",
      "Estado SP:\n",
      "HOMEM contrair.: 0.8234442836468886\n",
      "MULHER contrair: 0.17655571635311143\n"
     ]
    }
   ],
   "source": [
    "# 6.3 probalidade de um homem e uma mulher contrair a febre amarela nos estados MG e SP\n",
    "\n",
    "# casos por sexo e região\n",
    "contagem_sexo_uf = df_febre_amarela.groupby(['UF', 'SEXO']).size()\n",
    "\n",
    "# total de casos por região\n",
    "contagem_uf = df_febre_amarela['UF'].value_counts()\n",
    "\n",
    "# probabilidade de um paciente ser do sexo masculino | feminino dado que ele está em SP\n",
    "uf_sp = 'SP'\n",
    "masc_sp = contagem_sexo_uf.loc[uf_sp, 'M'] / contagem_uf.loc[uf_sp]\n",
    "femi_sp = contagem_sexo_uf.loc[uf_sp, 'F'] / contagem_uf.loc[uf_sp]\n",
    "\n",
    "# probabilidade de um paciente ser do sexo masculino | feminino dado que ele está em MG\n",
    "uf_mg = 'MG'\n",
    "masc_mg = contagem_sexo_uf.loc[uf_mg, 'M'] / contagem_uf.loc[uf_mg]\n",
    "femi_mg = contagem_sexo_uf.loc[uf_mg, 'F'] / contagem_uf.loc[uf_mg]\n",
    "\n",
    "print('Estado MG:')\n",
    "print(f'HOMEM contrair.: {masc_mg}')\n",
    "print(f'MULHER contrair: {femi_mg}')\n",
    "\n",
    "print('\\nEstado SP:')\n",
    "print(f'HOMEM contrair.: {masc_sp}')\n",
    "print(f'MULHER contrair: {femi_sp}')"
   ]
  },
  {
   "cell_type": "code",
   "execution_count": 63,
   "metadata": {},
   "outputs": [
    {
     "data": {
      "application/vnd.plotly.v1+json": {
       "config": {
        "plotlyServerURL": "https://plot.ly"
       },
       "data": [
        {
         "alignmentgroup": "True",
         "hovertemplate": "x=%{x}<br>y=%{y}<br>text=%{text}<extra></extra>",
         "legendgroup": "",
         "marker": {
          "color": "#636efa",
          "pattern": {
           "shape": ""
          }
         },
         "name": "",
         "offsetgroup": "",
         "orientation": "v",
         "showlegend": false,
         "text": [
          72,
          72,
          69,
          69,
          67,
          66,
          64,
          62,
          61,
          60,
          60,
          59,
          59,
          54,
          54,
          54,
          54,
          51,
          51,
          50,
          50,
          50,
          47,
          47,
          47,
          47,
          47,
          45,
          44,
          43,
          43,
          43,
          43,
          42,
          41,
          41,
          40,
          40,
          40,
          39,
          39,
          37,
          36,
          36,
          35,
          34,
          32,
          32,
          30,
          29,
          26,
          26,
          24,
          22,
          20,
          19,
          15,
          15,
          14,
          14,
          12,
          10,
          8,
          8,
          7,
          7,
          7,
          6,
          6,
          6,
          5,
          5,
          5,
          5,
          5,
          4,
          4,
          4,
          4,
          3,
          2,
          2,
          2,
          2,
          2,
          1,
          1,
          1,
          1,
          1,
          1,
          1,
          1,
          1,
          1,
          1,
          1,
          1
         ],
         "textposition": "outside",
         "texttemplate": "%{text:.2f}",
         "type": "bar",
         "x": [
          "38",
          "41",
          "47",
          "46",
          "45",
          "44",
          "40",
          "48",
          "42",
          "49",
          "54",
          "43",
          "50",
          "35",
          "52",
          "55",
          "37",
          "56",
          "51",
          "39",
          "36",
          "53",
          "60",
          "59",
          "25",
          "63",
          "62",
          "32",
          "27",
          "34",
          "58",
          "31",
          "61",
          "57",
          "64",
          "22",
          "20",
          "26",
          "30",
          "23",
          "21",
          "24",
          "33",
          "65",
          "19",
          "17",
          "28",
          "16",
          "29",
          "18",
          "15",
          "67",
          "68",
          "69",
          "14",
          "66",
          "70",
          "71",
          "11",
          "72",
          "12",
          "73",
          "74",
          "75",
          "79",
          "13",
          "10",
          "76",
          "86",
          "7",
          "9",
          "4",
          "1",
          "6",
          "5",
          "77",
          "80",
          "3",
          "82",
          "8",
          "84",
          "78",
          "81",
          "2",
          "0",
          "92",
          "90",
          "0,016666667",
          "88",
          "0,5",
          "89",
          "0,001598174",
          "85",
          "0,9",
          "93",
          "0,02",
          "0,008",
          "87"
         ],
         "xaxis": "x",
         "y": [
          72,
          72,
          69,
          69,
          67,
          66,
          64,
          62,
          61,
          60,
          60,
          59,
          59,
          54,
          54,
          54,
          54,
          51,
          51,
          50,
          50,
          50,
          47,
          47,
          47,
          47,
          47,
          45,
          44,
          43,
          43,
          43,
          43,
          42,
          41,
          41,
          40,
          40,
          40,
          39,
          39,
          37,
          36,
          36,
          35,
          34,
          32,
          32,
          30,
          29,
          26,
          26,
          24,
          22,
          20,
          19,
          15,
          15,
          14,
          14,
          12,
          10,
          8,
          8,
          7,
          7,
          7,
          6,
          6,
          6,
          5,
          5,
          5,
          5,
          5,
          4,
          4,
          4,
          4,
          3,
          2,
          2,
          2,
          2,
          2,
          1,
          1,
          1,
          1,
          1,
          1,
          1,
          1,
          1,
          1,
          1,
          1,
          1
         ],
         "yaxis": "y"
        }
       ],
       "layout": {
        "barmode": "relative",
        "legend": {
         "tracegroupgap": 0
        },
        "margin": {
         "t": 60
        },
        "template": {
         "data": {
          "bar": [
           {
            "error_x": {
             "color": "#2a3f5f"
            },
            "error_y": {
             "color": "#2a3f5f"
            },
            "marker": {
             "line": {
              "color": "#E5ECF6",
              "width": 0.5
             },
             "pattern": {
              "fillmode": "overlay",
              "size": 10,
              "solidity": 0.2
             }
            },
            "type": "bar"
           }
          ],
          "barpolar": [
           {
            "marker": {
             "line": {
              "color": "#E5ECF6",
              "width": 0.5
             },
             "pattern": {
              "fillmode": "overlay",
              "size": 10,
              "solidity": 0.2
             }
            },
            "type": "barpolar"
           }
          ],
          "carpet": [
           {
            "aaxis": {
             "endlinecolor": "#2a3f5f",
             "gridcolor": "white",
             "linecolor": "white",
             "minorgridcolor": "white",
             "startlinecolor": "#2a3f5f"
            },
            "baxis": {
             "endlinecolor": "#2a3f5f",
             "gridcolor": "white",
             "linecolor": "white",
             "minorgridcolor": "white",
             "startlinecolor": "#2a3f5f"
            },
            "type": "carpet"
           }
          ],
          "choropleth": [
           {
            "colorbar": {
             "outlinewidth": 0,
             "ticks": ""
            },
            "type": "choropleth"
           }
          ],
          "contour": [
           {
            "colorbar": {
             "outlinewidth": 0,
             "ticks": ""
            },
            "colorscale": [
             [
              0,
              "#0d0887"
             ],
             [
              0.1111111111111111,
              "#46039f"
             ],
             [
              0.2222222222222222,
              "#7201a8"
             ],
             [
              0.3333333333333333,
              "#9c179e"
             ],
             [
              0.4444444444444444,
              "#bd3786"
             ],
             [
              0.5555555555555556,
              "#d8576b"
             ],
             [
              0.6666666666666666,
              "#ed7953"
             ],
             [
              0.7777777777777778,
              "#fb9f3a"
             ],
             [
              0.8888888888888888,
              "#fdca26"
             ],
             [
              1,
              "#f0f921"
             ]
            ],
            "type": "contour"
           }
          ],
          "contourcarpet": [
           {
            "colorbar": {
             "outlinewidth": 0,
             "ticks": ""
            },
            "type": "contourcarpet"
           }
          ],
          "heatmap": [
           {
            "colorbar": {
             "outlinewidth": 0,
             "ticks": ""
            },
            "colorscale": [
             [
              0,
              "#0d0887"
             ],
             [
              0.1111111111111111,
              "#46039f"
             ],
             [
              0.2222222222222222,
              "#7201a8"
             ],
             [
              0.3333333333333333,
              "#9c179e"
             ],
             [
              0.4444444444444444,
              "#bd3786"
             ],
             [
              0.5555555555555556,
              "#d8576b"
             ],
             [
              0.6666666666666666,
              "#ed7953"
             ],
             [
              0.7777777777777778,
              "#fb9f3a"
             ],
             [
              0.8888888888888888,
              "#fdca26"
             ],
             [
              1,
              "#f0f921"
             ]
            ],
            "type": "heatmap"
           }
          ],
          "heatmapgl": [
           {
            "colorbar": {
             "outlinewidth": 0,
             "ticks": ""
            },
            "colorscale": [
             [
              0,
              "#0d0887"
             ],
             [
              0.1111111111111111,
              "#46039f"
             ],
             [
              0.2222222222222222,
              "#7201a8"
             ],
             [
              0.3333333333333333,
              "#9c179e"
             ],
             [
              0.4444444444444444,
              "#bd3786"
             ],
             [
              0.5555555555555556,
              "#d8576b"
             ],
             [
              0.6666666666666666,
              "#ed7953"
             ],
             [
              0.7777777777777778,
              "#fb9f3a"
             ],
             [
              0.8888888888888888,
              "#fdca26"
             ],
             [
              1,
              "#f0f921"
             ]
            ],
            "type": "heatmapgl"
           }
          ],
          "histogram": [
           {
            "marker": {
             "pattern": {
              "fillmode": "overlay",
              "size": 10,
              "solidity": 0.2
             }
            },
            "type": "histogram"
           }
          ],
          "histogram2d": [
           {
            "colorbar": {
             "outlinewidth": 0,
             "ticks": ""
            },
            "colorscale": [
             [
              0,
              "#0d0887"
             ],
             [
              0.1111111111111111,
              "#46039f"
             ],
             [
              0.2222222222222222,
              "#7201a8"
             ],
             [
              0.3333333333333333,
              "#9c179e"
             ],
             [
              0.4444444444444444,
              "#bd3786"
             ],
             [
              0.5555555555555556,
              "#d8576b"
             ],
             [
              0.6666666666666666,
              "#ed7953"
             ],
             [
              0.7777777777777778,
              "#fb9f3a"
             ],
             [
              0.8888888888888888,
              "#fdca26"
             ],
             [
              1,
              "#f0f921"
             ]
            ],
            "type": "histogram2d"
           }
          ],
          "histogram2dcontour": [
           {
            "colorbar": {
             "outlinewidth": 0,
             "ticks": ""
            },
            "colorscale": [
             [
              0,
              "#0d0887"
             ],
             [
              0.1111111111111111,
              "#46039f"
             ],
             [
              0.2222222222222222,
              "#7201a8"
             ],
             [
              0.3333333333333333,
              "#9c179e"
             ],
             [
              0.4444444444444444,
              "#bd3786"
             ],
             [
              0.5555555555555556,
              "#d8576b"
             ],
             [
              0.6666666666666666,
              "#ed7953"
             ],
             [
              0.7777777777777778,
              "#fb9f3a"
             ],
             [
              0.8888888888888888,
              "#fdca26"
             ],
             [
              1,
              "#f0f921"
             ]
            ],
            "type": "histogram2dcontour"
           }
          ],
          "mesh3d": [
           {
            "colorbar": {
             "outlinewidth": 0,
             "ticks": ""
            },
            "type": "mesh3d"
           }
          ],
          "parcoords": [
           {
            "line": {
             "colorbar": {
              "outlinewidth": 0,
              "ticks": ""
             }
            },
            "type": "parcoords"
           }
          ],
          "pie": [
           {
            "automargin": true,
            "type": "pie"
           }
          ],
          "scatter": [
           {
            "fillpattern": {
             "fillmode": "overlay",
             "size": 10,
             "solidity": 0.2
            },
            "type": "scatter"
           }
          ],
          "scatter3d": [
           {
            "line": {
             "colorbar": {
              "outlinewidth": 0,
              "ticks": ""
             }
            },
            "marker": {
             "colorbar": {
              "outlinewidth": 0,
              "ticks": ""
             }
            },
            "type": "scatter3d"
           }
          ],
          "scattercarpet": [
           {
            "marker": {
             "colorbar": {
              "outlinewidth": 0,
              "ticks": ""
             }
            },
            "type": "scattercarpet"
           }
          ],
          "scattergeo": [
           {
            "marker": {
             "colorbar": {
              "outlinewidth": 0,
              "ticks": ""
             }
            },
            "type": "scattergeo"
           }
          ],
          "scattergl": [
           {
            "marker": {
             "colorbar": {
              "outlinewidth": 0,
              "ticks": ""
             }
            },
            "type": "scattergl"
           }
          ],
          "scattermapbox": [
           {
            "marker": {
             "colorbar": {
              "outlinewidth": 0,
              "ticks": ""
             }
            },
            "type": "scattermapbox"
           }
          ],
          "scatterpolar": [
           {
            "marker": {
             "colorbar": {
              "outlinewidth": 0,
              "ticks": ""
             }
            },
            "type": "scatterpolar"
           }
          ],
          "scatterpolargl": [
           {
            "marker": {
             "colorbar": {
              "outlinewidth": 0,
              "ticks": ""
             }
            },
            "type": "scatterpolargl"
           }
          ],
          "scatterternary": [
           {
            "marker": {
             "colorbar": {
              "outlinewidth": 0,
              "ticks": ""
             }
            },
            "type": "scatterternary"
           }
          ],
          "surface": [
           {
            "colorbar": {
             "outlinewidth": 0,
             "ticks": ""
            },
            "colorscale": [
             [
              0,
              "#0d0887"
             ],
             [
              0.1111111111111111,
              "#46039f"
             ],
             [
              0.2222222222222222,
              "#7201a8"
             ],
             [
              0.3333333333333333,
              "#9c179e"
             ],
             [
              0.4444444444444444,
              "#bd3786"
             ],
             [
              0.5555555555555556,
              "#d8576b"
             ],
             [
              0.6666666666666666,
              "#ed7953"
             ],
             [
              0.7777777777777778,
              "#fb9f3a"
             ],
             [
              0.8888888888888888,
              "#fdca26"
             ],
             [
              1,
              "#f0f921"
             ]
            ],
            "type": "surface"
           }
          ],
          "table": [
           {
            "cells": {
             "fill": {
              "color": "#EBF0F8"
             },
             "line": {
              "color": "white"
             }
            },
            "header": {
             "fill": {
              "color": "#C8D4E3"
             },
             "line": {
              "color": "white"
             }
            },
            "type": "table"
           }
          ]
         },
         "layout": {
          "annotationdefaults": {
           "arrowcolor": "#2a3f5f",
           "arrowhead": 0,
           "arrowwidth": 1
          },
          "autotypenumbers": "strict",
          "coloraxis": {
           "colorbar": {
            "outlinewidth": 0,
            "ticks": ""
           }
          },
          "colorscale": {
           "diverging": [
            [
             0,
             "#8e0152"
            ],
            [
             0.1,
             "#c51b7d"
            ],
            [
             0.2,
             "#de77ae"
            ],
            [
             0.3,
             "#f1b6da"
            ],
            [
             0.4,
             "#fde0ef"
            ],
            [
             0.5,
             "#f7f7f7"
            ],
            [
             0.6,
             "#e6f5d0"
            ],
            [
             0.7,
             "#b8e186"
            ],
            [
             0.8,
             "#7fbc41"
            ],
            [
             0.9,
             "#4d9221"
            ],
            [
             1,
             "#276419"
            ]
           ],
           "sequential": [
            [
             0,
             "#0d0887"
            ],
            [
             0.1111111111111111,
             "#46039f"
            ],
            [
             0.2222222222222222,
             "#7201a8"
            ],
            [
             0.3333333333333333,
             "#9c179e"
            ],
            [
             0.4444444444444444,
             "#bd3786"
            ],
            [
             0.5555555555555556,
             "#d8576b"
            ],
            [
             0.6666666666666666,
             "#ed7953"
            ],
            [
             0.7777777777777778,
             "#fb9f3a"
            ],
            [
             0.8888888888888888,
             "#fdca26"
            ],
            [
             1,
             "#f0f921"
            ]
           ],
           "sequentialminus": [
            [
             0,
             "#0d0887"
            ],
            [
             0.1111111111111111,
             "#46039f"
            ],
            [
             0.2222222222222222,
             "#7201a8"
            ],
            [
             0.3333333333333333,
             "#9c179e"
            ],
            [
             0.4444444444444444,
             "#bd3786"
            ],
            [
             0.5555555555555556,
             "#d8576b"
            ],
            [
             0.6666666666666666,
             "#ed7953"
            ],
            [
             0.7777777777777778,
             "#fb9f3a"
            ],
            [
             0.8888888888888888,
             "#fdca26"
            ],
            [
             1,
             "#f0f921"
            ]
           ]
          },
          "colorway": [
           "#636efa",
           "#EF553B",
           "#00cc96",
           "#ab63fa",
           "#FFA15A",
           "#19d3f3",
           "#FF6692",
           "#B6E880",
           "#FF97FF",
           "#FECB52"
          ],
          "font": {
           "color": "#2a3f5f"
          },
          "geo": {
           "bgcolor": "white",
           "lakecolor": "white",
           "landcolor": "#E5ECF6",
           "showlakes": true,
           "showland": true,
           "subunitcolor": "white"
          },
          "hoverlabel": {
           "align": "left"
          },
          "hovermode": "closest",
          "mapbox": {
           "style": "light"
          },
          "paper_bgcolor": "white",
          "plot_bgcolor": "#E5ECF6",
          "polar": {
           "angularaxis": {
            "gridcolor": "white",
            "linecolor": "white",
            "ticks": ""
           },
           "bgcolor": "#E5ECF6",
           "radialaxis": {
            "gridcolor": "white",
            "linecolor": "white",
            "ticks": ""
           }
          },
          "scene": {
           "xaxis": {
            "backgroundcolor": "#E5ECF6",
            "gridcolor": "white",
            "gridwidth": 2,
            "linecolor": "white",
            "showbackground": true,
            "ticks": "",
            "zerolinecolor": "white"
           },
           "yaxis": {
            "backgroundcolor": "#E5ECF6",
            "gridcolor": "white",
            "gridwidth": 2,
            "linecolor": "white",
            "showbackground": true,
            "ticks": "",
            "zerolinecolor": "white"
           },
           "zaxis": {
            "backgroundcolor": "#E5ECF6",
            "gridcolor": "white",
            "gridwidth": 2,
            "linecolor": "white",
            "showbackground": true,
            "ticks": "",
            "zerolinecolor": "white"
           }
          },
          "shapedefaults": {
           "line": {
            "color": "#2a3f5f"
           }
          },
          "ternary": {
           "aaxis": {
            "gridcolor": "white",
            "linecolor": "white",
            "ticks": ""
           },
           "baxis": {
            "gridcolor": "white",
            "linecolor": "white",
            "ticks": ""
           },
           "bgcolor": "#E5ECF6",
           "caxis": {
            "gridcolor": "white",
            "linecolor": "white",
            "ticks": ""
           }
          },
          "title": {
           "x": 0.05
          },
          "xaxis": {
           "automargin": true,
           "gridcolor": "white",
           "linecolor": "white",
           "ticks": "",
           "title": {
            "standoff": 15
           },
           "zerolinecolor": "white",
           "zerolinewidth": 2
          },
          "yaxis": {
           "automargin": true,
           "gridcolor": "white",
           "linecolor": "white",
           "ticks": "",
           "title": {
            "standoff": 15
           },
           "zerolinecolor": "white",
           "zerolinewidth": 2
          }
         }
        },
        "xaxis": {
         "anchor": "y",
         "domain": [
          0,
          1
         ],
         "title": {
          "text": "x"
         }
        },
        "yaxis": {
         "anchor": "x",
         "domain": [
          0,
          1
         ],
         "title": {
          "text": "y"
         }
        }
       }
      }
     },
     "metadata": {},
     "output_type": "display_data"
    }
   ],
   "source": [
    "# 7. análise da coluna 'IDADE'\n",
    "counts = df_febre_amarela['IDADE'].value_counts()\n",
    "\n",
    "# criação do histograma das faixas de Idades\n",
    "grafico = px.bar(x=counts.index, y=counts.values, text=counts.values)\n",
    "grafico.update_traces(texttemplate='%{text:.2f}', textposition='outside')\n",
    "grafico.show()"
   ]
  },
  {
   "cell_type": "code",
   "execution_count": 64,
   "metadata": {},
   "outputs": [
    {
     "name": "stdout",
     "output_type": "stream",
     "text": [
      "Frequência:\n",
      " IDADE\n",
      "38    72\n",
      "41    72\n",
      "47    69\n",
      "46    69\n",
      "45    67\n",
      "Name: count, dtype: int64\n",
      "\n",
      "Frequência Relativa:\n",
      " IDADE\n",
      "38    0.026030\n",
      "41    0.026030\n",
      "47    0.024946\n",
      "46    0.024946\n",
      "45    0.024223\n",
      "Name: proportion, dtype: float64\n",
      "\n",
      "Probabilidade: 0.18641618497109827\n"
     ]
    }
   ],
   "source": [
    "# 7.1 calcular frequência, frequência relativa e probalidadde das 'IDADES' mais afetadas\n",
    "total = len(df_febre_amarela)\n",
    "idades = ((df_febre_amarela['IDADE'] >= '38') & (df_febre_amarela['IDADE'] <= '45')).sum()\n",
    "\n",
    "# frequência e frequência relativa\n",
    "frequencia_idade = df_febre_amarela['IDADE'].value_counts()\n",
    "frequencia_relativa_idade = df_febre_amarela['IDADE'].value_counts(normalize=True)\n",
    "\n",
    "print(f'Frequência:\\n {frequencia_idade.head(5)}')\n",
    "print(f'\\nFrequência Relativa:\\n {frequencia_relativa_idade.head(5)}')\n",
    "\n",
    "# probabilidade\n",
    "probalidade = idades / total\n",
    "\n",
    "print(f'\\nProbabilidade: {probalidade}')"
   ]
  },
  {
   "cell_type": "code",
   "execution_count": 65,
   "metadata": {},
   "outputs": [],
   "source": [
    "# 7.2 formatar os valores da coluna 'IDADE'\n",
    "\n",
    "# substituir vírgulas por pontos na coluna 'IDADE'\n",
    "df_febre_amarela['IDADE'] = df_febre_amarela['IDADE'].str.replace(',', '.')\n",
    "\n",
    "# converter valores para float\n",
    "df_febre_amarela['IDADE'] = df_febre_amarela['IDADE'].astype(float)"
   ]
  },
  {
   "cell_type": "code",
   "execution_count": 68,
   "metadata": {},
   "outputs": [
    {
     "name": "stdout",
     "output_type": "stream",
     "text": [
      "Média da Idade..: 42.57029872192371\n",
      "Mediana da Idade: 43.0\n"
     ]
    }
   ],
   "source": [
    "# 7.3 calcular a média e a mediana da coluna 'IDADE'\n",
    "media_idade   = df_febre_amarela['IDADE'].mean()\n",
    "mediana_idade = df_febre_amarela['IDADE'].median()\n",
    "\n",
    "print(f'Média da Idade..: {media_idade}')\n",
    "print(f'Mediana da Idade: {mediana_idade}')"
   ]
  },
  {
   "cell_type": "code",
   "execution_count": 75,
   "metadata": {},
   "outputs": [
    {
     "name": "stdout",
     "output_type": "stream",
     "text": [
      "Estatística do teste t: 1.0022340410167385\n",
      "Valor-p:..............: 0.31631830156263996\n"
     ]
    }
   ],
   "source": [
    "# 7.4 teste de média (SEXO E IDADE)\n",
    "\n",
    "# filtrar os dados para obter apenas os homens e as mulheres\n",
    "dados_homens = df_febre_amarela[df_febre_amarela['SEXO'] == 'M']['IDADE']\n",
    "dados_mulheres = df_febre_amarela[df_febre_amarela['SEXO'] == 'F']['IDADE']\n",
    "\n",
    "# remover valores ausentes (NaN)\n",
    "dados_homens = dados_homens.dropna()\n",
    "dados_mulheres = dados_mulheres.dropna()\n",
    "\n",
    "# aplicar o teste t para comparar as médias de idade\n",
    "estatistica_t, valor_p = ttest_ind(dados_homens, dados_mulheres)\n",
    "\n",
    "print(f'Estatística do teste t: {estatistica_t}')\n",
    "print(f'Valor-p:..............: {valor_p}')"
   ]
  },
  {
   "cell_type": "code",
   "execution_count": 78,
   "metadata": {},
   "outputs": [
    {
     "name": "stdout",
     "output_type": "stream",
     "text": [
      "CRIANÇAS:\n",
      "crianças contrair febre amarela na região SE: 0.5185185185185185\n",
      "crianças contrair febre amarela na região N.: 0.3425925925925926\n",
      "\n",
      "JOVENS:\n",
      "jovens contrair febre amarela na região SE: 0.6619318181818182\n",
      "jovens contrair febre amarela na região N.: 0.22443181818181818\n",
      "\n",
      "ADULTOS:\n",
      "adultos contrair febre amarela na região SE: 0.8950563746747615\n",
      "adultos contrair febre amarela na região N.: 0.03295750216825672\n"
     ]
    }
   ],
   "source": [
    "# 7.5 probabilidade de diferentes faixas estárias (criança, jovem e adulto) contrair a febre amarela no SE e no N\n",
    "\n",
    "# dividir a base de dados em crianças, jovens e adultos\n",
    "criancas = df_febre_amarela[df_febre_amarela['IDADE'] <= 14]\n",
    "jovens = df_febre_amarela[(df_febre_amarela['IDADE'] >= 15) & (df_febre_amarela['IDADE'] <= 24)]\n",
    "adultos = df_febre_amarela[df_febre_amarela['IDADE'] >= 25]\n",
    "\n",
    "# filtrar os indivíduos na região SE e N\n",
    "pacientes_SE = df_febre_amarela[(df_febre_amarela['REGIAO'] == 'SE')]\n",
    "pacientes_N = df_febre_amarela[(df_febre_amarela['REGIAO'] == 'N')]\n",
    "\n",
    "# calcular a probabilidade para crianças\n",
    "total_criancas = len(criancas)\n",
    "total_pacientes_SE_criancas = len(criancas[criancas['REGIAO'] == 'SE'])\n",
    "total_pacientes_N_criancas = len(criancas[criancas['REGIAO'] == 'N'])\n",
    "\n",
    "probabilidade_SE_criancas = total_pacientes_SE_criancas / total_criancas\n",
    "probabilidade_N_criancas = total_pacientes_N_criancas / total_criancas\n",
    "\n",
    "# calcular a probabilidade para jovens\n",
    "total_jovens = len(jovens)\n",
    "total_pacientes_SE_jovens = len(jovens[jovens['REGIAO'] == 'SE'])\n",
    "total_pacientes_N_jovens = len(jovens[jovens['REGIAO'] == 'N'])\n",
    "\n",
    "probabilidade_SE_jovens = total_pacientes_SE_jovens / total_jovens\n",
    "probabilidade_N_jovens = total_pacientes_N_jovens / total_jovens\n",
    "\n",
    "# calcular a probabilidade para adultos\n",
    "total_adultos = len(adultos)\n",
    "total_pacientes_SE_adultos = len(adultos[adultos['REGIAO'] == 'SE'])\n",
    "total_pacientes_N_adultos = len(adultos[adultos['REGIAO'] == 'N'])\n",
    "\n",
    "probabilidade_SE_adultos = total_pacientes_SE_adultos / total_adultos\n",
    "probabilidade_N_adultos = total_pacientes_N_adultos / total_adultos\n",
    "\n",
    "print('CRIANÇAS:')\n",
    "print(f'crianças contrair febre amarela na região SE: {probabilidade_SE_criancas}')\n",
    "print(f'crianças contrair febre amarela na região N.: {probabilidade_N_criancas}')\n",
    "\n",
    "print('\\nJOVENS:')\n",
    "print(f'jovens contrair febre amarela na região SE: {probabilidade_SE_jovens}')\n",
    "print(f'jovens contrair febre amarela na região N.: {probabilidade_N_jovens}')\n",
    "\n",
    "print('\\nADULTOS:')\n",
    "print(f'adultos contrair febre amarela na região SE: {probabilidade_SE_adultos}')\n",
    "print(f'adultos contrair febre amarela na região N.: {probabilidade_N_adultos}')"
   ]
  },
  {
   "cell_type": "code",
   "execution_count": 79,
   "metadata": {},
   "outputs": [
    {
     "data": {
      "application/vnd.plotly.v1+json": {
       "config": {
        "plotlyServerURL": "https://plot.ly"
       },
       "data": [
        {
         "alignmentgroup": "True",
         "hovertemplate": "variable=%{x}<br>value=%{y}<extra></extra>",
         "legendgroup": "",
         "marker": {
          "color": "#636efa"
         },
         "name": "",
         "notched": false,
         "offsetgroup": "",
         "orientation": "v",
         "showlegend": false,
         "type": "box",
         "x": [
          "IDADE",
          "IDADE",
          "IDADE",
          "IDADE",
          "IDADE",
          "IDADE",
          "IDADE",
          "IDADE",
          "IDADE",
          "IDADE",
          "IDADE",
          "IDADE",
          "IDADE",
          "IDADE",
          "IDADE",
          "IDADE",
          "IDADE",
          "IDADE",
          "IDADE",
          "IDADE",
          "IDADE",
          "IDADE",
          "IDADE",
          "IDADE",
          "IDADE",
          "IDADE",
          "IDADE",
          "IDADE",
          "IDADE",
          "IDADE",
          "IDADE",
          "IDADE",
          "IDADE",
          "IDADE",
          "IDADE",
          "IDADE",
          "IDADE",
          "IDADE",
          "IDADE",
          "IDADE",
          "IDADE",
          "IDADE",
          "IDADE",
          "IDADE",
          "IDADE",
          "IDADE",
          "IDADE",
          "IDADE",
          "IDADE",
          "IDADE",
          "IDADE",
          "IDADE",
          "IDADE",
          "IDADE",
          "IDADE",
          "IDADE",
          "IDADE",
          "IDADE",
          "IDADE",
          "IDADE",
          "IDADE",
          "IDADE",
          "IDADE",
          "IDADE",
          "IDADE",
          "IDADE",
          "IDADE",
          "IDADE",
          "IDADE",
          "IDADE",
          "IDADE",
          "IDADE",
          "IDADE",
          "IDADE",
          "IDADE",
          "IDADE",
          "IDADE",
          "IDADE",
          "IDADE",
          "IDADE",
          "IDADE",
          "IDADE",
          "IDADE",
          "IDADE",
          "IDADE",
          "IDADE",
          "IDADE",
          "IDADE",
          "IDADE",
          "IDADE",
          "IDADE",
          "IDADE",
          "IDADE",
          "IDADE",
          "IDADE",
          "IDADE",
          "IDADE",
          "IDADE",
          "IDADE",
          "IDADE",
          "IDADE",
          "IDADE",
          "IDADE",
          "IDADE",
          "IDADE",
          "IDADE",
          "IDADE",
          "IDADE",
          "IDADE",
          "IDADE",
          "IDADE",
          "IDADE",
          "IDADE",
          "IDADE",
          "IDADE",
          "IDADE",
          "IDADE",
          "IDADE",
          "IDADE",
          "IDADE",
          "IDADE",
          "IDADE",
          "IDADE",
          "IDADE",
          "IDADE",
          "IDADE",
          "IDADE",
          "IDADE",
          "IDADE",
          "IDADE",
          "IDADE",
          "IDADE",
          "IDADE",
          "IDADE",
          "IDADE",
          "IDADE",
          "IDADE",
          "IDADE",
          "IDADE",
          "IDADE",
          "IDADE",
          "IDADE",
          "IDADE",
          "IDADE",
          "IDADE",
          "IDADE",
          "IDADE",
          "IDADE",
          "IDADE",
          "IDADE",
          "IDADE",
          "IDADE",
          "IDADE",
          "IDADE",
          "IDADE",
          "IDADE",
          "IDADE",
          "IDADE",
          "IDADE",
          "IDADE",
          "IDADE",
          "IDADE",
          "IDADE",
          "IDADE",
          "IDADE",
          "IDADE",
          "IDADE",
          "IDADE",
          "IDADE",
          "IDADE",
          "IDADE",
          "IDADE",
          "IDADE",
          "IDADE",
          "IDADE",
          "IDADE",
          "IDADE",
          "IDADE",
          "IDADE",
          "IDADE",
          "IDADE",
          "IDADE",
          "IDADE",
          "IDADE",
          "IDADE",
          "IDADE",
          "IDADE",
          "IDADE",
          "IDADE",
          "IDADE",
          "IDADE",
          "IDADE",
          "IDADE",
          "IDADE",
          "IDADE",
          "IDADE",
          "IDADE",
          "IDADE",
          "IDADE",
          "IDADE",
          "IDADE",
          "IDADE",
          "IDADE",
          "IDADE",
          "IDADE",
          "IDADE",
          "IDADE",
          "IDADE",
          "IDADE",
          "IDADE",
          "IDADE",
          "IDADE",
          "IDADE",
          "IDADE",
          "IDADE",
          "IDADE",
          "IDADE",
          "IDADE",
          "IDADE",
          "IDADE",
          "IDADE",
          "IDADE",
          "IDADE",
          "IDADE",
          "IDADE",
          "IDADE",
          "IDADE",
          "IDADE",
          "IDADE",
          "IDADE",
          "IDADE",
          "IDADE",
          "IDADE",
          "IDADE",
          "IDADE",
          "IDADE",
          "IDADE",
          "IDADE",
          "IDADE",
          "IDADE",
          "IDADE",
          "IDADE",
          "IDADE",
          "IDADE",
          "IDADE",
          "IDADE",
          "IDADE",
          "IDADE",
          "IDADE",
          "IDADE",
          "IDADE",
          "IDADE",
          "IDADE",
          "IDADE",
          "IDADE",
          "IDADE",
          "IDADE",
          "IDADE",
          "IDADE",
          "IDADE",
          "IDADE",
          "IDADE",
          "IDADE",
          "IDADE",
          "IDADE",
          "IDADE",
          "IDADE",
          "IDADE",
          "IDADE",
          "IDADE",
          "IDADE",
          "IDADE",
          "IDADE",
          "IDADE",
          "IDADE",
          "IDADE",
          "IDADE",
          "IDADE",
          "IDADE",
          "IDADE",
          "IDADE",
          "IDADE",
          "IDADE",
          "IDADE",
          "IDADE",
          "IDADE",
          "IDADE",
          "IDADE",
          "IDADE",
          "IDADE",
          "IDADE",
          "IDADE",
          "IDADE",
          "IDADE",
          "IDADE",
          "IDADE",
          "IDADE",
          "IDADE",
          "IDADE",
          "IDADE",
          "IDADE",
          "IDADE",
          "IDADE",
          "IDADE",
          "IDADE",
          "IDADE",
          "IDADE",
          "IDADE",
          "IDADE",
          "IDADE",
          "IDADE",
          "IDADE",
          "IDADE",
          "IDADE",
          "IDADE",
          "IDADE",
          "IDADE",
          "IDADE",
          "IDADE",
          "IDADE",
          "IDADE",
          "IDADE",
          "IDADE",
          "IDADE",
          "IDADE",
          "IDADE",
          "IDADE",
          "IDADE",
          "IDADE",
          "IDADE",
          "IDADE",
          "IDADE",
          "IDADE",
          "IDADE",
          "IDADE",
          "IDADE",
          "IDADE",
          "IDADE",
          "IDADE",
          "IDADE",
          "IDADE",
          "IDADE",
          "IDADE",
          "IDADE",
          "IDADE",
          "IDADE",
          "IDADE",
          "IDADE",
          "IDADE",
          "IDADE",
          "IDADE",
          "IDADE",
          "IDADE",
          "IDADE",
          "IDADE",
          "IDADE",
          "IDADE",
          "IDADE",
          "IDADE",
          "IDADE",
          "IDADE",
          "IDADE",
          "IDADE",
          "IDADE",
          "IDADE",
          "IDADE",
          "IDADE",
          "IDADE",
          "IDADE",
          "IDADE",
          "IDADE",
          "IDADE",
          "IDADE",
          "IDADE",
          "IDADE",
          "IDADE",
          "IDADE",
          "IDADE",
          "IDADE",
          "IDADE",
          "IDADE",
          "IDADE",
          "IDADE",
          "IDADE",
          "IDADE",
          "IDADE",
          "IDADE",
          "IDADE",
          "IDADE",
          "IDADE",
          "IDADE",
          "IDADE",
          "IDADE",
          "IDADE",
          "IDADE",
          "IDADE",
          "IDADE",
          "IDADE",
          "IDADE",
          "IDADE",
          "IDADE",
          "IDADE",
          "IDADE",
          "IDADE",
          "IDADE",
          "IDADE",
          "IDADE",
          "IDADE",
          "IDADE",
          "IDADE",
          "IDADE",
          "IDADE",
          "IDADE",
          "IDADE",
          "IDADE",
          "IDADE",
          "IDADE",
          "IDADE",
          "IDADE",
          "IDADE",
          "IDADE",
          "IDADE",
          "IDADE",
          "IDADE",
          "IDADE",
          "IDADE",
          "IDADE",
          "IDADE",
          "IDADE",
          "IDADE",
          "IDADE",
          "IDADE",
          "IDADE",
          "IDADE",
          "IDADE",
          "IDADE",
          "IDADE",
          "IDADE",
          "IDADE",
          "IDADE",
          "IDADE",
          "IDADE",
          "IDADE",
          "IDADE",
          "IDADE",
          "IDADE",
          "IDADE",
          "IDADE",
          "IDADE",
          "IDADE",
          "IDADE",
          "IDADE",
          "IDADE",
          "IDADE",
          "IDADE",
          "IDADE",
          "IDADE",
          "IDADE",
          "IDADE",
          "IDADE",
          "IDADE",
          "IDADE",
          "IDADE",
          "IDADE",
          "IDADE",
          "IDADE",
          "IDADE",
          "IDADE",
          "IDADE",
          "IDADE",
          "IDADE",
          "IDADE",
          "IDADE",
          "IDADE",
          "IDADE",
          "IDADE",
          "IDADE",
          "IDADE",
          "IDADE",
          "IDADE",
          "IDADE",
          "IDADE",
          "IDADE",
          "IDADE",
          "IDADE",
          "IDADE",
          "IDADE",
          "IDADE",
          "IDADE",
          "IDADE",
          "IDADE",
          "IDADE",
          "IDADE",
          "IDADE",
          "IDADE",
          "IDADE",
          "IDADE",
          "IDADE",
          "IDADE",
          "IDADE",
          "IDADE",
          "IDADE",
          "IDADE",
          "IDADE",
          "IDADE",
          "IDADE",
          "IDADE",
          "IDADE",
          "IDADE",
          "IDADE",
          "IDADE",
          "IDADE",
          "IDADE",
          "IDADE",
          "IDADE",
          "IDADE",
          "IDADE",
          "IDADE",
          "IDADE",
          "IDADE",
          "IDADE",
          "IDADE",
          "IDADE",
          "IDADE",
          "IDADE",
          "IDADE",
          "IDADE",
          "IDADE",
          "IDADE",
          "IDADE",
          "IDADE",
          "IDADE",
          "IDADE",
          "IDADE",
          "IDADE",
          "IDADE",
          "IDADE",
          "IDADE",
          "IDADE",
          "IDADE",
          "IDADE",
          "IDADE",
          "IDADE",
          "IDADE",
          "IDADE",
          "IDADE",
          "IDADE",
          "IDADE",
          "IDADE",
          "IDADE",
          "IDADE",
          "IDADE",
          "IDADE",
          "IDADE",
          "IDADE",
          "IDADE",
          "IDADE",
          "IDADE",
          "IDADE",
          "IDADE",
          "IDADE",
          "IDADE",
          "IDADE",
          "IDADE",
          "IDADE",
          "IDADE",
          "IDADE",
          "IDADE",
          "IDADE",
          "IDADE",
          "IDADE",
          "IDADE",
          "IDADE",
          "IDADE",
          "IDADE",
          "IDADE",
          "IDADE",
          "IDADE",
          "IDADE",
          "IDADE",
          "IDADE",
          "IDADE",
          "IDADE",
          "IDADE",
          "IDADE",
          "IDADE",
          "IDADE",
          "IDADE",
          "IDADE",
          "IDADE",
          "IDADE",
          "IDADE",
          "IDADE",
          "IDADE",
          "IDADE",
          "IDADE",
          "IDADE",
          "IDADE",
          "IDADE",
          "IDADE",
          "IDADE",
          "IDADE",
          "IDADE",
          "IDADE",
          "IDADE",
          "IDADE",
          "IDADE",
          "IDADE",
          "IDADE",
          "IDADE",
          "IDADE",
          "IDADE",
          "IDADE",
          "IDADE",
          "IDADE",
          "IDADE",
          "IDADE",
          "IDADE",
          "IDADE",
          "IDADE",
          "IDADE",
          "IDADE",
          "IDADE",
          "IDADE",
          "IDADE",
          "IDADE",
          "IDADE",
          "IDADE",
          "IDADE",
          "IDADE",
          "IDADE",
          "IDADE",
          "IDADE",
          "IDADE",
          "IDADE",
          "IDADE",
          "IDADE",
          "IDADE",
          "IDADE",
          "IDADE",
          "IDADE",
          "IDADE",
          "IDADE",
          "IDADE",
          "IDADE",
          "IDADE",
          "IDADE",
          "IDADE",
          "IDADE",
          "IDADE",
          "IDADE",
          "IDADE",
          "IDADE",
          "IDADE",
          "IDADE",
          "IDADE",
          "IDADE",
          "IDADE",
          "IDADE",
          "IDADE",
          "IDADE",
          "IDADE",
          "IDADE",
          "IDADE",
          "IDADE",
          "IDADE",
          "IDADE",
          "IDADE",
          "IDADE",
          "IDADE",
          "IDADE",
          "IDADE",
          "IDADE",
          "IDADE",
          "IDADE",
          "IDADE",
          "IDADE",
          "IDADE",
          "IDADE",
          "IDADE",
          "IDADE",
          "IDADE",
          "IDADE",
          "IDADE",
          "IDADE",
          "IDADE",
          "IDADE",
          "IDADE",
          "IDADE",
          "IDADE",
          "IDADE",
          "IDADE",
          "IDADE",
          "IDADE",
          "IDADE",
          "IDADE",
          "IDADE",
          "IDADE",
          "IDADE",
          "IDADE",
          "IDADE",
          "IDADE",
          "IDADE",
          "IDADE",
          "IDADE",
          "IDADE",
          "IDADE",
          "IDADE",
          "IDADE",
          "IDADE",
          "IDADE",
          "IDADE",
          "IDADE",
          "IDADE",
          "IDADE",
          "IDADE",
          "IDADE",
          "IDADE",
          "IDADE",
          "IDADE",
          "IDADE",
          "IDADE",
          "IDADE",
          "IDADE",
          "IDADE",
          "IDADE",
          "IDADE",
          "IDADE",
          "IDADE",
          "IDADE",
          "IDADE",
          "IDADE",
          "IDADE",
          "IDADE",
          "IDADE",
          "IDADE",
          "IDADE",
          "IDADE",
          "IDADE",
          "IDADE",
          "IDADE",
          "IDADE",
          "IDADE",
          "IDADE",
          "IDADE",
          "IDADE",
          "IDADE",
          "IDADE",
          "IDADE",
          "IDADE",
          "IDADE",
          "IDADE",
          "IDADE",
          "IDADE",
          "IDADE",
          "IDADE",
          "IDADE",
          "IDADE",
          "IDADE",
          "IDADE",
          "IDADE",
          "IDADE",
          "IDADE",
          "IDADE",
          "IDADE",
          "IDADE",
          "IDADE",
          "IDADE",
          "IDADE",
          "IDADE",
          "IDADE",
          "IDADE",
          "IDADE",
          "IDADE",
          "IDADE",
          "IDADE",
          "IDADE",
          "IDADE",
          "IDADE",
          "IDADE",
          "IDADE",
          "IDADE",
          "IDADE",
          "IDADE",
          "IDADE",
          "IDADE",
          "IDADE",
          "IDADE",
          "IDADE",
          "IDADE",
          "IDADE",
          "IDADE",
          "IDADE",
          "IDADE",
          "IDADE",
          "IDADE",
          "IDADE",
          "IDADE",
          "IDADE",
          "IDADE",
          "IDADE",
          "IDADE",
          "IDADE",
          "IDADE",
          "IDADE",
          "IDADE",
          "IDADE",
          "IDADE",
          "IDADE",
          "IDADE",
          "IDADE",
          "IDADE",
          "IDADE",
          "IDADE",
          "IDADE",
          "IDADE",
          "IDADE",
          "IDADE",
          "IDADE",
          "IDADE",
          "IDADE",
          "IDADE",
          "IDADE",
          "IDADE",
          "IDADE",
          "IDADE",
          "IDADE",
          "IDADE",
          "IDADE",
          "IDADE",
          "IDADE",
          "IDADE",
          "IDADE",
          "IDADE",
          "IDADE",
          "IDADE",
          "IDADE",
          "IDADE",
          "IDADE",
          "IDADE",
          "IDADE",
          "IDADE",
          "IDADE",
          "IDADE",
          "IDADE",
          "IDADE",
          "IDADE",
          "IDADE",
          "IDADE",
          "IDADE",
          "IDADE",
          "IDADE",
          "IDADE",
          "IDADE",
          "IDADE",
          "IDADE",
          "IDADE",
          "IDADE",
          "IDADE",
          "IDADE",
          "IDADE",
          "IDADE",
          "IDADE",
          "IDADE",
          "IDADE",
          "IDADE",
          "IDADE",
          "IDADE",
          "IDADE",
          "IDADE",
          "IDADE",
          "IDADE",
          "IDADE",
          "IDADE",
          "IDADE",
          "IDADE",
          "IDADE",
          "IDADE",
          "IDADE",
          "IDADE",
          "IDADE",
          "IDADE",
          "IDADE",
          "IDADE",
          "IDADE",
          "IDADE",
          "IDADE",
          "IDADE",
          "IDADE",
          "IDADE",
          "IDADE",
          "IDADE",
          "IDADE",
          "IDADE",
          "IDADE",
          "IDADE",
          "IDADE",
          "IDADE",
          "IDADE",
          "IDADE",
          "IDADE",
          "IDADE",
          "IDADE",
          "IDADE",
          "IDADE",
          "IDADE",
          "IDADE",
          "IDADE",
          "IDADE",
          "IDADE",
          "IDADE",
          "IDADE",
          "IDADE",
          "IDADE",
          "IDADE",
          "IDADE",
          "IDADE",
          "IDADE",
          "IDADE",
          "IDADE",
          "IDADE",
          "IDADE",
          "IDADE",
          "IDADE",
          "IDADE",
          "IDADE",
          "IDADE",
          "IDADE",
          "IDADE",
          "IDADE",
          "IDADE",
          "IDADE",
          "IDADE",
          "IDADE",
          "IDADE",
          "IDADE",
          "IDADE",
          "IDADE",
          "IDADE",
          "IDADE",
          "IDADE",
          "IDADE",
          "IDADE",
          "IDADE",
          "IDADE",
          "IDADE",
          "IDADE",
          "IDADE",
          "IDADE",
          "IDADE",
          "IDADE",
          "IDADE",
          "IDADE",
          "IDADE",
          "IDADE",
          "IDADE",
          "IDADE",
          "IDADE",
          "IDADE",
          "IDADE",
          "IDADE",
          "IDADE",
          "IDADE",
          "IDADE",
          "IDADE",
          "IDADE",
          "IDADE",
          "IDADE",
          "IDADE",
          "IDADE",
          "IDADE",
          "IDADE",
          "IDADE",
          "IDADE",
          "IDADE",
          "IDADE",
          "IDADE",
          "IDADE",
          "IDADE",
          "IDADE",
          "IDADE",
          "IDADE",
          "IDADE",
          "IDADE",
          "IDADE",
          "IDADE",
          "IDADE",
          "IDADE",
          "IDADE",
          "IDADE",
          "IDADE",
          "IDADE",
          "IDADE",
          "IDADE",
          "IDADE",
          "IDADE",
          "IDADE",
          "IDADE",
          "IDADE",
          "IDADE",
          "IDADE",
          "IDADE",
          "IDADE",
          "IDADE",
          "IDADE",
          "IDADE",
          "IDADE",
          "IDADE",
          "IDADE",
          "IDADE",
          "IDADE",
          "IDADE",
          "IDADE",
          "IDADE",
          "IDADE",
          "IDADE",
          "IDADE",
          "IDADE",
          "IDADE",
          "IDADE",
          "IDADE",
          "IDADE",
          "IDADE",
          "IDADE",
          "IDADE",
          "IDADE",
          "IDADE",
          "IDADE",
          "IDADE",
          "IDADE",
          "IDADE",
          "IDADE",
          "IDADE",
          "IDADE",
          "IDADE",
          "IDADE",
          "IDADE",
          "IDADE",
          "IDADE",
          "IDADE",
          "IDADE",
          "IDADE",
          "IDADE",
          "IDADE",
          "IDADE",
          "IDADE",
          "IDADE",
          "IDADE",
          "IDADE",
          "IDADE",
          "IDADE",
          "IDADE",
          "IDADE",
          "IDADE",
          "IDADE",
          "IDADE",
          "IDADE",
          "IDADE",
          "IDADE",
          "IDADE",
          "IDADE",
          "IDADE",
          "IDADE",
          "IDADE",
          "IDADE",
          "IDADE",
          "IDADE",
          "IDADE",
          "IDADE",
          "IDADE",
          "IDADE",
          "IDADE",
          "IDADE",
          "IDADE",
          "IDADE",
          "IDADE",
          "IDADE",
          "IDADE",
          "IDADE",
          "IDADE",
          "IDADE",
          "IDADE",
          "IDADE",
          "IDADE",
          "IDADE",
          "IDADE",
          "IDADE",
          "IDADE",
          "IDADE",
          "IDADE",
          "IDADE",
          "IDADE",
          "IDADE",
          "IDADE",
          "IDADE",
          "IDADE",
          "IDADE",
          "IDADE",
          "IDADE",
          "IDADE",
          "IDADE",
          "IDADE",
          "IDADE",
          "IDADE",
          "IDADE",
          "IDADE",
          "IDADE",
          "IDADE",
          "IDADE",
          "IDADE",
          "IDADE",
          "IDADE",
          "IDADE",
          "IDADE",
          "IDADE",
          "IDADE",
          "IDADE",
          "IDADE",
          "IDADE",
          "IDADE",
          "IDADE",
          "IDADE",
          "IDADE",
          "IDADE",
          "IDADE",
          "IDADE",
          "IDADE",
          "IDADE",
          "IDADE",
          "IDADE",
          "IDADE",
          "IDADE",
          "IDADE",
          "IDADE",
          "IDADE",
          "IDADE",
          "IDADE",
          "IDADE",
          "IDADE",
          "IDADE",
          "IDADE",
          "IDADE",
          "IDADE",
          "IDADE",
          "IDADE",
          "IDADE",
          "IDADE",
          "IDADE",
          "IDADE",
          "IDADE",
          "IDADE",
          "IDADE",
          "IDADE",
          "IDADE",
          "IDADE",
          "IDADE",
          "IDADE",
          "IDADE",
          "IDADE",
          "IDADE",
          "IDADE",
          "IDADE",
          "IDADE",
          "IDADE",
          "IDADE",
          "IDADE",
          "IDADE",
          "IDADE",
          "IDADE",
          "IDADE",
          "IDADE",
          "IDADE",
          "IDADE",
          "IDADE",
          "IDADE",
          "IDADE",
          "IDADE",
          "IDADE",
          "IDADE",
          "IDADE",
          "IDADE",
          "IDADE",
          "IDADE",
          "IDADE",
          "IDADE",
          "IDADE",
          "IDADE",
          "IDADE",
          "IDADE",
          "IDADE",
          "IDADE",
          "IDADE",
          "IDADE",
          "IDADE",
          "IDADE",
          "IDADE",
          "IDADE",
          "IDADE",
          "IDADE",
          "IDADE",
          "IDADE",
          "IDADE",
          "IDADE",
          "IDADE",
          "IDADE",
          "IDADE",
          "IDADE",
          "IDADE",
          "IDADE",
          "IDADE",
          "IDADE",
          "IDADE",
          "IDADE",
          "IDADE",
          "IDADE",
          "IDADE",
          "IDADE",
          "IDADE",
          "IDADE",
          "IDADE",
          "IDADE",
          "IDADE",
          "IDADE",
          "IDADE",
          "IDADE",
          "IDADE",
          "IDADE",
          "IDADE",
          "IDADE",
          "IDADE",
          "IDADE",
          "IDADE",
          "IDADE",
          "IDADE",
          "IDADE",
          "IDADE",
          "IDADE",
          "IDADE",
          "IDADE",
          "IDADE",
          "IDADE",
          "IDADE",
          "IDADE",
          "IDADE",
          "IDADE",
          "IDADE",
          "IDADE",
          "IDADE",
          "IDADE",
          "IDADE",
          "IDADE",
          "IDADE",
          "IDADE",
          "IDADE",
          "IDADE",
          "IDADE",
          "IDADE",
          "IDADE",
          "IDADE",
          "IDADE",
          "IDADE",
          "IDADE",
          "IDADE",
          "IDADE",
          "IDADE",
          "IDADE",
          "IDADE",
          "IDADE",
          "IDADE",
          "IDADE",
          "IDADE",
          "IDADE",
          "IDADE",
          "IDADE",
          "IDADE",
          "IDADE",
          "IDADE",
          "IDADE",
          "IDADE",
          "IDADE",
          "IDADE",
          "IDADE",
          "IDADE",
          "IDADE",
          "IDADE",
          "IDADE",
          "IDADE",
          "IDADE",
          "IDADE",
          "IDADE",
          "IDADE",
          "IDADE",
          "IDADE",
          "IDADE",
          "IDADE",
          "IDADE",
          "IDADE",
          "IDADE",
          "IDADE",
          "IDADE",
          "IDADE",
          "IDADE",
          "IDADE",
          "IDADE",
          "IDADE",
          "IDADE",
          "IDADE",
          "IDADE",
          "IDADE",
          "IDADE",
          "IDADE",
          "IDADE",
          "IDADE",
          "IDADE",
          "IDADE",
          "IDADE",
          "IDADE",
          "IDADE",
          "IDADE",
          "IDADE",
          "IDADE",
          "IDADE",
          "IDADE",
          "IDADE",
          "IDADE",
          "IDADE",
          "IDADE",
          "IDADE",
          "IDADE",
          "IDADE",
          "IDADE",
          "IDADE",
          "IDADE",
          "IDADE",
          "IDADE",
          "IDADE",
          "IDADE",
          "IDADE",
          "IDADE",
          "IDADE",
          "IDADE",
          "IDADE",
          "IDADE",
          "IDADE",
          "IDADE",
          "IDADE",
          "IDADE",
          "IDADE",
          "IDADE",
          "IDADE",
          "IDADE",
          "IDADE",
          "IDADE",
          "IDADE",
          "IDADE",
          "IDADE",
          "IDADE",
          "IDADE",
          "IDADE",
          "IDADE",
          "IDADE",
          "IDADE",
          "IDADE",
          "IDADE",
          "IDADE",
          "IDADE",
          "IDADE",
          "IDADE",
          "IDADE",
          "IDADE",
          "IDADE",
          "IDADE",
          "IDADE",
          "IDADE",
          "IDADE",
          "IDADE",
          "IDADE",
          "IDADE",
          "IDADE",
          "IDADE",
          "IDADE",
          "IDADE",
          "IDADE",
          "IDADE",
          "IDADE",
          "IDADE",
          "IDADE",
          "IDADE",
          "IDADE",
          "IDADE",
          "IDADE",
          "IDADE",
          "IDADE",
          "IDADE",
          "IDADE",
          "IDADE",
          "IDADE",
          "IDADE",
          "IDADE",
          "IDADE",
          "IDADE",
          "IDADE",
          "IDADE",
          "IDADE",
          "IDADE",
          "IDADE",
          "IDADE",
          "IDADE",
          "IDADE",
          "IDADE",
          "IDADE",
          "IDADE",
          "IDADE",
          "IDADE",
          "IDADE",
          "IDADE",
          "IDADE",
          "IDADE",
          "IDADE",
          "IDADE",
          "IDADE",
          "IDADE",
          "IDADE",
          "IDADE",
          "IDADE",
          "IDADE",
          "IDADE",
          "IDADE",
          "IDADE",
          "IDADE",
          "IDADE",
          "IDADE",
          "IDADE",
          "IDADE",
          "IDADE",
          "IDADE",
          "IDADE",
          "IDADE",
          "IDADE",
          "IDADE",
          "IDADE",
          "IDADE",
          "IDADE",
          "IDADE",
          "IDADE",
          "IDADE",
          "IDADE",
          "IDADE",
          "IDADE",
          "IDADE",
          "IDADE",
          "IDADE",
          "IDADE",
          "IDADE",
          "IDADE",
          "IDADE",
          "IDADE",
          "IDADE",
          "IDADE",
          "IDADE",
          "IDADE",
          "IDADE",
          "IDADE",
          "IDADE",
          "IDADE",
          "IDADE",
          "IDADE",
          "IDADE",
          "IDADE",
          "IDADE",
          "IDADE",
          "IDADE",
          "IDADE",
          "IDADE",
          "IDADE",
          "IDADE",
          "IDADE",
          "IDADE",
          "IDADE",
          "IDADE",
          "IDADE",
          "IDADE",
          "IDADE",
          "IDADE",
          "IDADE",
          "IDADE",
          "IDADE",
          "IDADE",
          "IDADE",
          "IDADE",
          "IDADE",
          "IDADE",
          "IDADE",
          "IDADE",
          "IDADE",
          "IDADE",
          "IDADE",
          "IDADE",
          "IDADE",
          "IDADE",
          "IDADE",
          "IDADE",
          "IDADE",
          "IDADE",
          "IDADE",
          "IDADE",
          "IDADE",
          "IDADE",
          "IDADE",
          "IDADE",
          "IDADE",
          "IDADE",
          "IDADE",
          "IDADE",
          "IDADE",
          "IDADE",
          "IDADE",
          "IDADE",
          "IDADE",
          "IDADE",
          "IDADE",
          "IDADE",
          "IDADE",
          "IDADE",
          "IDADE",
          "IDADE",
          "IDADE",
          "IDADE",
          "IDADE",
          "IDADE",
          "IDADE",
          "IDADE",
          "IDADE",
          "IDADE",
          "IDADE",
          "IDADE",
          "IDADE",
          "IDADE",
          "IDADE",
          "IDADE",
          "IDADE",
          "IDADE",
          "IDADE",
          "IDADE",
          "IDADE",
          "IDADE",
          "IDADE",
          "IDADE",
          "IDADE",
          "IDADE",
          "IDADE",
          "IDADE",
          "IDADE",
          "IDADE",
          "IDADE",
          "IDADE",
          "IDADE",
          "IDADE",
          "IDADE",
          "IDADE",
          "IDADE",
          "IDADE",
          "IDADE",
          "IDADE",
          "IDADE",
          "IDADE",
          "IDADE",
          "IDADE",
          "IDADE",
          "IDADE",
          "IDADE",
          "IDADE",
          "IDADE",
          "IDADE",
          "IDADE",
          "IDADE",
          "IDADE",
          "IDADE",
          "IDADE",
          "IDADE",
          "IDADE",
          "IDADE",
          "IDADE",
          "IDADE",
          "IDADE",
          "IDADE",
          "IDADE",
          "IDADE",
          "IDADE",
          "IDADE",
          "IDADE",
          "IDADE",
          "IDADE",
          "IDADE",
          "IDADE",
          "IDADE",
          "IDADE",
          "IDADE",
          "IDADE",
          "IDADE",
          "IDADE",
          "IDADE",
          "IDADE",
          "IDADE",
          "IDADE",
          "IDADE",
          "IDADE",
          "IDADE",
          "IDADE",
          "IDADE",
          "IDADE",
          "IDADE",
          "IDADE",
          "IDADE",
          "IDADE",
          "IDADE",
          "IDADE",
          "IDADE",
          "IDADE",
          "IDADE",
          "IDADE",
          "IDADE",
          "IDADE",
          "IDADE",
          "IDADE",
          "IDADE",
          "IDADE",
          "IDADE",
          "IDADE",
          "IDADE",
          "IDADE",
          "IDADE",
          "IDADE",
          "IDADE",
          "IDADE",
          "IDADE",
          "IDADE",
          "IDADE",
          "IDADE",
          "IDADE",
          "IDADE",
          "IDADE",
          "IDADE",
          "IDADE",
          "IDADE",
          "IDADE",
          "IDADE",
          "IDADE",
          "IDADE",
          "IDADE",
          "IDADE",
          "IDADE",
          "IDADE",
          "IDADE",
          "IDADE",
          "IDADE",
          "IDADE",
          "IDADE",
          "IDADE",
          "IDADE",
          "IDADE",
          "IDADE",
          "IDADE",
          "IDADE",
          "IDADE",
          "IDADE",
          "IDADE",
          "IDADE",
          "IDADE",
          "IDADE",
          "IDADE",
          "IDADE",
          "IDADE",
          "IDADE",
          "IDADE",
          "IDADE",
          "IDADE",
          "IDADE",
          "IDADE",
          "IDADE",
          "IDADE",
          "IDADE",
          "IDADE",
          "IDADE",
          "IDADE",
          "IDADE",
          "IDADE",
          "IDADE",
          "IDADE",
          "IDADE",
          "IDADE",
          "IDADE",
          "IDADE",
          "IDADE",
          "IDADE",
          "IDADE",
          "IDADE",
          "IDADE",
          "IDADE",
          "IDADE",
          "IDADE",
          "IDADE",
          "IDADE",
          "IDADE",
          "IDADE",
          "IDADE",
          "IDADE",
          "IDADE",
          "IDADE",
          "IDADE",
          "IDADE",
          "IDADE",
          "IDADE",
          "IDADE",
          "IDADE",
          "IDADE",
          "IDADE",
          "IDADE",
          "IDADE",
          "IDADE",
          "IDADE",
          "IDADE",
          "IDADE",
          "IDADE",
          "IDADE",
          "IDADE",
          "IDADE",
          "IDADE",
          "IDADE",
          "IDADE",
          "IDADE",
          "IDADE",
          "IDADE",
          "IDADE",
          "IDADE",
          "IDADE",
          "IDADE",
          "IDADE",
          "IDADE",
          "IDADE",
          "IDADE",
          "IDADE",
          "IDADE",
          "IDADE",
          "IDADE",
          "IDADE",
          "IDADE",
          "IDADE",
          "IDADE",
          "IDADE",
          "IDADE",
          "IDADE",
          "IDADE",
          "IDADE",
          "IDADE",
          "IDADE",
          "IDADE",
          "IDADE",
          "IDADE",
          "IDADE",
          "IDADE",
          "IDADE",
          "IDADE",
          "IDADE",
          "IDADE",
          "IDADE",
          "IDADE",
          "IDADE",
          "IDADE",
          "IDADE",
          "IDADE",
          "IDADE",
          "IDADE",
          "IDADE",
          "IDADE",
          "IDADE",
          "IDADE",
          "IDADE",
          "IDADE",
          "IDADE",
          "IDADE",
          "IDADE",
          "IDADE",
          "IDADE",
          "IDADE",
          "IDADE",
          "IDADE",
          "IDADE",
          "IDADE",
          "IDADE",
          "IDADE",
          "IDADE",
          "IDADE",
          "IDADE",
          "IDADE",
          "IDADE",
          "IDADE",
          "IDADE",
          "IDADE",
          "IDADE",
          "IDADE",
          "IDADE",
          "IDADE",
          "IDADE",
          "IDADE",
          "IDADE",
          "IDADE",
          "IDADE",
          "IDADE",
          "IDADE",
          "IDADE",
          "IDADE",
          "IDADE",
          "IDADE",
          "IDADE",
          "IDADE",
          "IDADE",
          "IDADE",
          "IDADE",
          "IDADE",
          "IDADE",
          "IDADE",
          "IDADE",
          "IDADE",
          "IDADE",
          "IDADE",
          "IDADE",
          "IDADE",
          "IDADE",
          "IDADE",
          "IDADE",
          "IDADE",
          "IDADE",
          "IDADE",
          "IDADE",
          "IDADE",
          "IDADE",
          "IDADE",
          "IDADE",
          "IDADE",
          "IDADE",
          "IDADE",
          "IDADE",
          "IDADE",
          "IDADE",
          "IDADE",
          "IDADE",
          "IDADE",
          "IDADE",
          "IDADE",
          "IDADE",
          "IDADE",
          "IDADE",
          "IDADE",
          "IDADE",
          "IDADE",
          "IDADE",
          "IDADE",
          "IDADE",
          "IDADE",
          "IDADE",
          "IDADE",
          "IDADE",
          "IDADE",
          "IDADE",
          "IDADE",
          "IDADE",
          "IDADE",
          "IDADE",
          "IDADE",
          "IDADE",
          "IDADE",
          "IDADE",
          "IDADE",
          "IDADE",
          "IDADE",
          "IDADE",
          "IDADE",
          "IDADE",
          "IDADE",
          "IDADE",
          "IDADE",
          "IDADE",
          "IDADE",
          "IDADE",
          "IDADE",
          "IDADE",
          "IDADE",
          "IDADE",
          "IDADE",
          "IDADE",
          "IDADE",
          "IDADE",
          "IDADE",
          "IDADE",
          "IDADE",
          "IDADE",
          "IDADE",
          "IDADE",
          "IDADE",
          "IDADE",
          "IDADE",
          "IDADE",
          "IDADE",
          "IDADE",
          "IDADE",
          "IDADE",
          "IDADE",
          "IDADE",
          "IDADE",
          "IDADE",
          "IDADE",
          "IDADE",
          "IDADE",
          "IDADE",
          "IDADE",
          "IDADE",
          "IDADE",
          "IDADE",
          "IDADE",
          "IDADE",
          "IDADE",
          "IDADE",
          "IDADE",
          "IDADE",
          "IDADE",
          "IDADE",
          "IDADE",
          "IDADE",
          "IDADE",
          "IDADE",
          "IDADE",
          "IDADE",
          "IDADE",
          "IDADE",
          "IDADE",
          "IDADE",
          "IDADE",
          "IDADE",
          "IDADE",
          "IDADE",
          "IDADE",
          "IDADE",
          "IDADE",
          "IDADE",
          "IDADE",
          "IDADE",
          "IDADE",
          "IDADE",
          "IDADE",
          "IDADE",
          "IDADE",
          "IDADE",
          "IDADE",
          "IDADE",
          "IDADE",
          "IDADE",
          "IDADE",
          "IDADE",
          "IDADE",
          "IDADE",
          "IDADE",
          "IDADE",
          "IDADE",
          "IDADE",
          "IDADE",
          "IDADE",
          "IDADE",
          "IDADE",
          "IDADE",
          "IDADE",
          "IDADE",
          "IDADE",
          "IDADE",
          "IDADE",
          "IDADE",
          "IDADE",
          "IDADE",
          "IDADE",
          "IDADE",
          "IDADE",
          "IDADE",
          "IDADE",
          "IDADE",
          "IDADE",
          "IDADE",
          "IDADE",
          "IDADE",
          "IDADE",
          "IDADE",
          "IDADE",
          "IDADE",
          "IDADE",
          "IDADE",
          "IDADE",
          "IDADE",
          "IDADE",
          "IDADE",
          "IDADE",
          "IDADE",
          "IDADE",
          "IDADE",
          "IDADE",
          "IDADE",
          "IDADE",
          "IDADE",
          "IDADE",
          "IDADE",
          "IDADE",
          "IDADE",
          "IDADE",
          "IDADE",
          "IDADE",
          "IDADE",
          "IDADE",
          "IDADE",
          "IDADE",
          "IDADE",
          "IDADE",
          "IDADE",
          "IDADE",
          "IDADE",
          "IDADE",
          "IDADE",
          "IDADE",
          "IDADE",
          "IDADE",
          "IDADE",
          "IDADE",
          "IDADE",
          "IDADE",
          "IDADE",
          "IDADE",
          "IDADE",
          "IDADE",
          "IDADE",
          "IDADE",
          "IDADE",
          "IDADE",
          "IDADE",
          "IDADE",
          "IDADE",
          "IDADE",
          "IDADE",
          "IDADE",
          "IDADE",
          "IDADE",
          "IDADE",
          "IDADE",
          "IDADE",
          "IDADE",
          "IDADE",
          "IDADE",
          "IDADE",
          "IDADE",
          "IDADE",
          "IDADE",
          "IDADE",
          "IDADE",
          "IDADE",
          "IDADE",
          "IDADE",
          "IDADE",
          "IDADE",
          "IDADE",
          "IDADE",
          "IDADE",
          "IDADE",
          "IDADE",
          "IDADE",
          "IDADE",
          "IDADE",
          "IDADE",
          "IDADE",
          "IDADE",
          "IDADE",
          "IDADE",
          "IDADE",
          "IDADE",
          "IDADE",
          "IDADE",
          "IDADE",
          "IDADE",
          "IDADE",
          "IDADE",
          "IDADE",
          "IDADE",
          "IDADE",
          "IDADE",
          "IDADE",
          "IDADE",
          "IDADE",
          "IDADE",
          "IDADE",
          "IDADE",
          "IDADE",
          "IDADE",
          "IDADE",
          "IDADE",
          "IDADE",
          "IDADE",
          "IDADE",
          "IDADE",
          "IDADE",
          "IDADE",
          "IDADE",
          "IDADE",
          "IDADE",
          "IDADE",
          "IDADE",
          "IDADE",
          "IDADE",
          "IDADE",
          "IDADE",
          "IDADE",
          "IDADE",
          "IDADE",
          "IDADE",
          "IDADE",
          "IDADE",
          "IDADE",
          "IDADE",
          "IDADE",
          "IDADE",
          "IDADE",
          "IDADE",
          "IDADE",
          "IDADE",
          "IDADE",
          "IDADE",
          "IDADE",
          "IDADE",
          "IDADE",
          "IDADE",
          "IDADE",
          "IDADE",
          "IDADE",
          "IDADE",
          "IDADE",
          "IDADE",
          "IDADE",
          "IDADE",
          "IDADE",
          "IDADE",
          "IDADE",
          "IDADE",
          "IDADE",
          "IDADE",
          "IDADE",
          "IDADE",
          "IDADE",
          "IDADE",
          "IDADE",
          "IDADE",
          "IDADE",
          "IDADE",
          "IDADE",
          "IDADE",
          "IDADE",
          "IDADE",
          "IDADE",
          "IDADE",
          "IDADE",
          "IDADE",
          "IDADE",
          "IDADE",
          "IDADE",
          "IDADE",
          "IDADE",
          "IDADE",
          "IDADE",
          "IDADE",
          "IDADE",
          "IDADE",
          "IDADE",
          "IDADE",
          "IDADE",
          "IDADE",
          "IDADE",
          "IDADE",
          "IDADE",
          "IDADE",
          "IDADE",
          "IDADE",
          "IDADE",
          "IDADE",
          "IDADE",
          "IDADE",
          "IDADE",
          "IDADE",
          "IDADE",
          "IDADE",
          "IDADE",
          "IDADE",
          "IDADE",
          "IDADE",
          "IDADE",
          "IDADE",
          "IDADE",
          "IDADE",
          "IDADE",
          "IDADE",
          "IDADE",
          "IDADE",
          "IDADE",
          "IDADE",
          "IDADE",
          "IDADE",
          "IDADE",
          "IDADE",
          "IDADE",
          "IDADE",
          "IDADE",
          "IDADE",
          "IDADE",
          "IDADE",
          "IDADE",
          "IDADE",
          "IDADE",
          "IDADE",
          "IDADE",
          "IDADE",
          "IDADE",
          "IDADE",
          "IDADE",
          "IDADE",
          "IDADE",
          "IDADE",
          "IDADE",
          "IDADE",
          "IDADE",
          "IDADE",
          "IDADE",
          "IDADE",
          "IDADE",
          "IDADE",
          "IDADE",
          "IDADE",
          "IDADE",
          "IDADE",
          "IDADE",
          "IDADE",
          "IDADE",
          "IDADE",
          "IDADE",
          "IDADE",
          "IDADE",
          "IDADE",
          "IDADE",
          "IDADE",
          "IDADE",
          "IDADE",
          "IDADE",
          "IDADE",
          "IDADE",
          "IDADE",
          "IDADE",
          "IDADE",
          "IDADE",
          "IDADE",
          "IDADE",
          "IDADE",
          "IDADE",
          "IDADE",
          "IDADE",
          "IDADE",
          "IDADE",
          "IDADE",
          "IDADE",
          "IDADE",
          "IDADE",
          "IDADE",
          "IDADE",
          "IDADE",
          "IDADE",
          "IDADE",
          "IDADE",
          "IDADE",
          "IDADE",
          "IDADE",
          "IDADE",
          "IDADE",
          "IDADE",
          "IDADE",
          "IDADE",
          "IDADE",
          "IDADE",
          "IDADE",
          "IDADE",
          "IDADE",
          "IDADE",
          "IDADE",
          "IDADE",
          "IDADE",
          "IDADE",
          "IDADE",
          "IDADE",
          "IDADE",
          "IDADE",
          "IDADE",
          "IDADE",
          "IDADE",
          "IDADE",
          "IDADE",
          "IDADE",
          "IDADE",
          "IDADE",
          "IDADE",
          "IDADE",
          "IDADE",
          "IDADE",
          "IDADE",
          "IDADE",
          "IDADE",
          "IDADE",
          "IDADE",
          "IDADE",
          "IDADE",
          "IDADE",
          "IDADE",
          "IDADE",
          "IDADE",
          "IDADE",
          "IDADE",
          "IDADE",
          "IDADE",
          "IDADE",
          "IDADE",
          "IDADE",
          "IDADE",
          "IDADE",
          "IDADE",
          "IDADE",
          "IDADE",
          "IDADE",
          "IDADE",
          "IDADE",
          "IDADE",
          "IDADE",
          "IDADE",
          "IDADE",
          "IDADE",
          "IDADE",
          "IDADE",
          "IDADE",
          "IDADE",
          "IDADE",
          "IDADE",
          "IDADE",
          "IDADE",
          "IDADE",
          "IDADE",
          "IDADE",
          "IDADE",
          "IDADE",
          "IDADE",
          "IDADE",
          "IDADE",
          "IDADE",
          "IDADE",
          "IDADE",
          "IDADE",
          "IDADE",
          "IDADE",
          "IDADE",
          "IDADE",
          "IDADE",
          "IDADE",
          "IDADE",
          "IDADE",
          "IDADE",
          "IDADE",
          "IDADE",
          "IDADE",
          "IDADE",
          "IDADE",
          "IDADE",
          "IDADE",
          "IDADE",
          "IDADE",
          "IDADE",
          "IDADE",
          "IDADE",
          "IDADE",
          "IDADE",
          "IDADE",
          "IDADE",
          "IDADE",
          "IDADE",
          "IDADE",
          "IDADE",
          "IDADE",
          "IDADE",
          "IDADE",
          "IDADE",
          "IDADE",
          "IDADE",
          "IDADE",
          "IDADE",
          "IDADE",
          "IDADE",
          "IDADE",
          "IDADE",
          "IDADE",
          "IDADE",
          "IDADE",
          "IDADE",
          "IDADE",
          "IDADE",
          "IDADE",
          "IDADE",
          "IDADE",
          "IDADE",
          "IDADE",
          "IDADE",
          "IDADE",
          "IDADE",
          "IDADE",
          "IDADE",
          "IDADE",
          "IDADE",
          "IDADE",
          "IDADE",
          "IDADE",
          "IDADE",
          "IDADE",
          "IDADE",
          "IDADE",
          "IDADE",
          "IDADE",
          "IDADE",
          "IDADE",
          "IDADE",
          "IDADE",
          "IDADE",
          "IDADE",
          "IDADE",
          "IDADE",
          "IDADE",
          "IDADE",
          "IDADE",
          "IDADE",
          "IDADE",
          "IDADE",
          "IDADE",
          "IDADE",
          "IDADE",
          "IDADE",
          "IDADE",
          "IDADE",
          "IDADE",
          "IDADE",
          "IDADE",
          "IDADE",
          "IDADE",
          "IDADE",
          "IDADE",
          "IDADE",
          "IDADE",
          "IDADE",
          "IDADE",
          "IDADE",
          "IDADE",
          "IDADE",
          "IDADE",
          "IDADE",
          "IDADE",
          "IDADE",
          "IDADE",
          "IDADE",
          "IDADE",
          "IDADE",
          "IDADE",
          "IDADE",
          "IDADE",
          "IDADE",
          "IDADE",
          "IDADE",
          "IDADE",
          "IDADE",
          "IDADE",
          "IDADE",
          "IDADE",
          "IDADE",
          "IDADE",
          "IDADE",
          "IDADE",
          "IDADE",
          "IDADE",
          "IDADE",
          "IDADE",
          "IDADE",
          "IDADE",
          "IDADE",
          "IDADE",
          "IDADE",
          "IDADE",
          "IDADE",
          "IDADE",
          "IDADE",
          "IDADE",
          "IDADE",
          "IDADE",
          "IDADE",
          "IDADE",
          "IDADE",
          "IDADE",
          "IDADE",
          "IDADE",
          "IDADE",
          "IDADE",
          "IDADE",
          "IDADE",
          "IDADE",
          "IDADE",
          "IDADE",
          "IDADE",
          "IDADE",
          "IDADE",
          "IDADE",
          "IDADE",
          "IDADE",
          "IDADE",
          "IDADE",
          "IDADE",
          "IDADE",
          "IDADE",
          "IDADE",
          "IDADE",
          "IDADE",
          "IDADE",
          "IDADE",
          "IDADE",
          "IDADE",
          "IDADE",
          "IDADE",
          "IDADE",
          "IDADE",
          "IDADE",
          "IDADE",
          "IDADE",
          "IDADE",
          "IDADE",
          "IDADE",
          "IDADE",
          "IDADE",
          "IDADE",
          "IDADE",
          "IDADE",
          "IDADE",
          "IDADE",
          "IDADE",
          "IDADE",
          "IDADE",
          "IDADE",
          "IDADE",
          "IDADE",
          "IDADE",
          "IDADE",
          "IDADE",
          "IDADE",
          "IDADE",
          "IDADE",
          "IDADE",
          "IDADE",
          "IDADE",
          "IDADE",
          "IDADE",
          "IDADE",
          "IDADE",
          "IDADE",
          "IDADE",
          "IDADE",
          "IDADE",
          "IDADE",
          "IDADE",
          "IDADE",
          "IDADE",
          "IDADE",
          "IDADE",
          "IDADE",
          "IDADE",
          "IDADE",
          "IDADE",
          "IDADE",
          "IDADE",
          "IDADE",
          "IDADE",
          "IDADE",
          "IDADE",
          "IDADE",
          "IDADE",
          "IDADE",
          "IDADE",
          "IDADE",
          "IDADE",
          "IDADE",
          "IDADE",
          "IDADE",
          "IDADE",
          "IDADE",
          "IDADE",
          "IDADE",
          "IDADE",
          "IDADE",
          "IDADE",
          "IDADE",
          "IDADE",
          "IDADE",
          "IDADE",
          "IDADE",
          "IDADE",
          "IDADE",
          "IDADE",
          "IDADE",
          "IDADE",
          "IDADE",
          "IDADE",
          "IDADE",
          "IDADE",
          "IDADE",
          "IDADE",
          "IDADE",
          "IDADE",
          "IDADE",
          "IDADE",
          "IDADE",
          "IDADE",
          "IDADE",
          "IDADE",
          "IDADE",
          "IDADE",
          "IDADE",
          "IDADE",
          "IDADE",
          "IDADE",
          "IDADE",
          "IDADE",
          "IDADE",
          "IDADE",
          "IDADE",
          "IDADE",
          "IDADE",
          "IDADE",
          "IDADE",
          "IDADE",
          "IDADE",
          "IDADE",
          "IDADE",
          "IDADE",
          "IDADE",
          "IDADE",
          "IDADE",
          "IDADE",
          "IDADE",
          "IDADE",
          "IDADE",
          "IDADE",
          "IDADE",
          "IDADE",
          "IDADE",
          "IDADE",
          "IDADE",
          "IDADE",
          "IDADE",
          "IDADE",
          "IDADE",
          "IDADE",
          "IDADE",
          "IDADE",
          "IDADE",
          "IDADE",
          "IDADE",
          "IDADE",
          "IDADE",
          "IDADE",
          "IDADE",
          "IDADE",
          "IDADE",
          "IDADE",
          "IDADE",
          "IDADE",
          "IDADE",
          "IDADE",
          "IDADE",
          "IDADE",
          "IDADE",
          "IDADE",
          "IDADE",
          "IDADE",
          "IDADE",
          "IDADE",
          "IDADE",
          "IDADE",
          "IDADE",
          "IDADE",
          "IDADE",
          "IDADE",
          "IDADE",
          "IDADE",
          "IDADE",
          "IDADE",
          "IDADE",
          "IDADE",
          "IDADE",
          "IDADE",
          "IDADE",
          "IDADE",
          "IDADE",
          "IDADE",
          "IDADE",
          "IDADE",
          "IDADE",
          "IDADE",
          "IDADE",
          "IDADE",
          "IDADE",
          "IDADE",
          "IDADE",
          "IDADE",
          "IDADE",
          "IDADE",
          "IDADE",
          "IDADE",
          "IDADE",
          "IDADE",
          "IDADE",
          "IDADE",
          "IDADE",
          "IDADE",
          "IDADE",
          "IDADE",
          "IDADE",
          "IDADE",
          "IDADE",
          "IDADE",
          "IDADE",
          "IDADE",
          "IDADE",
          "IDADE",
          "IDADE",
          "IDADE",
          "IDADE",
          "IDADE",
          "IDADE",
          "IDADE",
          "IDADE",
          "IDADE",
          "IDADE",
          "IDADE",
          "IDADE",
          "IDADE",
          "IDADE",
          "IDADE",
          "IDADE",
          "IDADE",
          "IDADE",
          "IDADE",
          "IDADE",
          "IDADE",
          "IDADE",
          "IDADE",
          "IDADE",
          "IDADE",
          "IDADE",
          "IDADE",
          "IDADE",
          "IDADE"
         ],
         "x0": " ",
         "xaxis": "x",
         "y": [
          null,
          19,
          32,
          33,
          26,
          29,
          38,
          46,
          20,
          27,
          23,
          14,
          26,
          23,
          21,
          38,
          20,
          42,
          17,
          14,
          31,
          25,
          24,
          19,
          24,
          23,
          41,
          43,
          17,
          43,
          17,
          30,
          45,
          11,
          24,
          34,
          23,
          22,
          16,
          14,
          12,
          10,
          34,
          20,
          38,
          13,
          26,
          20,
          31,
          36,
          22,
          20,
          20,
          20,
          30,
          25,
          54,
          5,
          0.9,
          22,
          9,
          28,
          7,
          5,
          10,
          25,
          24,
          4,
          23,
          17,
          46,
          45,
          11,
          11,
          20,
          1,
          23,
          2,
          1,
          16,
          1,
          7,
          22,
          24,
          31,
          5,
          40,
          14,
          41,
          46,
          17,
          22,
          41,
          19,
          22,
          16,
          11,
          17,
          15,
          31,
          38,
          25,
          16,
          16,
          14,
          29,
          15,
          26,
          15,
          17,
          19,
          27,
          19,
          8,
          6,
          7,
          4,
          22,
          6,
          22,
          16,
          26,
          29,
          32,
          25,
          3,
          25,
          38,
          15,
          19,
          20,
          59,
          31,
          37,
          24,
          29,
          25,
          27,
          31,
          11,
          36,
          22,
          51,
          74,
          18,
          36,
          19,
          40,
          26,
          43,
          32,
          46,
          64,
          22,
          31,
          38,
          35,
          35,
          18,
          36,
          31,
          25,
          32,
          32,
          42,
          24,
          46,
          56,
          44,
          30,
          14,
          49,
          23,
          31,
          46,
          25,
          48,
          25,
          16,
          23,
          41,
          48,
          20,
          44,
          50,
          32,
          20,
          51,
          50,
          52,
          36,
          21,
          35,
          38,
          45,
          39,
          26,
          40,
          33,
          29,
          64,
          37,
          52,
          35,
          13,
          48,
          19,
          32,
          41,
          30,
          18,
          20,
          16,
          20,
          23,
          18,
          21,
          21,
          51,
          43,
          35,
          48,
          45,
          20,
          34,
          34,
          40,
          20,
          16,
          43,
          48,
          33,
          43,
          37,
          68,
          54,
          26,
          45,
          55,
          68,
          29,
          19,
          45,
          39,
          17,
          30,
          19,
          20,
          55,
          52,
          43,
          69,
          21,
          93,
          44,
          14,
          20,
          28,
          7,
          38,
          41,
          32,
          47,
          16,
          9,
          23,
          53,
          27,
          45,
          67,
          15,
          45,
          20,
          24,
          48,
          26,
          24,
          27,
          47,
          38,
          49,
          49,
          32,
          51,
          38,
          38,
          16,
          32,
          74,
          37,
          50,
          34,
          57,
          32,
          64,
          27,
          61,
          41,
          40,
          40,
          20,
          60,
          23,
          33,
          41,
          31,
          52,
          43,
          58,
          51,
          47,
          34,
          39,
          20,
          20,
          28,
          17,
          82,
          54,
          48,
          34,
          24,
          29,
          43,
          34,
          25,
          40,
          57,
          29,
          37,
          50,
          18,
          55,
          15,
          36,
          39,
          16,
          19,
          42,
          36,
          4,
          47,
          28,
          61,
          26,
          28,
          16,
          30,
          25,
          15,
          33,
          21,
          23,
          54,
          40,
          30,
          55,
          64,
          15,
          24,
          31,
          31,
          29,
          38,
          42,
          47,
          39,
          41,
          27,
          55,
          44,
          63,
          49,
          33,
          59,
          26,
          22,
          69,
          24,
          65,
          44,
          46,
          44,
          32,
          65,
          49,
          42,
          37,
          54,
          27,
          65,
          35,
          38,
          26,
          21,
          22,
          27,
          35,
          12,
          17,
          39,
          39,
          21,
          25,
          22,
          31,
          29,
          36,
          23,
          14,
          41,
          14,
          73,
          35,
          30,
          30,
          47,
          18,
          23,
          18,
          50,
          18,
          18,
          35,
          22,
          47,
          51,
          39,
          51,
          30,
          15,
          50,
          25,
          56,
          0.02,
          17,
          14,
          33,
          47,
          51,
          0.008,
          42,
          30,
          33,
          42,
          39,
          35,
          37,
          20,
          36,
          25,
          27,
          48,
          29,
          59,
          10,
          39,
          31,
          19,
          15,
          17,
          25,
          18,
          15,
          23,
          59,
          45,
          7,
          31,
          40,
          31,
          13,
          38,
          38,
          14,
          17,
          27,
          35,
          30,
          53,
          41,
          35,
          43,
          41,
          62,
          30,
          31,
          37,
          27,
          53,
          37,
          40,
          37,
          49,
          60,
          44,
          53,
          60,
          54,
          58,
          62,
          84,
          45,
          39,
          32,
          61,
          6,
          53,
          52,
          76,
          44,
          25,
          51,
          43,
          72,
          23,
          58,
          43,
          28,
          51,
          33,
          44,
          50,
          32,
          38,
          58,
          33,
          67,
          24,
          51,
          52,
          57,
          70,
          28,
          47,
          41,
          47,
          35,
          48,
          43,
          43,
          45,
          49,
          56,
          44,
          47,
          47,
          40,
          36,
          50,
          55,
          44,
          61,
          60,
          17,
          29,
          35,
          53,
          53,
          38,
          48,
          43,
          39,
          36,
          26,
          27,
          53,
          46,
          15,
          59,
          38,
          24,
          56,
          17,
          56,
          64,
          61,
          53,
          60,
          40,
          45,
          58,
          22,
          57,
          52,
          19,
          36,
          43,
          24,
          22,
          47,
          32,
          65,
          27,
          28,
          46,
          37,
          0,
          55,
          43,
          76,
          46,
          54,
          61,
          36,
          34,
          72,
          40,
          44,
          16,
          44,
          11,
          50,
          62,
          23,
          51,
          26,
          10,
          34,
          45,
          41,
          45,
          36,
          27,
          17,
          54,
          27,
          47,
          66,
          30,
          55,
          71,
          40,
          53,
          45,
          63,
          33,
          41,
          53,
          23,
          41,
          36,
          40,
          52,
          30,
          57,
          56,
          49,
          59,
          40,
          47,
          15,
          47,
          41,
          24,
          50,
          33,
          32,
          61,
          60,
          38,
          36,
          40,
          59,
          50,
          60,
          45,
          52,
          54,
          54,
          56,
          2,
          55,
          62,
          37,
          37,
          60,
          17,
          67,
          11,
          44,
          79,
          45,
          44,
          46,
          57,
          36,
          60,
          26,
          56,
          21,
          61,
          54,
          42,
          7,
          27,
          53,
          54,
          19,
          49,
          63,
          47,
          64,
          35,
          11,
          37,
          67,
          60,
          46,
          12,
          51,
          44,
          18,
          65,
          47,
          54,
          61,
          65,
          37,
          55,
          56,
          57,
          68,
          59,
          14,
          50,
          62,
          43,
          38,
          51,
          56,
          56,
          47,
          75,
          42,
          48,
          43,
          12,
          43,
          17,
          56,
          15,
          29,
          44,
          32,
          63,
          44,
          55,
          60,
          68,
          35,
          55,
          19,
          50,
          79,
          40,
          64,
          12,
          32,
          56,
          64,
          39,
          22,
          35,
          55,
          31,
          52,
          22,
          63,
          43,
          75,
          56,
          26,
          58,
          51,
          54,
          51,
          30,
          45,
          63,
          53,
          59,
          24,
          53,
          39,
          45,
          55,
          46,
          69,
          23,
          65,
          16,
          49,
          39,
          40,
          57,
          45,
          50,
          38,
          39,
          17,
          46,
          39,
          55,
          51,
          63,
          59,
          58,
          37,
          54,
          45,
          35,
          25,
          53,
          63,
          62,
          43,
          38,
          13,
          32,
          29,
          24,
          35,
          29,
          56,
          39,
          54,
          30,
          19,
          86,
          38,
          41,
          54,
          55,
          54,
          67,
          44,
          37,
          85,
          45,
          54,
          42,
          70,
          57,
          37,
          34,
          42,
          47,
          11,
          42,
          22,
          56,
          32,
          41,
          36,
          14,
          50,
          48,
          34,
          42,
          58,
          37,
          26,
          60,
          33,
          59,
          22,
          59,
          62,
          32,
          37,
          48,
          24,
          41,
          59,
          62,
          35,
          20,
          41,
          69,
          46,
          48,
          52,
          47,
          38,
          69,
          46,
          48,
          48,
          43,
          60,
          58,
          14,
          57,
          37,
          49,
          61,
          38,
          47,
          53,
          35,
          34,
          61,
          42,
          36,
          64,
          41,
          49,
          42,
          30,
          38,
          47,
          51,
          46,
          58,
          45,
          36,
          51,
          41,
          49,
          55,
          36,
          44,
          19,
          57,
          44,
          60,
          39,
          47,
          31,
          40,
          72,
          44,
          49,
          40,
          46,
          49,
          75,
          60,
          19,
          37,
          39,
          41,
          44,
          79,
          57,
          59,
          38,
          57,
          60,
          3,
          32,
          32,
          38,
          72,
          72,
          50,
          59,
          43,
          4,
          46,
          48,
          43,
          61,
          53,
          56,
          15,
          67,
          33,
          64,
          33,
          50,
          38,
          45,
          47,
          47,
          63,
          46,
          52,
          28,
          63,
          52,
          51,
          60,
          63,
          43,
          45,
          62,
          32,
          46,
          22,
          34,
          50,
          25,
          0.001598174,
          34,
          70,
          45,
          23,
          42,
          62,
          43,
          26,
          62,
          42,
          64,
          53,
          22,
          51,
          43,
          4,
          29,
          40,
          23,
          71,
          45,
          46,
          42,
          52,
          46,
          56,
          44,
          53,
          69,
          52,
          60,
          35,
          32,
          54,
          77,
          57,
          45,
          64,
          53,
          62,
          26,
          63,
          46,
          63,
          37,
          66,
          48,
          35,
          36,
          52,
          32,
          25,
          16,
          52,
          41,
          38,
          63,
          45,
          59,
          55,
          59,
          65,
          39,
          68,
          28,
          46,
          40,
          59,
          46,
          18,
          33,
          38,
          38,
          34,
          37,
          51,
          18,
          39,
          25,
          34,
          33,
          31,
          65,
          54,
          56,
          52,
          40,
          48,
          20,
          65,
          48,
          53,
          52,
          50,
          26,
          25,
          47,
          36,
          40,
          31,
          64,
          56,
          6,
          43,
          22,
          49,
          27,
          20,
          17,
          26,
          23,
          25,
          68,
          19,
          45,
          23,
          65,
          62,
          72,
          57,
          56,
          68,
          44,
          54,
          0.5,
          33,
          15,
          29,
          68,
          56,
          65,
          59,
          60,
          41,
          55,
          26,
          28,
          28,
          70,
          41,
          53,
          17,
          23,
          53,
          47,
          31,
          18,
          52,
          47,
          53,
          8,
          40,
          47,
          14,
          38,
          45,
          48,
          44,
          64,
          48,
          71,
          41,
          62,
          16,
          54,
          60,
          67,
          32,
          30,
          64,
          38,
          60,
          12,
          36,
          21,
          63,
          69,
          62,
          47,
          38,
          45,
          42,
          30,
          18,
          42,
          67,
          23,
          49,
          62,
          11,
          46,
          52,
          41,
          22,
          63,
          58,
          39,
          19,
          46,
          57,
          39,
          29,
          67,
          49,
          54,
          42,
          64,
          73,
          53,
          69,
          69,
          45,
          32,
          70,
          68,
          52,
          9,
          26,
          29,
          41,
          21,
          59,
          52,
          26,
          65,
          11,
          58,
          46,
          48,
          54,
          54,
          67,
          14,
          21,
          21,
          16,
          25,
          12,
          34,
          36,
          44,
          38,
          41,
          20,
          60,
          40,
          35,
          52,
          21,
          33,
          61,
          49,
          32,
          13,
          28,
          56,
          62,
          40,
          44,
          52,
          49,
          76,
          43,
          25,
          68,
          55,
          30,
          53,
          43,
          54,
          46,
          37,
          51,
          41,
          51,
          60,
          89,
          41,
          69,
          33,
          43,
          36,
          46,
          66,
          60,
          69,
          33,
          41,
          49,
          49,
          54,
          22,
          44,
          54,
          32,
          73,
          52,
          61,
          66,
          29,
          54,
          46,
          26,
          31,
          46,
          41,
          44,
          62,
          70,
          57,
          26,
          48,
          48,
          51,
          65,
          58,
          41,
          37,
          23,
          64,
          63,
          47,
          38,
          42,
          42,
          39,
          43,
          53,
          40,
          42,
          58,
          45,
          58,
          49,
          54,
          15,
          31,
          46,
          49,
          61,
          24,
          64,
          54,
          40,
          39,
          58,
          42,
          42,
          70,
          17,
          74,
          61,
          44,
          49,
          61,
          69,
          41,
          60,
          38,
          31,
          57,
          46,
          21,
          43,
          35,
          28,
          34,
          35,
          20,
          27,
          20,
          28,
          65,
          64,
          61,
          58,
          46,
          10,
          47,
          50,
          28,
          35,
          32,
          24,
          60,
          53,
          84,
          49,
          43,
          30,
          35,
          27,
          52,
          17,
          64,
          54,
          61,
          92,
          44,
          18,
          21,
          55,
          37,
          59,
          56,
          38,
          57,
          53,
          65,
          62,
          47,
          27,
          51,
          44,
          35,
          65,
          63,
          71,
          26,
          52,
          39,
          60,
          31,
          51,
          46,
          36,
          50,
          55,
          21,
          25,
          45,
          40,
          29,
          30,
          30,
          88,
          41,
          31,
          42,
          38,
          24,
          23,
          47,
          34,
          54,
          19,
          37,
          21,
          16,
          47,
          26,
          45,
          29,
          45,
          39,
          25,
          64,
          39,
          40,
          62,
          40,
          62,
          51,
          64,
          40,
          35,
          49,
          35,
          44,
          25,
          58,
          50,
          61,
          42,
          19,
          42,
          39,
          47,
          61,
          22,
          21,
          27,
          71,
          45,
          50,
          57,
          60,
          16,
          48,
          16,
          37,
          65,
          25,
          37,
          39,
          45,
          60,
          45,
          25,
          27,
          24,
          42,
          41,
          57,
          19,
          20,
          48,
          59,
          46,
          35,
          55,
          31,
          12,
          21,
          6,
          52,
          62,
          25,
          47,
          50,
          61,
          54,
          21,
          35,
          22,
          40,
          61,
          35,
          44,
          52,
          50,
          66,
          44,
          58,
          64,
          53,
          40,
          42,
          68,
          49,
          52,
          30,
          28,
          16,
          61,
          17,
          58,
          49,
          38,
          70,
          39,
          36,
          28,
          62,
          23,
          50,
          46,
          31,
          52,
          47,
          25,
          48,
          51,
          67,
          53,
          58,
          71,
          36,
          50,
          67,
          45,
          41,
          48,
          63,
          15,
          42,
          37,
          42,
          61,
          23,
          43,
          27,
          37,
          41,
          51,
          17,
          49,
          69,
          37,
          52,
          31,
          40,
          47,
          57,
          21,
          57,
          34,
          46,
          69,
          48,
          53,
          67,
          52,
          46,
          38,
          47,
          48,
          44,
          61,
          36,
          31,
          35,
          40,
          36,
          52,
          86,
          68,
          42,
          33,
          61,
          52,
          55,
          48,
          72,
          20,
          11,
          27,
          50,
          54,
          38,
          55,
          37,
          55,
          62,
          48,
          62,
          40,
          60,
          55,
          22,
          57,
          27,
          58,
          61,
          19,
          37,
          53,
          42,
          56,
          50,
          40,
          24,
          38,
          24,
          54,
          35,
          66,
          50,
          71,
          64,
          67,
          52,
          61,
          65,
          15,
          35,
          38,
          30,
          37,
          47,
          65,
          50,
          18,
          56,
          59,
          34,
          45,
          53,
          73,
          28,
          54,
          54,
          53,
          47,
          52,
          55,
          40,
          43,
          40,
          45,
          80,
          42,
          38,
          53,
          48,
          40,
          79,
          26,
          30,
          41,
          66,
          63,
          56,
          44,
          67,
          32,
          42,
          48,
          47,
          62,
          64,
          47,
          38,
          44,
          65,
          60,
          3,
          35,
          49,
          35,
          34,
          34,
          41,
          47,
          47,
          45,
          54,
          36,
          50,
          39,
          55,
          64,
          39,
          42,
          67,
          36,
          46,
          32,
          35,
          64,
          65,
          50,
          48,
          68,
          49,
          36,
          49,
          18,
          22,
          63,
          59,
          35,
          43,
          44,
          50,
          44,
          40,
          46,
          49,
          22,
          44,
          39,
          63,
          38,
          62,
          52,
          48,
          60,
          65,
          49,
          17,
          46,
          60,
          27,
          43,
          36,
          45,
          44,
          65,
          64,
          46,
          73,
          45,
          62,
          15,
          46,
          64,
          33,
          51,
          81,
          20,
          49,
          64,
          62,
          56,
          60,
          40,
          44,
          25,
          25,
          42,
          55,
          58,
          48,
          58,
          75,
          31,
          37,
          35,
          58,
          61,
          86,
          55,
          41,
          46,
          46,
          67,
          49,
          41,
          46,
          56,
          44,
          30,
          60,
          65,
          20,
          70,
          74,
          65,
          62,
          38,
          21,
          46,
          34,
          52,
          58,
          50,
          42,
          55,
          45,
          49,
          68,
          49,
          44,
          19,
          43,
          35,
          60,
          14,
          12,
          64,
          66,
          54,
          39,
          67,
          48,
          77,
          41,
          53,
          20,
          27,
          41,
          86,
          52,
          53,
          51,
          67,
          63,
          23,
          50,
          60,
          53,
          68,
          46,
          64,
          68,
          61,
          16,
          21,
          22,
          27,
          39,
          43,
          43,
          45,
          48,
          58,
          62,
          65,
          73,
          74,
          74,
          50,
          48,
          46,
          30,
          27,
          62,
          78,
          52,
          71,
          36,
          62,
          51,
          17,
          54,
          36,
          48,
          51,
          55,
          41,
          63,
          57,
          61,
          71,
          45,
          59,
          65,
          60,
          34,
          27,
          38,
          64,
          39,
          38,
          54,
          16,
          32,
          63,
          45,
          45,
          46,
          15,
          27,
          17,
          72,
          62,
          33,
          37,
          32,
          39,
          59,
          46,
          68,
          30,
          55,
          30,
          20,
          35,
          35,
          33,
          24,
          39,
          44,
          54,
          34,
          62,
          57,
          20,
          20,
          37,
          86,
          47,
          54,
          15,
          63,
          56,
          62,
          63,
          21,
          66,
          44,
          44,
          34,
          32,
          49,
          34,
          31,
          35,
          17,
          29,
          41,
          11,
          25,
          29,
          41,
          31,
          43,
          45,
          61,
          51,
          56,
          63,
          52,
          21,
          61,
          32,
          40,
          63,
          11,
          47,
          51,
          44,
          45,
          32,
          82,
          54,
          72,
          33,
          44,
          22,
          55,
          14,
          32,
          80,
          36,
          38,
          79,
          24,
          18,
          31,
          50,
          38,
          16,
          28,
          48,
          38,
          61,
          50,
          59,
          57,
          28,
          44,
          45,
          53,
          73,
          62,
          16,
          40,
          42,
          38,
          38,
          46,
          37,
          42,
          21,
          34,
          38,
          18,
          44,
          36,
          26,
          19,
          23,
          55,
          58,
          30,
          30,
          13,
          31,
          51,
          5,
          15,
          45,
          70,
          55,
          14,
          27,
          51,
          49,
          38,
          38,
          44,
          42,
          41,
          25,
          44,
          49,
          65,
          56,
          59,
          46,
          43,
          18,
          49,
          60,
          61,
          48,
          17,
          47,
          65,
          56,
          82,
          62,
          21,
          68,
          40,
          48,
          75,
          25,
          35,
          50,
          58,
          49,
          50,
          46,
          20,
          44,
          50,
          50,
          45,
          38,
          35,
          61,
          55,
          26,
          59,
          49,
          44,
          37,
          23,
          46,
          53,
          70,
          50,
          3,
          56,
          53,
          65,
          47,
          30,
          52,
          22,
          39,
          49,
          52,
          50,
          54,
          26,
          59,
          33,
          34,
          40,
          41,
          24,
          44,
          41,
          57,
          37,
          56,
          71,
          52,
          50,
          37,
          57,
          19,
          56,
          26,
          0.016666667,
          63,
          63,
          47,
          45,
          35,
          47,
          62,
          40,
          57,
          38,
          41,
          43,
          49,
          41,
          49,
          57,
          42,
          75,
          26,
          71,
          47,
          49,
          38,
          59,
          67,
          23,
          34,
          66,
          42,
          27,
          37,
          59,
          63,
          57,
          63,
          54,
          52,
          51,
          76,
          63,
          80,
          17,
          35,
          66,
          38,
          15,
          62,
          42,
          55,
          40,
          31,
          60,
          60,
          54,
          40,
          81,
          37,
          41,
          33,
          46,
          29,
          28,
          52,
          55,
          32,
          18,
          57,
          54,
          45,
          47,
          51,
          53,
          72,
          34,
          12,
          37,
          59,
          56,
          77,
          28,
          49,
          62,
          22,
          14,
          42,
          39,
          41,
          55,
          38,
          39,
          38,
          51,
          21,
          37,
          33,
          27,
          55,
          47,
          15,
          19,
          86,
          61,
          41,
          55,
          22,
          12,
          36,
          37,
          68,
          40,
          55,
          70,
          60,
          40,
          50,
          27,
          56,
          41,
          59,
          48,
          63,
          39,
          47,
          55,
          59,
          46,
          54,
          1,
          1,
          50,
          47,
          19,
          32,
          34,
          31,
          63,
          33,
          40,
          41,
          72,
          21,
          53,
          30,
          24,
          21,
          62,
          19,
          19,
          54,
          46,
          59,
          21,
          73,
          20,
          17,
          36,
          74,
          36,
          56,
          57,
          38,
          54,
          23,
          82,
          58,
          58,
          41,
          46,
          59,
          28,
          48,
          60,
          42,
          55,
          52,
          52,
          40,
          69,
          48,
          45,
          71,
          44,
          21,
          16,
          67,
          21,
          56,
          48,
          45,
          71,
          56,
          29,
          53,
          64,
          47,
          27,
          30,
          64,
          63,
          47,
          63,
          59,
          34,
          66,
          47,
          41,
          51,
          40,
          33,
          63,
          63,
          66,
          44,
          33,
          25,
          36,
          21,
          54,
          39,
          63,
          33,
          18,
          38,
          66,
          57,
          22,
          60,
          25,
          67,
          49,
          46,
          56,
          61,
          32,
          60,
          72,
          50,
          55,
          51,
          59,
          42,
          43,
          72,
          50,
          41,
          31,
          37,
          50,
          56,
          25,
          42,
          21,
          61,
          68,
          58,
          60,
          59,
          19,
          38,
          42,
          37,
          41,
          24,
          25,
          47,
          24,
          68,
          43,
          63,
          55,
          33,
          45,
          35,
          55,
          28,
          9,
          69,
          20,
          41,
          64,
          48,
          80,
          40,
          41,
          49,
          49,
          56,
          44,
          22,
          63,
          51,
          53,
          62,
          57,
          61,
          42,
          28,
          43,
          42,
          55,
          47,
          28,
          50,
          23,
          59,
          65,
          66,
          38,
          49,
          35,
          48,
          42,
          68,
          41,
          48,
          70,
          9,
          32,
          45,
          58,
          43,
          59,
          49,
          62,
          39,
          27,
          41,
          47,
          90,
          54,
          50,
          45,
          69,
          48,
          46,
          24,
          36,
          45,
          68,
          58,
          58,
          55,
          66,
          70,
          67,
          62,
          31,
          25,
          57,
          43,
          62,
          51,
          41,
          50,
          48,
          53,
          46,
          76,
          49,
          44,
          54,
          63,
          66,
          75,
          27,
          56,
          25,
          42,
          25,
          23,
          59,
          17,
          61,
          49,
          0,
          52,
          79,
          42,
          53,
          24,
          24,
          37,
          48,
          43,
          56,
          24,
          36,
          56,
          53,
          41,
          44,
          48,
          52,
          16,
          40,
          51,
          58,
          34,
          19,
          39,
          13,
          59,
          70,
          63,
          71,
          56,
          47,
          23,
          38,
          26,
          42,
          34,
          48,
          41,
          66,
          56,
          47,
          5,
          62,
          76,
          43,
          50,
          63,
          30,
          36,
          49,
          54,
          48,
          18,
          54,
          50,
          43,
          66,
          23,
          65,
          67,
          65,
          23,
          47,
          33,
          26,
          28,
          47,
          27,
          72,
          69,
          69,
          20,
          77,
          71,
          19,
          75,
          64,
          30,
          56,
          16,
          42,
          53,
          30,
          32,
          48,
          51,
          78,
          51,
          58,
          39,
          65,
          28,
          45,
          43,
          46,
          34,
          22,
          34,
          69,
          27,
          69,
          null,
          26,
          58,
          27,
          45,
          24,
          36,
          34,
          43,
          48,
          43,
          27,
          60,
          58,
          33,
          46,
          87,
          58,
          50,
          36,
          58,
          50,
          21,
          55,
          58,
          35,
          79,
          26,
          44,
          49,
          59,
          25,
          40,
          57,
          22,
          19,
          43,
          51,
          67,
          63,
          37,
          46,
          74,
          52,
          18,
          18,
          55,
          54,
          25,
          49,
          34,
          10,
          35,
          58,
          68,
          28,
          8,
          34,
          10,
          48,
          27,
          29,
          25,
          37,
          64,
          51,
          40,
          31,
          73,
          29,
          64,
          17,
          36,
          32,
          43,
          31,
          57,
          30,
          55,
          22,
          52,
          36,
          39,
          24,
          57,
          16,
          65,
          54,
          64,
          15,
          56,
          64,
          69,
          57,
          18,
          40,
          21,
          51,
          48,
          40,
          26,
          45,
          47,
          50,
          16,
          38,
          42,
          57,
          31,
          37,
          29,
          18,
          59,
          43,
          42,
          46,
          67,
          59,
          61,
          39,
          42,
          29,
          34,
          40,
          18,
          21,
          26,
          22,
          28,
          28,
          73,
          41,
          12,
          16,
          44,
          44,
          38
         ],
         "y0": " ",
         "yaxis": "y"
        }
       ],
       "layout": {
        "boxmode": "group",
        "height": 400,
        "legend": {
         "tracegroupgap": 0
        },
        "margin": {
         "t": 60
        },
        "template": {
         "data": {
          "bar": [
           {
            "error_x": {
             "color": "#2a3f5f"
            },
            "error_y": {
             "color": "#2a3f5f"
            },
            "marker": {
             "line": {
              "color": "#E5ECF6",
              "width": 0.5
             },
             "pattern": {
              "fillmode": "overlay",
              "size": 10,
              "solidity": 0.2
             }
            },
            "type": "bar"
           }
          ],
          "barpolar": [
           {
            "marker": {
             "line": {
              "color": "#E5ECF6",
              "width": 0.5
             },
             "pattern": {
              "fillmode": "overlay",
              "size": 10,
              "solidity": 0.2
             }
            },
            "type": "barpolar"
           }
          ],
          "carpet": [
           {
            "aaxis": {
             "endlinecolor": "#2a3f5f",
             "gridcolor": "white",
             "linecolor": "white",
             "minorgridcolor": "white",
             "startlinecolor": "#2a3f5f"
            },
            "baxis": {
             "endlinecolor": "#2a3f5f",
             "gridcolor": "white",
             "linecolor": "white",
             "minorgridcolor": "white",
             "startlinecolor": "#2a3f5f"
            },
            "type": "carpet"
           }
          ],
          "choropleth": [
           {
            "colorbar": {
             "outlinewidth": 0,
             "ticks": ""
            },
            "type": "choropleth"
           }
          ],
          "contour": [
           {
            "colorbar": {
             "outlinewidth": 0,
             "ticks": ""
            },
            "colorscale": [
             [
              0,
              "#0d0887"
             ],
             [
              0.1111111111111111,
              "#46039f"
             ],
             [
              0.2222222222222222,
              "#7201a8"
             ],
             [
              0.3333333333333333,
              "#9c179e"
             ],
             [
              0.4444444444444444,
              "#bd3786"
             ],
             [
              0.5555555555555556,
              "#d8576b"
             ],
             [
              0.6666666666666666,
              "#ed7953"
             ],
             [
              0.7777777777777778,
              "#fb9f3a"
             ],
             [
              0.8888888888888888,
              "#fdca26"
             ],
             [
              1,
              "#f0f921"
             ]
            ],
            "type": "contour"
           }
          ],
          "contourcarpet": [
           {
            "colorbar": {
             "outlinewidth": 0,
             "ticks": ""
            },
            "type": "contourcarpet"
           }
          ],
          "heatmap": [
           {
            "colorbar": {
             "outlinewidth": 0,
             "ticks": ""
            },
            "colorscale": [
             [
              0,
              "#0d0887"
             ],
             [
              0.1111111111111111,
              "#46039f"
             ],
             [
              0.2222222222222222,
              "#7201a8"
             ],
             [
              0.3333333333333333,
              "#9c179e"
             ],
             [
              0.4444444444444444,
              "#bd3786"
             ],
             [
              0.5555555555555556,
              "#d8576b"
             ],
             [
              0.6666666666666666,
              "#ed7953"
             ],
             [
              0.7777777777777778,
              "#fb9f3a"
             ],
             [
              0.8888888888888888,
              "#fdca26"
             ],
             [
              1,
              "#f0f921"
             ]
            ],
            "type": "heatmap"
           }
          ],
          "heatmapgl": [
           {
            "colorbar": {
             "outlinewidth": 0,
             "ticks": ""
            },
            "colorscale": [
             [
              0,
              "#0d0887"
             ],
             [
              0.1111111111111111,
              "#46039f"
             ],
             [
              0.2222222222222222,
              "#7201a8"
             ],
             [
              0.3333333333333333,
              "#9c179e"
             ],
             [
              0.4444444444444444,
              "#bd3786"
             ],
             [
              0.5555555555555556,
              "#d8576b"
             ],
             [
              0.6666666666666666,
              "#ed7953"
             ],
             [
              0.7777777777777778,
              "#fb9f3a"
             ],
             [
              0.8888888888888888,
              "#fdca26"
             ],
             [
              1,
              "#f0f921"
             ]
            ],
            "type": "heatmapgl"
           }
          ],
          "histogram": [
           {
            "marker": {
             "pattern": {
              "fillmode": "overlay",
              "size": 10,
              "solidity": 0.2
             }
            },
            "type": "histogram"
           }
          ],
          "histogram2d": [
           {
            "colorbar": {
             "outlinewidth": 0,
             "ticks": ""
            },
            "colorscale": [
             [
              0,
              "#0d0887"
             ],
             [
              0.1111111111111111,
              "#46039f"
             ],
             [
              0.2222222222222222,
              "#7201a8"
             ],
             [
              0.3333333333333333,
              "#9c179e"
             ],
             [
              0.4444444444444444,
              "#bd3786"
             ],
             [
              0.5555555555555556,
              "#d8576b"
             ],
             [
              0.6666666666666666,
              "#ed7953"
             ],
             [
              0.7777777777777778,
              "#fb9f3a"
             ],
             [
              0.8888888888888888,
              "#fdca26"
             ],
             [
              1,
              "#f0f921"
             ]
            ],
            "type": "histogram2d"
           }
          ],
          "histogram2dcontour": [
           {
            "colorbar": {
             "outlinewidth": 0,
             "ticks": ""
            },
            "colorscale": [
             [
              0,
              "#0d0887"
             ],
             [
              0.1111111111111111,
              "#46039f"
             ],
             [
              0.2222222222222222,
              "#7201a8"
             ],
             [
              0.3333333333333333,
              "#9c179e"
             ],
             [
              0.4444444444444444,
              "#bd3786"
             ],
             [
              0.5555555555555556,
              "#d8576b"
             ],
             [
              0.6666666666666666,
              "#ed7953"
             ],
             [
              0.7777777777777778,
              "#fb9f3a"
             ],
             [
              0.8888888888888888,
              "#fdca26"
             ],
             [
              1,
              "#f0f921"
             ]
            ],
            "type": "histogram2dcontour"
           }
          ],
          "mesh3d": [
           {
            "colorbar": {
             "outlinewidth": 0,
             "ticks": ""
            },
            "type": "mesh3d"
           }
          ],
          "parcoords": [
           {
            "line": {
             "colorbar": {
              "outlinewidth": 0,
              "ticks": ""
             }
            },
            "type": "parcoords"
           }
          ],
          "pie": [
           {
            "automargin": true,
            "type": "pie"
           }
          ],
          "scatter": [
           {
            "fillpattern": {
             "fillmode": "overlay",
             "size": 10,
             "solidity": 0.2
            },
            "type": "scatter"
           }
          ],
          "scatter3d": [
           {
            "line": {
             "colorbar": {
              "outlinewidth": 0,
              "ticks": ""
             }
            },
            "marker": {
             "colorbar": {
              "outlinewidth": 0,
              "ticks": ""
             }
            },
            "type": "scatter3d"
           }
          ],
          "scattercarpet": [
           {
            "marker": {
             "colorbar": {
              "outlinewidth": 0,
              "ticks": ""
             }
            },
            "type": "scattercarpet"
           }
          ],
          "scattergeo": [
           {
            "marker": {
             "colorbar": {
              "outlinewidth": 0,
              "ticks": ""
             }
            },
            "type": "scattergeo"
           }
          ],
          "scattergl": [
           {
            "marker": {
             "colorbar": {
              "outlinewidth": 0,
              "ticks": ""
             }
            },
            "type": "scattergl"
           }
          ],
          "scattermapbox": [
           {
            "marker": {
             "colorbar": {
              "outlinewidth": 0,
              "ticks": ""
             }
            },
            "type": "scattermapbox"
           }
          ],
          "scatterpolar": [
           {
            "marker": {
             "colorbar": {
              "outlinewidth": 0,
              "ticks": ""
             }
            },
            "type": "scatterpolar"
           }
          ],
          "scatterpolargl": [
           {
            "marker": {
             "colorbar": {
              "outlinewidth": 0,
              "ticks": ""
             }
            },
            "type": "scatterpolargl"
           }
          ],
          "scatterternary": [
           {
            "marker": {
             "colorbar": {
              "outlinewidth": 0,
              "ticks": ""
             }
            },
            "type": "scatterternary"
           }
          ],
          "surface": [
           {
            "colorbar": {
             "outlinewidth": 0,
             "ticks": ""
            },
            "colorscale": [
             [
              0,
              "#0d0887"
             ],
             [
              0.1111111111111111,
              "#46039f"
             ],
             [
              0.2222222222222222,
              "#7201a8"
             ],
             [
              0.3333333333333333,
              "#9c179e"
             ],
             [
              0.4444444444444444,
              "#bd3786"
             ],
             [
              0.5555555555555556,
              "#d8576b"
             ],
             [
              0.6666666666666666,
              "#ed7953"
             ],
             [
              0.7777777777777778,
              "#fb9f3a"
             ],
             [
              0.8888888888888888,
              "#fdca26"
             ],
             [
              1,
              "#f0f921"
             ]
            ],
            "type": "surface"
           }
          ],
          "table": [
           {
            "cells": {
             "fill": {
              "color": "#EBF0F8"
             },
             "line": {
              "color": "white"
             }
            },
            "header": {
             "fill": {
              "color": "#C8D4E3"
             },
             "line": {
              "color": "white"
             }
            },
            "type": "table"
           }
          ]
         },
         "layout": {
          "annotationdefaults": {
           "arrowcolor": "#2a3f5f",
           "arrowhead": 0,
           "arrowwidth": 1
          },
          "autotypenumbers": "strict",
          "coloraxis": {
           "colorbar": {
            "outlinewidth": 0,
            "ticks": ""
           }
          },
          "colorscale": {
           "diverging": [
            [
             0,
             "#8e0152"
            ],
            [
             0.1,
             "#c51b7d"
            ],
            [
             0.2,
             "#de77ae"
            ],
            [
             0.3,
             "#f1b6da"
            ],
            [
             0.4,
             "#fde0ef"
            ],
            [
             0.5,
             "#f7f7f7"
            ],
            [
             0.6,
             "#e6f5d0"
            ],
            [
             0.7,
             "#b8e186"
            ],
            [
             0.8,
             "#7fbc41"
            ],
            [
             0.9,
             "#4d9221"
            ],
            [
             1,
             "#276419"
            ]
           ],
           "sequential": [
            [
             0,
             "#0d0887"
            ],
            [
             0.1111111111111111,
             "#46039f"
            ],
            [
             0.2222222222222222,
             "#7201a8"
            ],
            [
             0.3333333333333333,
             "#9c179e"
            ],
            [
             0.4444444444444444,
             "#bd3786"
            ],
            [
             0.5555555555555556,
             "#d8576b"
            ],
            [
             0.6666666666666666,
             "#ed7953"
            ],
            [
             0.7777777777777778,
             "#fb9f3a"
            ],
            [
             0.8888888888888888,
             "#fdca26"
            ],
            [
             1,
             "#f0f921"
            ]
           ],
           "sequentialminus": [
            [
             0,
             "#0d0887"
            ],
            [
             0.1111111111111111,
             "#46039f"
            ],
            [
             0.2222222222222222,
             "#7201a8"
            ],
            [
             0.3333333333333333,
             "#9c179e"
            ],
            [
             0.4444444444444444,
             "#bd3786"
            ],
            [
             0.5555555555555556,
             "#d8576b"
            ],
            [
             0.6666666666666666,
             "#ed7953"
            ],
            [
             0.7777777777777778,
             "#fb9f3a"
            ],
            [
             0.8888888888888888,
             "#fdca26"
            ],
            [
             1,
             "#f0f921"
            ]
           ]
          },
          "colorway": [
           "#636efa",
           "#EF553B",
           "#00cc96",
           "#ab63fa",
           "#FFA15A",
           "#19d3f3",
           "#FF6692",
           "#B6E880",
           "#FF97FF",
           "#FECB52"
          ],
          "font": {
           "color": "#2a3f5f"
          },
          "geo": {
           "bgcolor": "white",
           "lakecolor": "white",
           "landcolor": "#E5ECF6",
           "showlakes": true,
           "showland": true,
           "subunitcolor": "white"
          },
          "hoverlabel": {
           "align": "left"
          },
          "hovermode": "closest",
          "mapbox": {
           "style": "light"
          },
          "paper_bgcolor": "white",
          "plot_bgcolor": "#E5ECF6",
          "polar": {
           "angularaxis": {
            "gridcolor": "white",
            "linecolor": "white",
            "ticks": ""
           },
           "bgcolor": "#E5ECF6",
           "radialaxis": {
            "gridcolor": "white",
            "linecolor": "white",
            "ticks": ""
           }
          },
          "scene": {
           "xaxis": {
            "backgroundcolor": "#E5ECF6",
            "gridcolor": "white",
            "gridwidth": 2,
            "linecolor": "white",
            "showbackground": true,
            "ticks": "",
            "zerolinecolor": "white"
           },
           "yaxis": {
            "backgroundcolor": "#E5ECF6",
            "gridcolor": "white",
            "gridwidth": 2,
            "linecolor": "white",
            "showbackground": true,
            "ticks": "",
            "zerolinecolor": "white"
           },
           "zaxis": {
            "backgroundcolor": "#E5ECF6",
            "gridcolor": "white",
            "gridwidth": 2,
            "linecolor": "white",
            "showbackground": true,
            "ticks": "",
            "zerolinecolor": "white"
           }
          },
          "shapedefaults": {
           "line": {
            "color": "#2a3f5f"
           }
          },
          "ternary": {
           "aaxis": {
            "gridcolor": "white",
            "linecolor": "white",
            "ticks": ""
           },
           "baxis": {
            "gridcolor": "white",
            "linecolor": "white",
            "ticks": ""
           },
           "bgcolor": "#E5ECF6",
           "caxis": {
            "gridcolor": "white",
            "linecolor": "white",
            "ticks": ""
           }
          },
          "title": {
           "x": 0.05
          },
          "xaxis": {
           "automargin": true,
           "gridcolor": "white",
           "linecolor": "white",
           "ticks": "",
           "title": {
            "standoff": 15
           },
           "zerolinecolor": "white",
           "zerolinewidth": 2
          },
          "yaxis": {
           "automargin": true,
           "gridcolor": "white",
           "linecolor": "white",
           "ticks": "",
           "title": {
            "standoff": 15
           },
           "zerolinecolor": "white",
           "zerolinewidth": 2
          }
         }
        },
        "width": 800,
        "xaxis": {
         "anchor": "y",
         "domain": [
          0,
          1
         ],
         "title": {
          "text": "variable"
         }
        },
        "yaxis": {
         "anchor": "x",
         "domain": [
          0,
          1
         ],
         "title": {
          "text": "value"
         }
        }
       }
      }
     },
     "metadata": {},
     "output_type": "display_data"
    }
   ],
   "source": [
    "# 7.6 box plot 'IDADE'\n",
    "boxplot = px.box(df_febre_amarela['IDADE'], width=800, height=400)\n",
    "boxplot.show()"
   ]
  },
  {
   "cell_type": "code",
   "execution_count": 80,
   "metadata": {},
   "outputs": [
    {
     "name": "stdout",
     "output_type": "stream",
     "text": [
      "Quarto inferior (Q1)......: 30.0\n",
      "Quarto superior (Q3)......: 55.0\n",
      "Dispersão entre os quartos: 25.0\n",
      "\n",
      "Outlier menor: -7.5\n",
      "Outlier maior: 92.5\n"
     ]
    }
   ],
   "source": [
    "# converter valores da coluna 'IDADE' para float\n",
    "df_febre_amarela['IDADE'] = pd.to_numeric(df_febre_amarela['IDADE'], errors='coerce')\n",
    "\n",
    "# calcular os quartos\n",
    "quarto_inferior = df_febre_amarela['IDADE'].quantile(0.25)\n",
    "quarto_superior = df_febre_amarela['IDADE'].quantile(0.75)\n",
    "\n",
    "# calcular a dispersão entre os quartos\n",
    "fs = quarto_superior - quarto_inferior\n",
    "\n",
    "print(f'Quarto inferior (Q1)......: {quarto_inferior}')\n",
    "print(f'Quarto superior (Q3)......: {quarto_superior}')\n",
    "print(f'Dispersão entre os quartos: {fs}')\n",
    "\n",
    "# verificar se possui outliers\n",
    "outlier_menor = quarto_inferior - (1.5 * fs)\n",
    "outlier_maior = quarto_superior + (1.5 * fs)\n",
    "\n",
    "print(f'\\nOutlier menor: {outlier_menor}')\n",
    "print(f'Outlier maior: {outlier_maior}')"
   ]
  },
  {
   "cell_type": "code",
   "execution_count": 81,
   "metadata": {},
   "outputs": [
    {
     "name": "stdout",
     "output_type": "stream",
     "text": [
      "Variância amostral: 276\n",
      "Desvio Padrão.....: 17\n"
     ]
    }
   ],
   "source": [
    "# variancia amostral da coluna 'IDADE'\n",
    "variancia_amostral = df_febre_amarela['IDADE'].var()\n",
    "\n",
    "# desvio padrão da coluna 'IDADE'\n",
    "desvio_amostral = df_febre_amarela['IDADE'].std()\n",
    "\n",
    "print(f'Variância amostral: {variancia_amostral:.0f}')\n",
    "print(f'Desvio Padrão.....: {desvio_amostral:.0f}')"
   ]
  }
 ],
 "metadata": {
  "kernelspec": {
   "display_name": "Python 3",
   "language": "python",
   "name": "python3"
  },
  "language_info": {
   "codemirror_mode": {
    "name": "ipython",
    "version": 3
   },
   "file_extension": ".py",
   "mimetype": "text/x-python",
   "name": "python",
   "nbconvert_exporter": "python",
   "pygments_lexer": "ipython3",
   "version": "3.12.3"
  }
 },
 "nbformat": 4,
 "nbformat_minor": 2
}
